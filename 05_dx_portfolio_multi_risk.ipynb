{
 "metadata": {
  "name": "",
  "signature": "sha256:148d049639baca5581791061338bd5434c3392b808cef6461015043165aaa9d7"
 },
 "nbformat": 3,
 "nbformat_minor": 0,
 "worksheets": [
  {
   "cells": [
    {
     "cell_type": "markdown",
     "metadata": {},
     "source": [
      "<img src=\"http://hilpisch.com/tpq_logo.png\" alt=\"The Python Quants\" width=\"45%\" align=\"right\" border=\"4\">"
     ]
    },
    {
     "cell_type": "heading",
     "level": 1,
     "metadata": {},
     "source": [
      "Multi-Risk Derivatives Portfolios"
     ]
    },
    {
     "cell_type": "markdown",
     "metadata": {},
     "source": [
      "The step from multi-risk derivatives instruments to multi-risk derivatives instrument portfolios is not a too large one. This part of the tutorial shows how to model an economy with three risk factors"
     ]
    },
    {
     "cell_type": "code",
     "collapsed": false,
     "input": [
      "from dx import *"
     ],
     "language": "python",
     "metadata": {},
     "outputs": [],
     "prompt_number": 1
    },
    {
     "cell_type": "heading",
     "level": 2,
     "metadata": {},
     "source": [
      "Risk Factors"
     ]
    },
    {
     "cell_type": "markdown",
     "metadata": {},
     "source": [
      "This sub-section models the single risk factors. We start with definition of the risk-neutral discounting object."
     ]
    },
    {
     "cell_type": "code",
     "collapsed": false,
     "input": [
      "# constant short rate\n",
      "r = constant_short_rate('r', 0.02)"
     ],
     "language": "python",
     "metadata": {},
     "outputs": [],
     "prompt_number": 2
    },
    {
     "cell_type": "markdown",
     "metadata": {},
     "source": [
      "**Three risk factors** ares modeled:\n",
      "\n",
      "* geometric Brownian motion\n",
      "* jump diffusion\n",
      "* stochastic volatility process"
     ]
    },
    {
     "cell_type": "code",
     "collapsed": false,
     "input": [
      "# market environments\n",
      "me_gbm = market_environment('gbm', dt.datetime(2015, 1, 1))\n",
      "me_jd = market_environment('jd', dt.datetime(2015, 1, 1))\n",
      "me_sv = market_environment('sv', dt.datetime(2015, 1, 1))"
     ],
     "language": "python",
     "metadata": {},
     "outputs": [],
     "prompt_number": 3
    },
    {
     "cell_type": "markdown",
     "metadata": {},
     "source": [
      "Assumptions for the `geometric_brownian_motion` object."
     ]
    },
    {
     "cell_type": "code",
     "collapsed": false,
     "input": [
      "# geometric Brownian motion\n",
      "me_gbm.add_constant('initial_value', 36.)\n",
      "me_gbm.add_constant('volatility', 0.2) \n",
      "me_gbm.add_constant('currency', 'EUR')\n",
      "me_gbm.add_constant('model', 'gbm')"
     ],
     "language": "python",
     "metadata": {},
     "outputs": [],
     "prompt_number": 4
    },
    {
     "cell_type": "markdown",
     "metadata": {},
     "source": [
      "Assumptions for the `jump_diffusion` object."
     ]
    },
    {
     "cell_type": "code",
     "collapsed": false,
     "input": [
      "# jump diffusion\n",
      "me_jd.add_constant('initial_value', 36.)\n",
      "me_jd.add_constant('volatility', 0.2)\n",
      "me_jd.add_constant('lambda', 0.5)\n",
      "    # probability for jump p.a.\n",
      "me_jd.add_constant('mu', -0.75)\n",
      "    # expected jump size [%]\n",
      "me_jd.add_constant('delta', 0.1)\n",
      "    # volatility of jump\n",
      "me_jd.add_constant('currency', 'EUR')\n",
      "me_jd.add_constant('model', 'jd')"
     ],
     "language": "python",
     "metadata": {},
     "outputs": [],
     "prompt_number": 5
    },
    {
     "cell_type": "markdown",
     "metadata": {},
     "source": [
      "Assumptions for the `stochastic_volatility` object."
     ]
    },
    {
     "cell_type": "code",
     "collapsed": false,
     "input": [
      "# stochastic volatility model\n",
      "me_sv.add_constant('initial_value', 36.)\n",
      "me_sv.add_constant('volatility', 0.2)\n",
      "me_sv.add_constant('vol_vol', 0.1)\n",
      "me_sv.add_constant('kappa', 2.5)\n",
      "me_sv.add_constant('theta', 0.4)\n",
      "me_sv.add_constant('rho', -0.5)\n",
      "me_sv.add_constant('currency', 'EUR')\n",
      "me_sv.add_constant('model', 'sv')"
     ],
     "language": "python",
     "metadata": {},
     "outputs": [],
     "prompt_number": 6
    },
    {
     "cell_type": "markdown",
     "metadata": {},
     "source": [
      "Finally, the unifying valuation assumption for the **valuation environment**."
     ]
    },
    {
     "cell_type": "code",
     "collapsed": false,
     "input": [
      "# valuation environment\n",
      "val_env = market_environment('val_env', dt.datetime(2015, 1, 1))\n",
      "val_env.add_constant('paths', 10000)\n",
      "val_env.add_constant('frequency', 'W')\n",
      "val_env.add_curve('discount_curve', r)\n",
      "val_env.add_constant('starting_date', dt.datetime(2015, 1, 1))\n",
      "val_env.add_constant('final_date', dt.datetime(2015, 12, 31))"
     ],
     "language": "python",
     "metadata": {},
     "outputs": [],
     "prompt_number": 7
    },
    {
     "cell_type": "markdown",
     "metadata": {},
     "source": [
      "These are added to the single `market_environment` objects of the risk factors."
     ]
    },
    {
     "cell_type": "code",
     "collapsed": false,
     "input": [
      "# add valuation environment to market environments\n",
      "me_gbm.add_environment(val_env)\n",
      "me_jd.add_environment(val_env)\n",
      "me_sv.add_environment(val_env)"
     ],
     "language": "python",
     "metadata": {},
     "outputs": [],
     "prompt_number": 8
    },
    {
     "cell_type": "markdown",
     "metadata": {},
     "source": [
      "Finally, the **market model** with the risk factors and the correlations between them."
     ]
    },
    {
     "cell_type": "code",
     "collapsed": false,
     "input": [
      "risk_factors = {'gbm' : me_gbm, 'jd' : me_jd, 'sv' : me_sv}\n",
      "correlations = [['gbm', 'jd', 0.66], ['jd', 'sv', -0.75]]"
     ],
     "language": "python",
     "metadata": {},
     "outputs": [],
     "prompt_number": 9
    },
    {
     "cell_type": "heading",
     "level": 2,
     "metadata": {},
     "source": [
      "Derivatives"
     ]
    },
    {
     "cell_type": "markdown",
     "metadata": {},
     "source": [
      "In this sub-section, we model the single derivatives instruments."
     ]
    },
    {
     "cell_type": "heading",
     "level": 3,
     "metadata": {},
     "source": [
      "American Put Option"
     ]
    },
    {
     "cell_type": "markdown",
     "metadata": {},
     "source": [
      "The first derivative instrument is an **American put option**."
     ]
    },
    {
     "cell_type": "code",
     "collapsed": false,
     "input": [
      "gbm = geometric_brownian_motion('gbm_obj', me_gbm)"
     ],
     "language": "python",
     "metadata": {},
     "outputs": [],
     "prompt_number": 10
    },
    {
     "cell_type": "code",
     "collapsed": false,
     "input": [
      "me_put = market_environment('put', dt.datetime(2015, 1, 1))\n",
      "me_put.add_constant('maturity', dt.datetime(2015, 12, 31))\n",
      "me_put.add_constant('strike', 40.)\n",
      "me_put.add_constant('currency', 'EUR')\n",
      "me_put.add_environment(val_env)"
     ],
     "language": "python",
     "metadata": {},
     "outputs": [],
     "prompt_number": 11
    },
    {
     "cell_type": "code",
     "collapsed": false,
     "input": [
      "am_put = valuation_mcs_american_single('am_put', mar_env=me_put, underlying=gbm,\n",
      "                       payoff_func='np.maximum(strike - instrument_values, 0)')"
     ],
     "language": "python",
     "metadata": {},
     "outputs": [],
     "prompt_number": 12
    },
    {
     "cell_type": "code",
     "collapsed": false,
     "input": [
      "am_put.present_value(fixed_seed=True, bf=5)"
     ],
     "language": "python",
     "metadata": {},
     "outputs": [
      {
       "metadata": {},
       "output_type": "pyout",
       "prompt_number": 13,
       "text": [
        "5.012"
       ]
      }
     ],
     "prompt_number": 13
    },
    {
     "cell_type": "heading",
     "level": 3,
     "metadata": {},
     "source": [
      "European Maximum Call on 2 Assets"
     ]
    },
    {
     "cell_type": "markdown",
     "metadata": {},
     "source": [
      "The second derivative instrument is a **European maximum call option on two risk factors**."
     ]
    },
    {
     "cell_type": "code",
     "collapsed": false,
     "input": [
      "jd = jump_diffusion('jd_obj', me_jd)"
     ],
     "language": "python",
     "metadata": {},
     "outputs": [],
     "prompt_number": 14
    },
    {
     "cell_type": "code",
     "collapsed": false,
     "input": [
      "me_max_call = market_environment('put', dt.datetime(2015, 1, 1))\n",
      "me_max_call.add_constant('maturity', dt.datetime(2015, 9, 15))\n",
      "me_max_call.add_constant('currency', 'EUR')\n",
      "me_max_call.add_environment(val_env)"
     ],
     "language": "python",
     "metadata": {},
     "outputs": [],
     "prompt_number": 15
    },
    {
     "cell_type": "code",
     "collapsed": false,
     "input": [
      "payoff_call = \"np.maximum(np.maximum(maturity_value['gbm'], maturity_value['jd']) - 34., 0)\""
     ],
     "language": "python",
     "metadata": {},
     "outputs": [],
     "prompt_number": 16
    },
    {
     "cell_type": "code",
     "collapsed": false,
     "input": [
      "assets = {'gbm' : me_gbm, 'jd' : me_jd}\n",
      "asset_corr = [correlations[0]]"
     ],
     "language": "python",
     "metadata": {},
     "outputs": [],
     "prompt_number": 17
    },
    {
     "cell_type": "code",
     "collapsed": false,
     "input": [
      "asset_corr"
     ],
     "language": "python",
     "metadata": {},
     "outputs": [
      {
       "metadata": {},
       "output_type": "pyout",
       "prompt_number": 18,
       "text": [
        "[['gbm', 'jd', 0.66]]"
       ]
      }
     ],
     "prompt_number": 18
    },
    {
     "cell_type": "code",
     "collapsed": false,
     "input": [
      "max_call = valuation_mcs_european_multi('max_call', me_max_call, assets, asset_corr,\n",
      "        payoff_func=payoff_call)"
     ],
     "language": "python",
     "metadata": {},
     "outputs": [],
     "prompt_number": 19
    },
    {
     "cell_type": "code",
     "collapsed": false,
     "input": [
      "max_call.present_value(fixed_seed=False)"
     ],
     "language": "python",
     "metadata": {},
     "outputs": [
      {
       "metadata": {},
       "output_type": "pyout",
       "prompt_number": 20,
       "text": [
        "8.334"
       ]
      }
     ],
     "prompt_number": 20
    },
    {
     "cell_type": "code",
     "collapsed": false,
     "input": [
      "max_call.delta('jd')"
     ],
     "language": "python",
     "metadata": {},
     "outputs": [
      {
       "metadata": {},
       "output_type": "pyout",
       "prompt_number": 21,
       "text": [
        "0.7597222222222231"
       ]
      }
     ],
     "prompt_number": 21
    },
    {
     "cell_type": "code",
     "collapsed": false,
     "input": [
      "max_call.delta('gbm')"
     ],
     "language": "python",
     "metadata": {},
     "outputs": [
      {
       "metadata": {},
       "output_type": "pyout",
       "prompt_number": 22,
       "text": [
        "0.2819444444444461"
       ]
      }
     ],
     "prompt_number": 22
    },
    {
     "cell_type": "heading",
     "level": 3,
     "metadata": {},
     "source": [
      "American Minimum Put on 2 Assets"
     ]
    },
    {
     "cell_type": "markdown",
     "metadata": {},
     "source": [
      "The third derivative instrument is an **American minimum put on two risk factors**."
     ]
    },
    {
     "cell_type": "code",
     "collapsed": false,
     "input": [
      "sv = stochastic_volatility('sv_obj', me_sv)"
     ],
     "language": "python",
     "metadata": {},
     "outputs": [],
     "prompt_number": 23
    },
    {
     "cell_type": "code",
     "collapsed": false,
     "input": [
      "me_min_put = market_environment('min_put', dt.datetime(2015, 1, 1))\n",
      "me_min_put.add_constant('maturity', dt.datetime(2015, 6, 17))\n",
      "me_min_put.add_constant('currency', 'EUR')\n",
      "me_min_put.add_environment(val_env)"
     ],
     "language": "python",
     "metadata": {},
     "outputs": [],
     "prompt_number": 24
    },
    {
     "cell_type": "code",
     "collapsed": false,
     "input": [
      "payoff_put = \"np.maximum(32. - np.minimum(instrument_values['jd'], instrument_values['sv']), 0)\""
     ],
     "language": "python",
     "metadata": {},
     "outputs": [],
     "prompt_number": 25
    },
    {
     "cell_type": "code",
     "collapsed": false,
     "input": [
      "assets = {'jd' : me_jd, 'sv' : me_sv}\n",
      "asset_corr = [correlations[1]]\n",
      "asset_corr"
     ],
     "language": "python",
     "metadata": {},
     "outputs": [
      {
       "metadata": {},
       "output_type": "pyout",
       "prompt_number": 26,
       "text": [
        "[['jd', 'sv', -0.75]]"
       ]
      }
     ],
     "prompt_number": 26
    },
    {
     "cell_type": "code",
     "collapsed": false,
     "input": [
      "min_put = valuation_mcs_american_multi(\n",
      "                'min_put', val_env=me_min_put, risk_factors=assets,\n",
      "                correlations=asset_corr, payoff_func=payoff_put)"
     ],
     "language": "python",
     "metadata": {},
     "outputs": [],
     "prompt_number": 27
    },
    {
     "cell_type": "code",
     "collapsed": false,
     "input": [
      "min_put.present_value(fixed_seed=True)"
     ],
     "language": "python",
     "metadata": {},
     "outputs": [
      {
       "metadata": {},
       "output_type": "pyout",
       "prompt_number": 28,
       "text": [
        "4.302"
       ]
      }
     ],
     "prompt_number": 28
    },
    {
     "cell_type": "code",
     "collapsed": false,
     "input": [
      "min_put.delta('jd')"
     ],
     "language": "python",
     "metadata": {},
     "outputs": [
      {
       "metadata": {},
       "output_type": "pyout",
       "prompt_number": 29,
       "text": [
        "-0.1083333333333325"
       ]
      }
     ],
     "prompt_number": 29
    },
    {
     "cell_type": "code",
     "collapsed": false,
     "input": [
      "min_put.delta('sv')"
     ],
     "language": "python",
     "metadata": {},
     "outputs": [
      {
       "metadata": {},
       "output_type": "pyout",
       "prompt_number": 30,
       "text": [
        "-0.21944444444444372"
       ]
      }
     ],
     "prompt_number": 30
    },
    {
     "cell_type": "heading",
     "level": 2,
     "metadata": {},
     "source": [
      "Portfolio"
     ]
    },
    {
     "cell_type": "markdown",
     "metadata": {},
     "source": [
      "To compose a derivatives portfolio, `derivatives_position` objects are needed."
     ]
    },
    {
     "cell_type": "code",
     "collapsed": false,
     "input": [
      "am_put_pos = derivatives_position(\n",
      "                    name='am_put_pos',\n",
      "                    quantity=2,\n",
      "                    underlyings=['gbm'],\n",
      "                    mar_env=me_put,\n",
      "                    otype='American single',\n",
      "                    payoff_func='np.maximum(instrument_values - 36., 0)')"
     ],
     "language": "python",
     "metadata": {},
     "outputs": [],
     "prompt_number": 31
    },
    {
     "cell_type": "code",
     "collapsed": false,
     "input": [
      "max_call_pos = derivatives_position(\n",
      "                    'max_call_pos', 3, ['gbm', 'jd'],\n",
      "                    me_max_call, 'European multi',\n",
      "                    payoff_call)"
     ],
     "language": "python",
     "metadata": {},
     "outputs": [],
     "prompt_number": 32
    },
    {
     "cell_type": "code",
     "collapsed": false,
     "input": [
      "min_put_pos = derivatives_position(\n",
      "                    'min_put_pos', 5, ['sv', 'jd'],\n",
      "                    me_min_put, 'American multi',\n",
      "                    payoff_put)"
     ],
     "language": "python",
     "metadata": {},
     "outputs": [],
     "prompt_number": 33
    },
    {
     "cell_type": "markdown",
     "metadata": {},
     "source": [
      "These objects are to be collected in `dictionary` objects."
     ]
    },
    {
     "cell_type": "code",
     "collapsed": false,
     "input": [
      "positions = {'am_put_pos' : am_put_pos, 'max_call_pos' : max_call_pos,\n",
      "             'min_put_pos' : min_put_pos}"
     ],
     "language": "python",
     "metadata": {},
     "outputs": [],
     "prompt_number": 34
    },
    {
     "cell_type": "markdown",
     "metadata": {},
     "source": [
      "All is together to instantiate the `derivatives_portfolio` class."
     ]
    },
    {
     "cell_type": "code",
     "collapsed": false,
     "input": [
      "port = derivatives_portfolio(name='portfolio',\n",
      "                             positions=positions,\n",
      "                             val_env=val_env,\n",
      "                             risk_factors=risk_factors,\n",
      "                             correlations=correlations)"
     ],
     "language": "python",
     "metadata": {},
     "outputs": [],
     "prompt_number": 35
    },
    {
     "cell_type": "markdown",
     "metadata": {},
     "source": [
      "Let us have a look at the major **portfolio statistics**."
     ]
    },
    {
     "cell_type": "code",
     "collapsed": false,
     "input": [
      "%time stats = port.get_statistics()\n",
      "stats"
     ],
     "language": "python",
     "metadata": {},
     "outputs": [
      {
       "output_type": "stream",
       "stream": "stdout",
       "text": [
        "Totals\n",
        "pos_value    51.764\n",
        "dtype: float64\n",
        "CPU times: user 2.9 s, sys: 4 ms, total: 2.9 s\n",
        "Wall time: 2.91 s\n"
       ]
      },
      {
       "html": [
        "<div style=\"max-height:1000px;max-width:1500px;overflow:auto;\">\n",
        "<table border=\"1\" class=\"dataframe\">\n",
        "  <thead>\n",
        "    <tr style=\"text-align: right;\">\n",
        "      <th></th>\n",
        "      <th>position</th>\n",
        "      <th>name</th>\n",
        "      <th>quantity</th>\n",
        "      <th>otype</th>\n",
        "      <th>risk_facts</th>\n",
        "      <th>value</th>\n",
        "      <th>currency</th>\n",
        "      <th>pos_value</th>\n",
        "      <th>pos_delta</th>\n",
        "      <th>pos_vega</th>\n",
        "    </tr>\n",
        "  </thead>\n",
        "  <tbody>\n",
        "    <tr>\n",
        "      <th>0</th>\n",
        "      <td> max_call_pos</td>\n",
        "      <td> max_call_pos</td>\n",
        "      <td> 3</td>\n",
        "      <td>  European multi</td>\n",
        "      <td> [gbm, jd]</td>\n",
        "      <td> 8.165</td>\n",
        "      <td> EUR</td>\n",
        "      <td> 24.495</td>\n",
        "      <td>  {'jd': 2.266667, 'gbm': 0.866667}</td>\n",
        "      <td> {'jd': 10.5, 'gbm': 15.0}</td>\n",
        "    </tr>\n",
        "    <tr>\n",
        "      <th>1</th>\n",
        "      <td>   am_put_pos</td>\n",
        "      <td>   am_put_pos</td>\n",
        "      <td> 2</td>\n",
        "      <td> American single</td>\n",
        "      <td>     [gbm]</td>\n",
        "      <td> 3.182</td>\n",
        "      <td> EUR</td>\n",
        "      <td>  6.364</td>\n",
        "      <td>                             1.2166</td>\n",
        "      <td>                      30.4</td>\n",
        "    </tr>\n",
        "    <tr>\n",
        "      <th>2</th>\n",
        "      <td>  min_put_pos</td>\n",
        "      <td>  min_put_pos</td>\n",
        "      <td> 5</td>\n",
        "      <td>  American multi</td>\n",
        "      <td>  [sv, jd]</td>\n",
        "      <td> 4.181</td>\n",
        "      <td> EUR</td>\n",
        "      <td> 20.905</td>\n",
        "      <td> {'jd': -0.618056, 'sv': -1.180556}</td>\n",
        "      <td>  {'jd': 10.0, 'sv': 10.0}</td>\n",
        "    </tr>\n",
        "  </tbody>\n",
        "</table>\n",
        "</div>"
       ],
       "metadata": {},
       "output_type": "pyout",
       "prompt_number": 36,
       "text": [
        "       position          name  quantity            otype risk_facts  value  \\\n",
        "0  max_call_pos  max_call_pos         3   European multi  [gbm, jd]  8.165   \n",
        "1    am_put_pos    am_put_pos         2  American single      [gbm]  3.182   \n",
        "2   min_put_pos   min_put_pos         5   American multi   [sv, jd]  4.181   \n",
        "\n",
        "  currency  pos_value                           pos_delta  \\\n",
        "0      EUR     24.495   {'jd': 2.266667, 'gbm': 0.866667}   \n",
        "1      EUR      6.364                              1.2166   \n",
        "2      EUR     20.905  {'jd': -0.618056, 'sv': -1.180556}   \n",
        "\n",
        "                    pos_vega  \n",
        "0  {'jd': 10.5, 'gbm': 15.0}  \n",
        "1                       30.4  \n",
        "2   {'jd': 10.0, 'sv': 10.0}  "
       ]
      }
     ],
     "prompt_number": 36
    },
    {
     "cell_type": "code",
     "collapsed": false,
     "input": [
      "stats['pos_value'].sum()"
     ],
     "language": "python",
     "metadata": {},
     "outputs": [
      {
       "metadata": {},
       "output_type": "pyout",
       "prompt_number": 37,
       "text": [
        "51.763999999999996"
       ]
      }
     ],
     "prompt_number": 37
    },
    {
     "cell_type": "markdown",
     "metadata": {},
     "source": [
      "Finally, a graphical look at **two selected, simulated paths** of the stochastic volatility risk factor and the jump diffusion risk factor, respectively."
     ]
    },
    {
     "cell_type": "code",
     "collapsed": false,
     "input": [
      "path_no = 1\n",
      "paths1 = port.underlying_objects['sv'].get_instrument_values()[:, path_no]\n",
      "paths2 = port.underlying_objects['jd'].get_instrument_values()[:, path_no]"
     ],
     "language": "python",
     "metadata": {},
     "outputs": [],
     "prompt_number": 38
    },
    {
     "cell_type": "code",
     "collapsed": false,
     "input": [
      "paths1"
     ],
     "language": "python",
     "metadata": {},
     "outputs": [
      {
       "metadata": {},
       "output_type": "pyout",
       "prompt_number": 39,
       "text": [
        "array([ 36.        ,  36.34884124,  34.9130166 ,  36.31001777,\n",
        "        34.85894675,  35.63213975,  39.0707393 ,  44.35899961,\n",
        "        44.47413556,  43.13168786,  47.48647475,  46.27393881,\n",
        "        43.49655379,  47.23009583,  49.53908109,  43.71731937,\n",
        "        51.76008829,  52.58524036,  54.2573447 ,  51.6460015 ,\n",
        "        44.28088435,  39.01540236,  32.91109921,  30.24790867,\n",
        "        29.61667412,  31.76473582,  27.30258542,  28.39127869,\n",
        "        28.23333544,  27.08972766,  27.32993764,  28.65926992,\n",
        "        26.9785575 ,  31.8938528 ,  34.58971037,  32.7699367 ,\n",
        "        29.35365969,  28.66856698,  31.14196767,  31.37051847,\n",
        "        30.10832392,  33.11928276,  34.48108709,  32.97416103,\n",
        "        28.08648082,  26.52705819,  21.57771857,  20.42912064,\n",
        "        20.99231801,  19.23163105,  21.37234395,  20.80944619,\n",
        "        20.73301676,  20.79953889,  20.34822548,  18.69820953])"
       ]
      }
     ],
     "prompt_number": 39
    },
    {
     "cell_type": "code",
     "collapsed": false,
     "input": [
      "paths2"
     ],
     "language": "python",
     "metadata": {},
     "outputs": [
      {
       "metadata": {},
       "output_type": "pyout",
       "prompt_number": 40,
       "text": [
        "array([ 36.        ,  36.09036184,  37.30618631,  36.53472814,\n",
        "        36.79572901,  36.66944957,  35.56227649,  33.3644349 ,\n",
        "        33.42674479,  34.22659123,  32.22562864,  33.05209641,\n",
        "        33.82798732,  33.20431052,  33.78753542,  36.17164509,\n",
        "        33.76072474,  33.00278459,  32.79744011,  33.50195594,\n",
        "        34.40874205,  34.57037634,  37.00098086,  37.7309694 ,\n",
        "        38.32223737,  38.2477447 ,  39.92233666,  39.6591103 ,\n",
        "        39.43998269,  39.88306801,  40.35338195,  40.23418088,\n",
        "        41.48106905,  39.66194269,  39.32622142,  39.48978055,\n",
        "        40.67396363,  40.76122376,  40.00499204,  39.725126  ,\n",
        "        40.05448393,  39.06546207,  37.674332  ,  38.48264394,\n",
        "        40.86222422,  41.3749628 ,  44.02458974,  45.32751049,\n",
        "        44.704871  ,  45.06224883,  43.38741804,  43.68855748,\n",
        "        44.75023229,  45.4285521 ,  45.27511078,  45.68070094])"
       ]
      }
     ],
     "prompt_number": 40
    },
    {
     "cell_type": "markdown",
     "metadata": {},
     "source": [
      "The resulting plot illustrates the strong **negative correlation**."
     ]
    },
    {
     "cell_type": "code",
     "collapsed": false,
     "input": [
      "import matplotlib.pyplot as plt\n",
      "%matplotlib inline\n",
      "plt.plot(port.time_grid, paths1, 'r', label='sv')\n",
      "plt.plot(port.time_grid, paths2, 'b', label='jd')\n",
      "plt.gcf().autofmt_xdate()\n",
      "plt.legend(loc=0); plt.grid(True)\n",
      "# negatively correlated underlyings"
     ],
     "language": "python",
     "metadata": {},
     "outputs": [
      {
       "metadata": {},
       "output_type": "display_data",
       "png": "[encoded data removed]",
       "text": [
        "<matplotlib.figure.Figure at 0x7f3673ea3e50>"
       ]
      }
     ],
     "prompt_number": 41
    },
    {
     "cell_type": "markdown",
     "metadata": {},
     "source": [
      "**Copyright, License & Disclaimer**\n",
      "\n",
      "&copy; Dr. Yves J. Hilpisch | The Python Quants GmbH\n",
      "\n",
      "DX Analytics (the \"dx library\") is licensed under the GNU Affero General Public License\n",
      "version 3 or later (see <a href=\"http://www.gnu.org/licenses/\" target=\"_blank\">http://www.gnu.org/licenses/</a>).\n",
      "\n",
      "DX Analytics comes with no representations\n",
      "or warranties, to the extent permitted by applicable law.\n",
      "\n",
      "\n",
      "<img src=\"http://hilpisch.com/tpq_logo.png\" alt=\"The Python Quants\" width=\"35%\" align=\"right\" border=\"0\"><br>\n",
      "\n",
      "<a href=\"http://www.pythonquants.com\" target=\"_blank\">http://www.pythonquants.com</a> | <a href=\"mailto:analytics@pythonquants.com\">analytics@pythonquants.com</a> | <a href=\"http://twitter.com/dyjh\" target=\"_blank\">http://twitter.com/dyjh</a>\n",
      "\n",
      "**Python Quant Platform** |\n",
      "<a href=\"http://quant-platform.com\">http://quant-platform.com</a>\n",
      "\n",
      "**Derivatives Analytics with Python (Wiley Finance)** |\n",
      "<a href=\"http://derivatives-analytics-with-python.com\" target=\"_blank\">http://derivatives-analytics-with-python.com</a>\n",
      "\n",
      "**Python for Finance (O'Reilly)** |\n",
      "<a href=\"http://shop.oreilly.com/product/0636920032441.do\" target=\"_blank\">http://shop.oreilly.com/product/0636920032441.do</a>"
     ]
    }
   ],
   "metadata": {}
  }
 ]
}