{
 "metadata": {
  "name": "",
  "signature": "sha256:7ef6a129a00cc02b0247ba653deb0ac5e8d3ec354f34b54452fda414fbdd8a5d"
 },
 "nbformat": 3,
 "nbformat_minor": 0,
 "worksheets": [
  {
   "cells": [
    {
     "cell_type": "markdown",
     "metadata": {},
     "source": [
      "<img src=\"http://hilpisch.com/tpq_logo.png\" alt=\"The Python Quants\" width=\"45%\" align=\"right\" border=\"4\">"
     ]
    },
    {
     "cell_type": "heading",
     "level": 1,
     "metadata": {},
     "source": [
      "Stochastic Short Rates"
     ]
    },
    {
     "cell_type": "code",
     "collapsed": false,
     "input": [
      "from dx import *"
     ],
     "language": "python",
     "metadata": {},
     "outputs": [],
     "prompt_number": 1
    },
    {
     "cell_type": "code",
     "collapsed": false,
     "input": [
      "me = market_environment(name='me', pricing_date=dt.datetime(2015, 1, 1))\n",
      "me.add_constant('initial_value', 0.01)\n",
      "me.add_constant('volatility', 0.1)\n",
      "me.add_constant('kappa', 2.0)\n",
      "me.add_constant('theta', 0.05)\n",
      "me.add_constant('paths', 1000)\n",
      "me.add_constant('frequency', 'M')\n",
      "me.add_constant('starting_date', me.pricing_date)\n",
      "me.add_constant('final_date', dt.datetime(2015, 12, 31))\n",
      "me.add_curve('discount_curve', 0.0)  # dummy\n",
      "me.add_constant('currency', 0.0)  # dummy"
     ],
     "language": "python",
     "metadata": {},
     "outputs": [],
     "prompt_number": 2
    },
    {
     "cell_type": "code",
     "collapsed": false,
     "input": [
      "ssr = stochastic_short_rate('sr', me)"
     ],
     "language": "python",
     "metadata": {},
     "outputs": [],
     "prompt_number": 3
    },
    {
     "cell_type": "code",
     "collapsed": false,
     "input": [
      "time_list = [dt.datetime(2015, 1, 1),\n",
      "             dt.datetime(2015, 4, 1),\n",
      "             dt.datetime(2015, 6, 15),\n",
      "             dt.datetime(2015, 10, 21)]"
     ],
     "language": "python",
     "metadata": {},
     "outputs": [],
     "prompt_number": 4
    },
    {
     "cell_type": "code",
     "collapsed": false,
     "input": [
      "ssr.get_forward_rates(time_list, 10)"
     ],
     "language": "python",
     "metadata": {},
     "outputs": [
      {
       "metadata": {},
       "output_type": "pyout",
       "prompt_number": 5,
       "text": [
        "([datetime.datetime(2015, 1, 1, 0, 0),\n",
        "  datetime.datetime(2015, 4, 1, 0, 0),\n",
        "  datetime.datetime(2015, 6, 15, 0, 0),\n",
        "  datetime.datetime(2015, 10, 21, 0, 0)],\n",
        " array([[ 0.01      ,  0.01      ,  0.01      ,  0.01      ,  0.01      ,\n",
        "          0.01      ,  0.01      ,  0.01      ,  0.01      ,  0.01      ],\n",
        "        [ 0.03277202,  0.02888579,  0.02597219,  0.03437966,  0.02609197,\n",
        "          0.02668004,  0.03056627,  0.03347986,  0.02507239,  0.03336008],\n",
        "        [ 0.04847622,  0.02778153,  0.02208502,  0.03542504,  0.03381398,\n",
        "          0.02848213,  0.04861457,  0.05589349,  0.03990585,  0.04257658],\n",
        "        [ 0.05166403,  0.04121302,  0.05144506,  0.06797319,  0.02824299,\n",
        "          0.0419498 ,  0.05243283,  0.03619928,  0.02328994,  0.06677311]]))"
       ]
      }
     ],
     "prompt_number": 5
    },
    {
     "cell_type": "code",
     "collapsed": false,
     "input": [
      "ssr.get_discount_factors(time_list, 10)"
     ],
     "language": "python",
     "metadata": {},
     "outputs": [
      {
       "metadata": {},
       "output_type": "pyout",
       "prompt_number": 6,
       "text": [
        "([datetime.datetime(2015, 1, 1, 0, 0),\n",
        "  datetime.datetime(2015, 4, 1, 0, 0),\n",
        "  datetime.datetime(2015, 6, 15, 0, 0),\n",
        "  datetime.datetime(2015, 10, 21, 0, 0)],\n",
        " array([[ 0.96930155,  0.97754222,  0.97798078,  0.9696954 ,  0.97874354,\n",
        "          0.97771286,  0.96961689,  0.96977567,  0.97816125,  0.96819563],\n",
        "        [ 0.97442643,  0.98223994,  0.98232769,  0.97501559,  0.98310835,\n",
        "          0.98214428,  0.97447841,  0.97498814,  0.98239997,  0.97338523],\n",
        "        [ 0.98259442,  0.98797521,  0.98718981,  0.98203326,  0.98917777,\n",
        "          0.98772624,  0.98243814,  0.9839819 ,  0.98898026,  0.981009  ],\n",
        "        [ 1.        ,  1.        ,  1.        ,  1.        ,  1.        ,\n",
        "          1.        ,  1.        ,  1.        ,  1.        ,  1.        ]]))"
       ]
      }
     ],
     "prompt_number": 6
    },
    {
     "cell_type": "code",
     "collapsed": false,
     "input": [
      "me.add_constant('initial_value', 36.)\n",
      "me.add_constant('volatility', 0.2)\n",
      "  # time horizon for the simulation\n",
      "me.add_constant('currency', 'EUR')\n",
      "me.add_constant('frequency', 'M')\n",
      "  # monthly frequency; paramter accorind to pandas convention\n",
      "me.add_constant('paths', 10)\n",
      "  # number of paths for simulation"
     ],
     "language": "python",
     "metadata": {},
     "outputs": [],
     "prompt_number": 7
    },
    {
     "cell_type": "code",
     "collapsed": false,
     "input": [
      "r = constant_short_rate('r', 0.01)"
     ],
     "language": "python",
     "metadata": {},
     "outputs": [],
     "prompt_number": 8
    },
    {
     "cell_type": "code",
     "collapsed": false,
     "input": [
      "me.add_curve('discount_curve', ssr)"
     ],
     "language": "python",
     "metadata": {},
     "outputs": [],
     "prompt_number": 9
    },
    {
     "cell_type": "code",
     "collapsed": false,
     "input": [
      "gbm = geometric_brownian_motion('gbm', me)"
     ],
     "language": "python",
     "metadata": {},
     "outputs": [],
     "prompt_number": 10
    },
    {
     "cell_type": "code",
     "collapsed": false,
     "input": [
      "gbm.get_instrument_values()"
     ],
     "language": "python",
     "metadata": {},
     "outputs": [
      {
       "metadata": {},
       "output_type": "pyout",
       "prompt_number": 11,
       "text": [
        "array([[ 36.        ,  36.        ,  36.        ,  36.        ,\n",
        "         36.        ,  36.        ,  36.        ,  36.        ,\n",
        "         36.        ,  36.        ],\n",
        "       [ 36.8060297 ,  35.75560124,  34.98778226,  37.24953986,\n",
        "         35.01902026,  35.17279091,  36.20609756,  37.00065288,\n",
        "         34.75400748,  36.96764721],\n",
        "       [ 38.21614839,  34.16569133,  32.70350696,  36.40954077,\n",
        "         34.65561565,  33.87070953,  37.88603564,  39.58040249,\n",
        "         35.55090852,  37.35044144],\n",
        "       [ 38.47450027,  33.88999526,  34.0982215 ,  39.27489627,\n",
        "         32.69322908,  33.66728041,  38.22119959,  37.9877562 ,\n",
        "         32.97984662,  39.62076877],\n",
        "       [ 37.76574157,  33.70921262,  34.93754066,  41.4857547 ,\n",
        "         33.30286899,  34.3470077 ,  38.48001428,  37.12512733,\n",
        "         31.26650887,  38.95014155],\n",
        "       [ 41.40824335,  32.65237919,  34.18828508,  39.57699414,\n",
        "         36.64649108,  31.39011407,  39.80780981,  38.01482674,\n",
        "         32.84186281,  35.46744615],\n",
        "       [ 41.32002568,  32.83888512,  33.57945454,  39.52883894,\n",
        "         36.05892171,  31.53555452,  39.68092784,  38.79866413,\n",
        "         32.96181069,  36.13177382],\n",
        "       [ 46.41216195,  32.72457065,  32.48000699,  35.96872893,\n",
        "         38.02757568,  28.16218767,  39.93935721,  40.23115152,\n",
        "         36.33000552,  34.36135112],\n",
        "       [ 43.76336092,  34.05939936,  38.16985125,  37.76248586,\n",
        "         35.7087264 ,  29.96841401,  38.50269177,  34.34515834,\n",
        "         34.71596345,  36.71192144],\n",
        "       [ 43.41102129,  33.28842046,  37.53369604,  35.44705255,\n",
        "         34.25211077,  30.3159961 ,  39.53272861,  35.04339421,\n",
        "         37.10939043,  38.4034044 ],\n",
        "       [ 50.70091956,  35.54130837,  33.67719457,  34.15617789,\n",
        "         36.58057258,  26.05844606,  37.16975856,  39.1972456 ,\n",
        "         38.65893079,  36.09388287],\n",
        "       [ 51.40881852,  33.92751964,  30.54827552,  36.53604564,\n",
        "         38.97303122,  25.80445233,  39.08967422,  43.37205968,\n",
        "         36.28052847,  34.0082156 ],\n",
        "       [ 45.46321155,  31.21544356,  30.90125559,  39.76590057,\n",
        "         39.76247076,  29.30040939,  42.66414473,  43.05146618,\n",
        "         33.47040857,  33.47267446]])"
       ]
      }
     ],
     "prompt_number": 11
    },
    {
     "cell_type": "code",
     "collapsed": false,
     "input": [
      "import matplotlib.pyplot as plt\n",
      "%matplotlib inline"
     ],
     "language": "python",
     "metadata": {},
     "outputs": [],
     "prompt_number": 12
    },
    {
     "cell_type": "code",
     "collapsed": false,
     "input": [
      "# short rate paths\n",
      "plt.plot(ssr.process.instrument_values[:, :10]);"
     ],
     "language": "python",
     "metadata": {},
     "outputs": [
      {
       "metadata": {},
       "output_type": "display_data",
       "png": "[encoded data removed]",
       "text": [
        "<matplotlib.figure.Figure at 0x10a0d0f50>"
       ]
      }
     ],
     "prompt_number": 13
    },
    {
     "cell_type": "markdown",
     "metadata": {},
     "source": [
      "**Copyright, License & Disclaimer**\n",
      "\n",
      "&copy; Dr. Yves J. Hilpisch | The Python Quants GmbH\n",
      "\n",
      "DX Analytics (the \"dx library\") is licensed under the GNU Affero General Public License\n",
      "version 3 or later (see <a href=\"http://www.gnu.org/licenses/\" target=\"_blank\">http://www.gnu.org/licenses/</a>).\n",
      "\n",
      "DX Analytics comes with no representations\n",
      "or warranties, to the extent permitted by applicable law.\n",
      "\n",
      "\n",
      "<img src=\"http://hilpisch.com/tpq_logo.png\" alt=\"The Python Quants\" width=\"35%\" align=\"right\" border=\"0\"><br>\n",
      "\n",
      "<a href=\"http://www.pythonquants.com\" target=\"_blank\">http://www.pythonquants.com</a> | <a href=\"mailto:analytics@pythonquants.com\">analytics@pythonquants.com</a> | <a href=\"http://twitter.com/dyjh\" target=\"_blank\">http://twitter.com/dyjh</a>\n",
      "\n",
      "**Python Quant Platform** |\n",
      "<a href=\"http://quant-platform.com\">http://quant-platform.com</a>\n",
      "\n",
      "**Derivatives Analytics with Python (Wiley Finance)** |\n",
      "<a href=\"http://derivatives-analytics-with-python.com\" target=\"_blank\">http://derivatives-analytics-with-python.com</a>\n",
      "\n",
      "**Python for Finance (O'Reilly)** |\n",
      "<a href=\"http://shop.oreilly.com/product/0636920032441.do\" target=\"_blank\">http://shop.oreilly.com/product/0636920032441.do</a>"
     ]
    }
   ],
   "metadata": {}
  }
 ]
}