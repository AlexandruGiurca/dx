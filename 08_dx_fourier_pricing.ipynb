{
 "metadata": {
  "name": "",
  "signature": "sha256:1a14ee0c4cd325dcda5563593e456a2a5a071166104a2b6e378a5853a52d62ca"
 },
 "nbformat": 3,
 "nbformat_minor": 0,
 "worksheets": [
  {
   "cells": [
    {
     "cell_type": "markdown",
     "metadata": {},
     "source": [
      "<img src=\"http://hilpisch.com/tpq_logo.png\" alt=\"The Python Quants\" width=\"45%\" align=\"right\" border=\"4\">"
     ]
    },
    {
     "cell_type": "heading",
     "level": 1,
     "metadata": {},
     "source": [
      "Fourier-based Option Pricing"
     ]
    },
    {
     "cell_type": "markdown",
     "metadata": {},
     "source": [
      "For several reasons, it is beneficial to have available alternative valuation and pricing approaches to the Monte Carlo simulation approach. One application area is to **benchmark Monte Carlo-based valuation results** against other (potentially more accurate) results. Another area is **model calibration to liquidly traded vanilla instruments** where generally faster numerial methods can be applied.\n",
      "\n",
      "This part introduces **Fouried-based valuation functions** and benchmarks valuation results from the \"standard\", simulation-based DX Analytics modeling approach to output of those functions. "
     ]
    },
    {
     "cell_type": "code",
     "collapsed": false,
     "input": [
      "import dx\n",
      "import datetime as dt"
     ],
     "language": "python",
     "metadata": {},
     "outputs": [],
     "prompt_number": 1
    },
    {
     "cell_type": "heading",
     "level": 2,
     "metadata": {},
     "source": [
      "Risk Factors"
     ]
    },
    {
     "cell_type": "markdown",
     "metadata": {},
     "source": [
      "The examples and benchmarks to follow rely on four different models:\n",
      "\n",
      "* geometric Brownian motion (Black-Scholes-Merton 1973)\n",
      "* jump diffusion (Merton 1976)\n",
      "* stochastic volatility (Heston 1993)\n",
      "* stochastic volatility jump diffusion (Bates 1996)\n",
      "\n",
      "For details on these models and the Fourier-based option pricing approach refer to Hilpisch (2015) (cf. http://eu.wiley.com/WileyCDA/WileyTitle/productCd-1119037999.html).\n",
      "\n",
      "We first define the single **market and valuation environments**."
     ]
    },
    {
     "cell_type": "code",
     "collapsed": false,
     "input": [
      "# constant short rate\n",
      "r = dx.constant_short_rate('r', 0.01)"
     ],
     "language": "python",
     "metadata": {},
     "outputs": [],
     "prompt_number": 2
    },
    {
     "cell_type": "code",
     "collapsed": false,
     "input": [
      "# geometric Brownian motion\n",
      "me = dx.market_environment('me', dt.datetime(2015, 1, 1))\n",
      "me.add_constant('initial_value', 100.)\n",
      "me.add_constant('volatility', 0.2)\n",
      "me.add_constant('final_date', dt.datetime(2015, 12, 31))\n",
      "me.add_constant('currency', 'EUR')"
     ],
     "language": "python",
     "metadata": {},
     "outputs": [],
     "prompt_number": 3
    },
    {
     "cell_type": "code",
     "collapsed": false,
     "input": [
      "# jump component\n",
      "me.add_constant('lambda', 0.4)\n",
      "me.add_constant('mu', -0.6)\n",
      "me.add_constant('delta', 0.2)"
     ],
     "language": "python",
     "metadata": {},
     "outputs": [],
     "prompt_number": 4
    },
    {
     "cell_type": "code",
     "collapsed": false,
     "input": [
      "# stochastic volatiltiy component\n",
      "me.add_constant('rho', -.5)\n",
      "me.add_constant('kappa', 5.0)\n",
      "me.add_constant('theta', 0.02)\n",
      "me.add_constant('vol_vol', 0.3)"
     ],
     "language": "python",
     "metadata": {},
     "outputs": [],
     "prompt_number": 5
    },
    {
     "cell_type": "code",
     "collapsed": false,
     "input": [
      "# valuation environment\n",
      "val_env = dx.market_environment('val_env', dt.datetime(2015, 1, 1))\n",
      "val_env.add_constant('paths', 55000)\n",
      "    # 25,000 paths\n",
      "val_env.add_constant('frequency', 'D')\n",
      "    # weekly frequency\n",
      "val_env.add_curve('discount_curve', r)\n",
      "val_env.add_constant('starting_date', dt.datetime(2015, 1, 1))\n",
      "val_env.add_constant('final_date', dt.datetime(2015, 12, 31))"
     ],
     "language": "python",
     "metadata": {},
     "outputs": [],
     "prompt_number": 6
    },
    {
     "cell_type": "code",
     "collapsed": false,
     "input": [
      "# add valuation environment to market environment\n",
      "me.add_environment(val_env)"
     ],
     "language": "python",
     "metadata": {},
     "outputs": [],
     "prompt_number": 7
    },
    {
     "cell_type": "markdown",
     "metadata": {},
     "source": [
      "Equipped with the single market environments and the valuation environment, we can instantiate the **simulation model objects**."
     ]
    },
    {
     "cell_type": "code",
     "collapsed": false,
     "input": [
      "gbm = dx.geometric_brownian_motion('gbm', me)"
     ],
     "language": "python",
     "metadata": {},
     "outputs": [],
     "prompt_number": 8
    },
    {
     "cell_type": "code",
     "collapsed": false,
     "input": [
      "jd = dx.jump_diffusion('jd', me)"
     ],
     "language": "python",
     "metadata": {},
     "outputs": [],
     "prompt_number": 9
    },
    {
     "cell_type": "code",
     "collapsed": false,
     "input": [
      "sv = dx.stochastic_volatility('sv', me)"
     ],
     "language": "python",
     "metadata": {},
     "outputs": [],
     "prompt_number": 10
    },
    {
     "cell_type": "code",
     "collapsed": false,
     "input": [
      "svjd = dx.stoch_vol_jump_diffusion('svjd', me)"
     ],
     "language": "python",
     "metadata": {},
     "outputs": [],
     "prompt_number": 11
    },
    {
     "cell_type": "heading",
     "level": 2,
     "metadata": {},
     "source": [
      "Plain Vanilla Put and Call Options"
     ]
    },
    {
     "cell_type": "markdown",
     "metadata": {},
     "source": [
      "Based on the just defined risk factors, we define 8 diffent options---a **European put and call option per risk factor**, respectively."
     ]
    },
    {
     "cell_type": "code",
     "collapsed": false,
     "input": [
      "# market environment for the options\n",
      "me_option = dx.market_environment('option', dt.datetime(2015, 1, 1))\n",
      "me_option.add_constant('maturity', dt.datetime(2015, 12, 31))\n",
      "me_option.add_constant('strike', 100.)\n",
      "me_option.add_constant('currency', 'EUR')\n",
      "me_option.add_environment(me)\n",
      "me_option.add_environment(val_env)"
     ],
     "language": "python",
     "metadata": {},
     "outputs": [],
     "prompt_number": 12
    },
    {
     "cell_type": "code",
     "collapsed": false,
     "input": [
      "euro_put_gbm = dx.valuation_mcs_european_single('euro_put', gbm, me_option,\n",
      "                                  'np.maximum(strike - maturity_value, 0)')\n",
      "euro_call_gbm = dx.valuation_mcs_european_single('euro_call', gbm, me_option,\n",
      "                                  'np.maximum(maturity_value - strike, 0)')"
     ],
     "language": "python",
     "metadata": {},
     "outputs": [],
     "prompt_number": 13
    },
    {
     "cell_type": "code",
     "collapsed": false,
     "input": [
      "euro_put_jd = dx.valuation_mcs_european_single('euro_put', jd, me_option,\n",
      "                                  'np.maximum(strike - maturity_value, 0)')\n",
      "euro_call_jd = dx.valuation_mcs_european_single('euro_call', jd, me_option,\n",
      "                                  'np.maximum(maturity_value - strike, 0)')"
     ],
     "language": "python",
     "metadata": {},
     "outputs": [],
     "prompt_number": 14
    },
    {
     "cell_type": "code",
     "collapsed": false,
     "input": [
      "euro_put_sv = dx.valuation_mcs_european_single('euro_put', sv, me_option,\n",
      "                                  'np.maximum(strike - maturity_value, 0)')\n",
      "euro_call_sv = dx.valuation_mcs_european_single('euro_call', sv, me_option,\n",
      "                                  'np.maximum(maturity_value - strike, 0)')"
     ],
     "language": "python",
     "metadata": {},
     "outputs": [],
     "prompt_number": 15
    },
    {
     "cell_type": "code",
     "collapsed": false,
     "input": [
      "euro_put_svjd = dx.valuation_mcs_european_single('euro_put', svjd, me_option,\n",
      "                                  'np.maximum(strike - maturity_value, 0)')\n",
      "euro_call_svjd = dx.valuation_mcs_european_single('euro_call', svjd, me_option,\n",
      "                                  'np.maximum(maturity_value - strike, 0)')"
     ],
     "language": "python",
     "metadata": {},
     "outputs": [],
     "prompt_number": 16
    },
    {
     "cell_type": "heading",
     "level": 2,
     "metadata": {},
     "source": [
      "Valuation Benchmarking"
     ]
    },
    {
     "cell_type": "markdown",
     "metadata": {},
     "source": [
      "In this sub-section, we benchmark the **Monte Carlo value estimates** against the **Fourier-based pricing results**."
     ]
    },
    {
     "cell_type": "code",
     "collapsed": false,
     "input": [
      "import numpy as np\n",
      "import pandas as pd"
     ],
     "language": "python",
     "metadata": {},
     "outputs": [],
     "prompt_number": 17
    },
    {
     "cell_type": "markdown",
     "metadata": {},
     "source": [
      "We first define some parameters used throughout."
     ]
    },
    {
     "cell_type": "code",
     "collapsed": false,
     "input": [
      "freq = '2m'  # used for maturity definitions\n",
      "periods = 3  # number of intervals for maturity grid\n",
      "strikes = 5  # number of strikes per maturity\n",
      "initial_value = 100  # initial value for all risk factors\n",
      "start = 0.8  # lowest strike in percent of spot\n",
      "end = 1.2  # highest strike in percent of spot\n",
      "start_date = '2015/3/1'  # start date for simulation/pricing"
     ],
     "language": "python",
     "metadata": {},
     "outputs": [],
     "prompt_number": 18
    },
    {
     "cell_type": "heading",
     "level": 3,
     "metadata": {},
     "source": [
      "Geometric Brownian Motion"
     ]
    },
    {
     "cell_type": "markdown",
     "metadata": {},
     "source": [
      "We need to initialize the valuation object first."
     ]
    },
    {
     "cell_type": "code",
     "collapsed": false,
     "input": [
      "euro_put_gbm.present_value()\n",
      "  # method call needed for initialization"
     ],
     "language": "python",
     "metadata": {},
     "outputs": [
      {
       "metadata": {},
       "output_type": "pyout",
       "prompt_number": 19,
       "text": [
        "7.460658"
       ]
      }
     ],
     "prompt_number": 19
    },
    {
     "cell_type": "markdown",
     "metadata": {},
     "source": [
      "There is a **valuation class for European put and call options in the Black-Scholes-Merton model** available called `BSM_european_option`. It is based on the analytical pricing formula for that model and is instantiated as follows:"
     ]
    },
    {
     "cell_type": "code",
     "collapsed": false,
     "input": [
      "bsm_option = dx.BSM_european_option('bsm_opt', me_option)"
     ],
     "language": "python",
     "metadata": {},
     "outputs": [],
     "prompt_number": 20
    },
    {
     "cell_type": "markdown",
     "metadata": {},
     "source": [
      "The following routine benchmarks the Monte Carlo value estimates for the **European put option** against the output from the valuation object based on the analytical pricing formula. The results are quite good since this model is quite easy to discretize exactly and therefore generally shows good convergence of the Monte Carlo estimates."
     ]
    },
    {
     "cell_type": "code",
     "collapsed": false,
     "input": [
      "%%time\n",
      "# European put\n",
      "print '%4s  | %7s | %7s | %7s | %7s | %7s' % ('T', 'strike', 'mcs', 'fou', 'dif', 'rel')\n",
      "for maturity in pd.date_range(start=start_date, freq=freq, periods=periods):\n",
      "    bsm_option.maturity = maturity\n",
      "    euro_put_gbm.update(maturity=maturity)\n",
      "    for strike in np.linspace(start, end, strikes) * initial_value:\n",
      "        T = (maturity - me_option.pricing_date).days / 365.\n",
      "        euro_put_gbm.update(strike=strike)\n",
      "        mcs = euro_put_gbm.present_value()\n",
      "        bsm_option.strike = strike\n",
      "        ana = bsm_option.put_value()\n",
      "        print '%4.3f | %7.3f | %7.4f | %7.4f | %7.4f | %7.2f ' \\\n",
      "                % (T, strike, mcs, ana, mcs - ana, (mcs - ana) / ana * 100)"
     ],
     "language": "python",
     "metadata": {},
     "outputs": [
      {
       "output_type": "stream",
       "stream": "stdout",
       "text": [
        "   T  |  strike |     mcs |     fou |     dif |     rel\n",
        "0.244 |  80.000 |  0.0351 |  0.0338 |  0.0013 |    3.87 "
       ]
      },
      {
       "output_type": "stream",
       "stream": "stdout",
       "text": [
        "\n",
        "0.244 |  90.000 |  0.6610 |  0.6524 |  0.0086 |    1.31 "
       ]
      },
      {
       "output_type": "stream",
       "stream": "stdout",
       "text": [
        "\n",
        "0.244 | 100.000 |  3.8237 |  3.8130 |  0.0107 |    0.28 "
       ]
      },
      {
       "output_type": "stream",
       "stream": "stdout",
       "text": [
        "\n",
        "0.244 | 110.000 | 10.6988 | 10.6957 |  0.0031 |    0.03 "
       ]
      },
      {
       "output_type": "stream",
       "stream": "stdout",
       "text": [
        "\n",
        "0.244 | 120.000 | 19.8597 | 19.8537 |  0.0059 |    0.03 "
       ]
      },
      {
       "output_type": "stream",
       "stream": "stdout",
       "text": [
        "\n",
        "0.411 |  80.000 |  0.1751 |  0.1748 |  0.0003 |    0.17 "
       ]
      },
      {
       "output_type": "stream",
       "stream": "stdout",
       "text": [
        "\n",
        "0.411 |  90.000 |  1.3304 |  1.3241 |  0.0063 |    0.48 "
       ]
      },
      {
       "output_type": "stream",
       "stream": "stdout",
       "text": [
        "\n",
        "0.411 | 100.000 |  4.9137 |  4.8985 |  0.0152 |    0.31 "
       ]
      },
      {
       "output_type": "stream",
       "stream": "stdout",
       "text": [
        "\n",
        "0.411 | 110.000 | 11.4628 | 11.4275 |  0.0353 |    0.31 "
       ]
      },
      {
       "output_type": "stream",
       "stream": "stdout",
       "text": [
        "\n",
        "0.411 | 120.000 | 20.0326 | 20.0325 |  0.0001 |    0.00 "
       ]
      },
      {
       "output_type": "stream",
       "stream": "stdout",
       "text": [
        "\n",
        "0.578 |  80.000 |  0.3951 |  0.3917 |  0.0034 |    0.87 "
       ]
      },
      {
       "output_type": "stream",
       "stream": "stdout",
       "text": [
        "\n",
        "0.578 |  90.000 |  1.9186 |  1.9466 | -0.0280 |   -1.44 "
       ]
      },
      {
       "output_type": "stream",
       "stream": "stdout",
       "text": [
        "\n",
        "0.578 | 100.000 |  5.7578 |  5.7593 | -0.0015 |   -0.03 "
       ]
      },
      {
       "output_type": "stream",
       "stream": "stdout",
       "text": [
        "\n",
        "0.578 | 110.000 | 12.1120 | 12.0934 |  0.0187 |    0.15 "
       ]
      },
      {
       "output_type": "stream",
       "stream": "stdout",
       "text": [
        "\n",
        "0.578 | 120.000 | 20.2990 | 20.3153 | -0.0163 |   -0.08 "
       ]
      },
      {
       "output_type": "stream",
       "stream": "stdout",
       "text": [
        "\n",
        "CPU times: user 22.5 s, sys: 5.13 s, total: 27.6 s\n",
        "Wall time: 27.6 s\n"
       ]
      }
     ],
     "prompt_number": 21
    },
    {
     "cell_type": "markdown",
     "metadata": {},
     "source": [
      "The same now for the **European call option**."
     ]
    },
    {
     "cell_type": "code",
     "collapsed": false,
     "input": [
      "euro_call_gbm.present_value()\n",
      "  # method call needed for initialization"
     ],
     "language": "python",
     "metadata": {},
     "outputs": [
      {
       "metadata": {},
       "output_type": "pyout",
       "prompt_number": 22,
       "text": [
        "8.463181"
       ]
      }
     ],
     "prompt_number": 22
    },
    {
     "cell_type": "code",
     "collapsed": false,
     "input": [
      "%%time\n",
      "# European calls\n",
      "print '%4s  | %7s | %7s | %7s | %7s | %7s' % ('T', 'strike', 'mcs', 'fou', 'dif', 'rel')\n",
      "for maturity in pd.date_range(start=start_date, freq=freq, periods=periods):\n",
      "    euro_call_gbm.update(maturity=maturity)\n",
      "    for strike in np.linspace(start, end, strikes) * initial_value:\n",
      "        T = (maturity - me_option.pricing_date).days / 365.\n",
      "        euro_call_gbm.update(strike=strike)\n",
      "        mcs = euro_call_gbm.present_value()\n",
      "        bsm_option.strike = strike\n",
      "        bsm_option.maturity = maturity\n",
      "        ana = bsm_option.call_value()\n",
      "        print '%4.3f | %7.3f | %7.4f | %7.4f | %7.4f | %7.2f ' \\\n",
      "                % (T, strike, mcs, ana, mcs - ana, (mcs - ana) / ana * 100)"
     ],
     "language": "python",
     "metadata": {},
     "outputs": [
      {
       "output_type": "stream",
       "stream": "stdout",
       "text": [
        "   T  |  strike |     mcs |     fou |     dif |     rel\n",
        "0.244 |  80.000 | 20.2243 | 20.2286 | -0.0043 |   -0.02 "
       ]
      },
      {
       "output_type": "stream",
       "stream": "stdout",
       "text": [
        "\n",
        "0.244 |  90.000 | 10.8686 | 10.8716 | -0.0030 |   -0.03 "
       ]
      },
      {
       "output_type": "stream",
       "stream": "stdout",
       "text": [
        "\n",
        "0.244 | 100.000 |  4.0790 |  4.0565 |  0.0225 |    0.55 "
       ]
      },
      {
       "output_type": "stream",
       "stream": "stdout",
       "text": [
        "\n",
        "0.244 | 110.000 |  0.9644 |  0.9636 |  0.0008 |    0.08 "
       ]
      },
      {
       "output_type": "stream",
       "stream": "stdout",
       "text": [
        "\n",
        "0.244 | 120.000 |  0.1475 |  0.1460 |  0.0015 |    1.05 "
       ]
      },
      {
       "output_type": "stream",
       "stream": "stdout",
       "text": [
        "\n",
        "0.411 |  80.000 | 20.5313 | 20.5029 |  0.0285 |    0.14 "
       ]
      },
      {
       "output_type": "stream",
       "stream": "stdout",
       "text": [
        "\n",
        "0.411 |  90.000 | 11.6694 | 11.6932 | -0.0238 |   -0.20 "
       ]
      },
      {
       "output_type": "stream",
       "stream": "stdout",
       "text": [
        "\n",
        "0.411 | 100.000 |  5.2872 |  5.3086 | -0.0214 |   -0.40 "
       ]
      },
      {
       "output_type": "stream",
       "stream": "stdout",
       "text": [
        "\n",
        "0.411 | 110.000 |  1.8726 |  1.8787 | -0.0061 |   -0.32 "
       ]
      },
      {
       "output_type": "stream",
       "stream": "stdout",
       "text": [
        "\n",
        "0.411 | 120.000 |  0.5239 |  0.5246 | -0.0007 |   -0.14 "
       ]
      },
      {
       "output_type": "stream",
       "stream": "stdout",
       "text": [
        "\n",
        "0.578 |  80.000 | 20.8466 | 20.8528 | -0.0062 |   -0.03 "
       ]
      },
      {
       "output_type": "stream",
       "stream": "stdout",
       "text": [
        "\n",
        "0.578 |  90.000 | 12.4632 | 12.4654 | -0.0022 |   -0.02 "
       ]
      },
      {
       "output_type": "stream",
       "stream": "stdout",
       "text": [
        "\n",
        "0.578 | 100.000 |  6.3343 |  6.3357 | -0.0014 |   -0.02 "
       ]
      },
      {
       "output_type": "stream",
       "stream": "stdout",
       "text": [
        "\n",
        "0.578 | 110.000 |  2.6932 |  2.7274 | -0.0342 |   -1.25 "
       ]
      },
      {
       "output_type": "stream",
       "stream": "stdout",
       "text": [
        "\n",
        "0.578 | 120.000 |  1.0619 |  1.0070 |  0.0549 |    5.45 "
       ]
      },
      {
       "output_type": "stream",
       "stream": "stdout",
       "text": [
        "\n",
        "CPU times: user 23.2 s, sys: 5.21 s, total: 28.4 s\n",
        "Wall time: 28.4 s\n"
       ]
      }
     ],
     "prompt_number": 23
    },
    {
     "cell_type": "heading",
     "level": 3,
     "metadata": {},
     "source": [
      "Benchmarking Function"
     ]
    },
    {
     "cell_type": "markdown",
     "metadata": {},
     "source": [
      "All other valuation benchmarks are generated with **Fourier-based pricing functions** for which the handling is identical. We therefore use the following function for the benchmarks from now on:"
     ]
    },
    {
     "cell_type": "code",
     "collapsed": false,
     "input": [
      "def valuation_benchmarking(valuation_object, fourier_function):\n",
      "    print '%4s  | %7s | %7s | %7s | %7s | %7s' % ('T', 'strike', 'mcs', 'fou', 'dif', 'rel')\n",
      "    for maturity in pd.date_range(start=start_date, freq=freq, periods=periods):\n",
      "        valuation_object.update(maturity=maturity)\n",
      "        me_option.add_constant('maturity', maturity)\n",
      "        for strike in np.linspace(start, end, strikes) * initial_value:\n",
      "            T = (maturity - me_option.pricing_date).days / 365.\n",
      "            valuation_object.update(strike=strike)\n",
      "            mcs = valuation_object.present_value()\n",
      "            me_option.add_constant('strike', strike)\n",
      "            fou = fourier_function(me_option)\n",
      "            print '%4.3f | %7.3f | %7.4f | %7.4f | %7.4f | %7.3f ' \\\n",
      "                % (T, strike, mcs, fou, mcs - fou, (mcs - fou) / fou * 100)"
     ],
     "language": "python",
     "metadata": {},
     "outputs": [],
     "prompt_number": 24
    },
    {
     "cell_type": "heading",
     "level": 3,
     "metadata": {},
     "source": [
      "Jump Diffusion"
     ]
    },
    {
     "cell_type": "markdown",
     "metadata": {},
     "source": [
      "The next model is the jump diffusion as proposed by **Merton (1976)**."
     ]
    },
    {
     "cell_type": "code",
     "collapsed": false,
     "input": [
      "euro_put_jd.present_value()\n",
      "  # method call needed for initialization"
     ],
     "language": "python",
     "metadata": {},
     "outputs": [
      {
       "metadata": {},
       "output_type": "pyout",
       "prompt_number": 25,
       "text": [
        "13.943244"
       ]
      }
     ],
     "prompt_number": 25
    },
    {
     "cell_type": "markdown",
     "metadata": {},
     "source": [
      "There is a Fourier-based pricing function available which is called `M76_put_value` and which is used for the benchmarking for the **European put options** that follows."
     ]
    },
    {
     "cell_type": "code",
     "collapsed": false,
     "input": [
      "%time valuation_benchmarking(euro_put_jd, dx.M76_put_value)"
     ],
     "language": "python",
     "metadata": {},
     "outputs": [
      {
       "output_type": "stream",
       "stream": "stdout",
       "text": [
        "   T  |  strike |     mcs |     fou |     dif |     rel\n",
        "0.244 |  80.000 |  2.1875 |  2.1594 |  0.0281 |   1.299 "
       ]
      },
      {
       "output_type": "stream",
       "stream": "stdout",
       "text": [
        "\n",
        "0.244 |  90.000 |  3.2410 |  3.2826 | -0.0417 |  -1.269 "
       ]
      },
      {
       "output_type": "stream",
       "stream": "stdout",
       "text": [
        "\n",
        "0.244 | 100.000 |  5.8314 |  5.8842 | -0.0528 |  -0.897 "
       ]
      },
      {
       "output_type": "stream",
       "stream": "stdout",
       "text": [
        "\n",
        "0.244 | 110.000 | 11.6812 | 11.6115 |  0.0697 |   0.600 "
       ]
      },
      {
       "output_type": "stream",
       "stream": "stdout",
       "text": [
        "\n",
        "0.244 | 120.000 | 20.0932 | 20.0857 |  0.0075 |   0.037 "
       ]
      },
      {
       "output_type": "stream",
       "stream": "stdout",
       "text": [
        "\n",
        "0.411 |  80.000 |  3.3681 |  3.4505 | -0.0824 |  -2.388 "
       ]
      },
      {
       "output_type": "stream",
       "stream": "stdout",
       "text": [
        "\n",
        "0.411 |  90.000 |  5.2837 |  5.2162 |  0.0674 |   1.293 "
       ]
      },
      {
       "output_type": "stream",
       "stream": "stdout",
       "text": [
        "\n",
        "0.411 | 100.000 |  8.1638 |  8.2266 | -0.0628 |  -0.763 "
       ]
      },
      {
       "output_type": "stream",
       "stream": "stdout",
       "text": [
        "\n",
        "0.411 | 110.000 | 13.4425 | 13.4430 | -0.0004 |  -0.003 "
       ]
      },
      {
       "output_type": "stream",
       "stream": "stdout",
       "text": [
        "\n",
        "0.411 | 120.000 | 20.8600 | 20.9238 | -0.0638 |  -0.305 "
       ]
      },
      {
       "output_type": "stream",
       "stream": "stdout",
       "text": [
        "\n",
        "0.578 |  80.000 |  4.6267 |  4.6090 |  0.0177 |   0.384 "
       ]
      },
      {
       "output_type": "stream",
       "stream": "stdout",
       "text": [
        "\n",
        "0.578 |  90.000 |  7.0699 |  6.8782 |  0.1917 |   2.787 "
       ]
      },
      {
       "output_type": "stream",
       "stream": "stdout",
       "text": [
        "\n",
        "0.578 | 100.000 | 10.2644 | 10.2077 |  0.0567 |   0.556 "
       ]
      },
      {
       "output_type": "stream",
       "stream": "stdout",
       "text": [
        "\n",
        "0.578 | 110.000 | 15.1636 | 15.2251 | -0.0615 |  -0.404 "
       ]
      },
      {
       "output_type": "stream",
       "stream": "stdout",
       "text": [
        "\n",
        "0.578 | 120.000 | 21.9552 | 22.0886 | -0.1334 |  -0.604 "
       ]
      },
      {
       "output_type": "stream",
       "stream": "stdout",
       "text": [
        "\n",
        "CPU times: user 1min 1s, sys: 9.52 s, total: 1min 10s\n",
        "Wall time: 1min 11s\n"
       ]
      }
     ],
     "prompt_number": 26
    },
    {
     "cell_type": "markdown",
     "metadata": {},
     "source": [
      "Accordingly, the benchmarking for the **European call options** based on the Fourier-based `M76_call_value` function."
     ]
    },
    {
     "cell_type": "code",
     "collapsed": false,
     "input": [
      "euro_call_jd.present_value()\n",
      "  # method call needed for initialization"
     ],
     "language": "python",
     "metadata": {},
     "outputs": [
      {
       "metadata": {},
       "output_type": "pyout",
       "prompt_number": 27,
       "text": [
        "15.266014"
       ]
      }
     ],
     "prompt_number": 27
    },
    {
     "cell_type": "code",
     "collapsed": false,
     "input": [
      "%time valuation_benchmarking(euro_call_jd, dx.M76_call_value)"
     ],
     "language": "python",
     "metadata": {},
     "outputs": [
      {
       "output_type": "stream",
       "stream": "stdout",
       "text": [
        "   T  |  strike |     mcs |     fou |     dif |     rel\n",
        "0.244 |  80.000 | 22.3220 | 22.3543 | -0.0322 |  -0.144 "
       ]
      },
      {
       "output_type": "stream",
       "stream": "stdout",
       "text": [
        "\n",
        "0.244 |  90.000 | 13.5453 | 13.5018 |  0.0435 |   0.322 "
       ]
      },
      {
       "output_type": "stream",
       "stream": "stdout",
       "text": [
        "\n",
        "0.244 | 100.000 |  6.1248 |  6.1277 | -0.0030 |  -0.049 "
       ]
      },
      {
       "output_type": "stream",
       "stream": "stdout",
       "text": [
        "\n",
        "0.244 | 110.000 |  1.8829 |  1.8794 |  0.0035 |   0.186 "
       ]
      },
      {
       "output_type": "stream",
       "stream": "stdout",
       "text": [
        "\n",
        "0.244 | 120.000 |  0.3741 |  0.3780 | -0.0039 |  -1.033 "
       ]
      },
      {
       "output_type": "stream",
       "stream": "stdout",
       "text": [
        "\n",
        "0.411 |  80.000 | 23.6810 | 23.7786 | -0.0976 |  -0.411 "
       ]
      },
      {
       "output_type": "stream",
       "stream": "stdout",
       "text": [
        "\n",
        "0.411 |  90.000 | 15.5726 | 15.5853 | -0.0127 |  -0.082 "
       ]
      },
      {
       "output_type": "stream",
       "stream": "stdout",
       "text": [
        "\n",
        "0.411 | 100.000 |  8.5956 |  8.6367 | -0.0411 |  -0.476 "
       ]
      },
      {
       "output_type": "stream",
       "stream": "stdout",
       "text": [
        "\n",
        "0.411 | 110.000 |  3.8626 |  3.8941 | -0.0315 |  -0.808 "
       ]
      },
      {
       "output_type": "stream",
       "stream": "stdout",
       "text": [
        "\n",
        "0.411 | 120.000 |  1.4027 |  1.4160 | -0.0133 |  -0.937 "
       ]
      },
      {
       "output_type": "stream",
       "stream": "stdout",
       "text": [
        "\n",
        "0.578 |  80.000 | 25.0933 | 25.0701 |  0.0232 |   0.092 "
       ]
      },
      {
       "output_type": "stream",
       "stream": "stdout",
       "text": [
        "\n",
        "0.578 |  90.000 | 17.3757 | 17.3970 | -0.0212 |  -0.122 "
       ]
      },
      {
       "output_type": "stream",
       "stream": "stdout",
       "text": [
        "\n",
        "0.578 | 100.000 | 10.8107 | 10.7841 |  0.0266 |   0.247 "
       ]
      },
      {
       "output_type": "stream",
       "stream": "stdout",
       "text": [
        "\n",
        "0.578 | 110.000 |  5.8808 |  5.8591 |  0.0216 |   0.369 "
       ]
      },
      {
       "output_type": "stream",
       "stream": "stdout",
       "text": [
        "\n",
        "0.578 | 120.000 |  2.7786 |  2.7803 | -0.0017 |  -0.062 "
       ]
      },
      {
       "output_type": "stream",
       "stream": "stdout",
       "text": [
        "\n",
        "CPU times: user 1min, sys: 9.1 s, total: 1min 9s\n",
        "Wall time: 1min 10s\n"
       ]
      }
     ],
     "prompt_number": 28
    },
    {
     "cell_type": "heading",
     "level": 3,
     "metadata": {},
     "source": [
      "Stochastic Volatility"
     ]
    },
    {
     "cell_type": "markdown",
     "metadata": {},
     "source": [
      "Stochastic volatility models like the one of **Heston (1993)** are popular to reproduce implied volatility smiles observed in markets. First, the benchmarking for the **European put options** using the Fourier-based `H93_put_value` function."
     ]
    },
    {
     "cell_type": "code",
     "collapsed": false,
     "input": [
      "euro_put_sv.present_value()\n",
      "  # method call needed for initialization"
     ],
     "language": "python",
     "metadata": {},
     "outputs": [
      {
       "metadata": {},
       "output_type": "pyout",
       "prompt_number": 29,
       "text": [
        "5.250391"
       ]
      }
     ],
     "prompt_number": 29
    },
    {
     "cell_type": "code",
     "collapsed": false,
     "input": [
      "%time valuation_benchmarking(euro_put_sv, dx.H93_put_value)"
     ],
     "language": "python",
     "metadata": {},
     "outputs": [
      {
       "output_type": "stream",
       "stream": "stdout",
       "text": [
        "   T  |  strike |     mcs |     fou |     dif |     rel\n",
        "0.244 |  80.000 |  0.0464 |  0.0504 | -0.0040 |  -7.954 "
       ]
      },
      {
       "output_type": "stream",
       "stream": "stdout",
       "text": [
        "\n",
        "0.244 |  90.000 |  0.5541 |  0.5741 | -0.0200 |  -3.489 "
       ]
      },
      {
       "output_type": "stream",
       "stream": "stdout",
       "text": [
        "\n",
        "0.244 | 100.000 |  3.2428 |  3.3204 | -0.0776 |  -2.337 "
       ]
      },
      {
       "output_type": "stream",
       "stream": "stdout",
       "text": [
        "\n",
        "0.244 | 110.000 | 10.2264 | 10.2404 | -0.0140 |  -0.136 "
       ]
      },
      {
       "output_type": "stream",
       "stream": "stdout",
       "text": [
        "\n",
        "0.244 | 120.000 | 19.7319 | 19.7354 | -0.0035 |  -0.018 "
       ]
      },
      {
       "output_type": "stream",
       "stream": "stdout",
       "text": [
        "\n",
        "0.411 |  80.000 |  0.1453 |  0.1603 | -0.0150 |  -9.351 "
       ]
      },
      {
       "output_type": "stream",
       "stream": "stdout",
       "text": [
        "\n",
        "0.411 |  90.000 |  0.9556 |  1.0063 | -0.0507 |  -5.034 "
       ]
      },
      {
       "output_type": "stream",
       "stream": "stdout",
       "text": [
        "\n",
        "0.411 | 100.000 |  3.9552 |  4.0234 | -0.0682 |  -1.694 "
       ]
      },
      {
       "output_type": "stream",
       "stream": "stdout",
       "text": [
        "\n",
        "0.411 | 110.000 | 10.4967 | 10.5487 | -0.0520 |  -0.493 "
       ]
      },
      {
       "output_type": "stream",
       "stream": "stdout",
       "text": [
        "\n",
        "0.411 | 120.000 | 19.6127 | 19.6293 | -0.0165 |  -0.084 "
       ]
      },
      {
       "output_type": "stream",
       "stream": "stdout",
       "text": [
        "\n",
        "0.578 |  80.000 |  0.2520 |  0.2838 | -0.0318 | -11.198 "
       ]
      },
      {
       "output_type": "stream",
       "stream": "stdout",
       "text": [
        "\n",
        "0.578 |  90.000 |  1.2723 |  1.3631 | -0.0907 |  -6.658 "
       ]
      },
      {
       "output_type": "stream",
       "stream": "stdout",
       "text": [
        "\n",
        "0.578 | 100.000 |  4.4446 |  4.5467 | -0.1021 |  -2.246 "
       ]
      },
      {
       "output_type": "stream",
       "stream": "stdout",
       "text": [
        "\n",
        "0.578 | 110.000 | 10.7693 | 10.8389 | -0.0695 |  -0.641 "
       ]
      },
      {
       "output_type": "stream",
       "stream": "stdout",
       "text": [
        "\n",
        "0.578 | 120.000 | 19.5479 | 19.5767 | -0.0288 |  -0.147 "
       ]
      },
      {
       "output_type": "stream",
       "stream": "stdout",
       "text": [
        "\n",
        "CPU times: user 53.5 s, sys: 15 s, total: 1min 8s\n",
        "Wall time: 1min 8s\n"
       ]
      }
     ],
     "prompt_number": 30
    },
    {
     "cell_type": "markdown",
     "metadata": {},
     "source": [
      "Second, the benchmarking for the **European call options** based on the Fourier-based `H93_call_value` function."
     ]
    },
    {
     "cell_type": "code",
     "collapsed": false,
     "input": [
      "euro_call_sv.present_value()\n",
      "  # method call needed for initialization"
     ],
     "language": "python",
     "metadata": {},
     "outputs": [
      {
       "metadata": {},
       "output_type": "pyout",
       "prompt_number": 31,
       "text": [
        "6.243606"
       ]
      }
     ],
     "prompt_number": 31
    },
    {
     "cell_type": "code",
     "collapsed": false,
     "input": [
      "%time valuation_benchmarking(euro_call_sv, dx.H93_call_value)"
     ],
     "language": "python",
     "metadata": {},
     "outputs": [
      {
       "output_type": "stream",
       "stream": "stdout",
       "text": [
        "   T  |  strike |     mcs |     fou |     dif |     rel\n",
        "0.244 |  80.000 | 20.2383 | 20.2453 | -0.0070 |  -0.035 "
       ]
      },
      {
       "output_type": "stream",
       "stream": "stdout",
       "text": [
        "\n",
        "0.244 |  90.000 | 10.7588 | 10.7933 | -0.0345 |  -0.319 "
       ]
      },
      {
       "output_type": "stream",
       "stream": "stdout",
       "text": [
        "\n",
        "0.244 | 100.000 |  3.5111 |  3.5639 | -0.0529 |  -1.483 "
       ]
      },
      {
       "output_type": "stream",
       "stream": "stdout",
       "text": [
        "\n",
        "0.244 | 110.000 |  0.4809 |  0.5083 | -0.0274 |  -5.397 "
       ]
      },
      {
       "output_type": "stream",
       "stream": "stdout",
       "text": [
        "\n",
        "0.244 | 120.000 |  0.0257 |  0.0276 | -0.0019 |  -6.712 "
       ]
      },
      {
       "output_type": "stream",
       "stream": "stdout",
       "text": [
        "\n",
        "0.411 |  80.000 | 20.4743 | 20.4884 | -0.0141 |  -0.069 "
       ]
      },
      {
       "output_type": "stream",
       "stream": "stdout",
       "text": [
        "\n",
        "0.411 |  90.000 | 11.3430 | 11.3754 | -0.0324 |  -0.285 "
       ]
      },
      {
       "output_type": "stream",
       "stream": "stdout",
       "text": [
        "\n",
        "0.411 | 100.000 |  4.3636 |  4.4335 | -0.0699 |  -1.577 "
       ]
      },
      {
       "output_type": "stream",
       "stream": "stdout",
       "text": [
        "\n",
        "0.411 | 110.000 |  0.9231 |  0.9998 | -0.0768 |  -7.677 "
       ]
      },
      {
       "output_type": "stream",
       "stream": "stdout",
       "text": [
        "\n",
        "0.411 | 120.000 |  0.1089 |  0.1214 | -0.0124 | -10.254 "
       ]
      },
      {
       "output_type": "stream",
       "stream": "stdout",
       "text": [
        "\n",
        "0.578 |  80.000 | 20.7110 | 20.7450 | -0.0340 |  -0.164 "
       ]
      },
      {
       "output_type": "stream",
       "stream": "stdout",
       "text": [
        "\n",
        "0.578 |  90.000 | 11.7952 | 11.8818 | -0.0867 |  -0.729 "
       ]
      },
      {
       "output_type": "stream",
       "stream": "stdout",
       "text": [
        "\n",
        "0.578 | 100.000 |  4.9882 |  5.1231 | -0.1349 |  -2.633 "
       ]
      },
      {
       "output_type": "stream",
       "stream": "stdout",
       "text": [
        "\n",
        "0.578 | 110.000 |  1.3827 |  1.4729 | -0.0902 |  -6.123 "
       ]
      },
      {
       "output_type": "stream",
       "stream": "stdout",
       "text": [
        "\n",
        "0.578 | 120.000 |  0.2411 |  0.2684 | -0.0273 | -10.175 "
       ]
      },
      {
       "output_type": "stream",
       "stream": "stdout",
       "text": [
        "\n",
        "CPU times: user 53.8 s, sys: 14.4 s, total: 1min 8s\n",
        "Wall time: 1min 8s\n"
       ]
      }
     ],
     "prompt_number": 32
    },
    {
     "cell_type": "heading",
     "level": 3,
     "metadata": {},
     "source": [
      "Stochastic Volatility Jump-Diffusion"
     ]
    },
    {
     "cell_type": "markdown",
     "metadata": {},
     "source": [
      "Finally, we consider the combination of the stochastic volatility and jump diffusion models from before as proposed by **Bates (1996)**. The Fourier-based pricing function for **European put options** is called `B96_put_value`."
     ]
    },
    {
     "cell_type": "code",
     "collapsed": false,
     "input": [
      "euro_put_svjd.present_value()\n",
      "  # method call needed for initialization"
     ],
     "language": "python",
     "metadata": {},
     "outputs": [
      {
       "metadata": {},
       "output_type": "pyout",
       "prompt_number": 33,
       "text": [
        "12.973828"
       ]
      }
     ],
     "prompt_number": 33
    },
    {
     "cell_type": "code",
     "collapsed": false,
     "input": [
      "%time valuation_benchmarking(euro_put_svjd, dx.B96_put_value)"
     ],
     "language": "python",
     "metadata": {},
     "outputs": [
      {
       "output_type": "stream",
       "stream": "stdout",
       "text": [
        "   T  |  strike |     mcs |     fou |     dif |     rel\n",
        "0.244 |  80.000 |  2.1452 |  2.1638 | -0.0187 |  -0.862 "
       ]
      },
      {
       "output_type": "stream",
       "stream": "stdout",
       "text": [
        "\n",
        "0.244 |  90.000 |  3.2676 |  3.2761 | -0.0085 |  -0.260 "
       ]
      },
      {
       "output_type": "stream",
       "stream": "stdout",
       "text": [
        "\n",
        "0.244 | 100.000 |  5.5983 |  5.5889 |  0.0094 |   0.168 "
       ]
      },
      {
       "output_type": "stream",
       "stream": "stdout",
       "text": [
        "\n",
        "0.244 | 110.000 | 11.0406 | 11.0733 | -0.0326 |  -0.294 "
       ]
      },
      {
       "output_type": "stream",
       "stream": "stdout",
       "text": [
        "\n",
        "0.244 | 120.000 | 19.8928 | 19.8344 |  0.0585 |   0.295 "
       ]
      },
      {
       "output_type": "stream",
       "stream": "stdout",
       "text": [
        "\n",
        "0.411 |  80.000 |  3.2784 |  3.4366 | -0.1582 |  -4.604 "
       ]
      },
      {
       "output_type": "stream",
       "stream": "stdout",
       "text": [
        "\n",
        "0.411 |  90.000 |  5.0909 |  5.1339 | -0.0430 |  -0.837 "
       ]
      },
      {
       "output_type": "stream",
       "stream": "stdout",
       "text": [
        "\n",
        "0.411 | 100.000 |  7.6293 |  7.7747 | -0.1454 |  -1.870 "
       ]
      },
      {
       "output_type": "stream",
       "stream": "stdout",
       "text": [
        "\n",
        "0.411 | 110.000 | 12.4562 | 12.5744 | -0.1182 |  -0.940 "
       ]
      },
      {
       "output_type": "stream",
       "stream": "stdout",
       "text": [
        "\n",
        "0.411 | 120.000 | 19.9918 | 20.1827 | -0.1909 |  -0.946 "
       ]
      },
      {
       "output_type": "stream",
       "stream": "stdout",
       "text": [
        "\n",
        "0.578 |  80.000 |  4.4553 |  4.5480 | -0.0927 |  -2.039 "
       ]
      },
      {
       "output_type": "stream",
       "stream": "stdout",
       "text": [
        "\n",
        "0.578 |  90.000 |  6.4277 |  6.7163 | -0.2886 |  -4.297 "
       ]
      },
      {
       "output_type": "stream",
       "stream": "stdout",
       "text": [
        "\n",
        "0.578 | 100.000 |  9.3933 |  9.6585 | -0.2652 |  -2.745 "
       ]
      },
      {
       "output_type": "stream",
       "stream": "stdout",
       "text": [
        "\n",
        "0.578 | 110.000 | 13.9644 | 14.1776 | -0.2132 |  -1.504 "
       ]
      },
      {
       "output_type": "stream",
       "stream": "stdout",
       "text": [
        "\n",
        "0.578 | 120.000 | 20.7606 | 20.9423 | -0.1816 |  -0.867 "
       ]
      },
      {
       "output_type": "stream",
       "stream": "stdout",
       "text": [
        "\n",
        "CPU times: user 1min 31s, sys: 16.3 s, total: 1min 48s\n",
        "Wall time: 1min 48s\n"
       ]
      }
     ],
     "prompt_number": 34
    },
    {
     "cell_type": "markdown",
     "metadata": {},
     "source": [
      "The Fourier-based counterpart function for **European call options** is called `B96_call_value`."
     ]
    },
    {
     "cell_type": "code",
     "collapsed": false,
     "input": [
      "euro_call_svjd.present_value()\n",
      "  # method call needed for initialization"
     ],
     "language": "python",
     "metadata": {},
     "outputs": [
      {
       "metadata": {},
       "output_type": "pyout",
       "prompt_number": 35,
       "text": [
        "13.949816"
       ]
      }
     ],
     "prompt_number": 35
    },
    {
     "cell_type": "code",
     "collapsed": false,
     "input": [
      "%time valuation_benchmarking(euro_call_svjd, dx.B96_call_value)"
     ],
     "language": "python",
     "metadata": {},
     "outputs": [
      {
       "output_type": "stream",
       "stream": "stdout",
       "text": [
        "   T  |  strike |     mcs |     fou |     dif |     rel\n",
        "0.244 |  80.000 | 22.3138 | 22.3587 | -0.0448 |  -0.201 "
       ]
      },
      {
       "output_type": "stream",
       "stream": "stdout",
       "text": [
        "\n",
        "0.244 |  90.000 | 13.4568 | 13.4953 | -0.0385 |  -0.285 "
       ]
      },
      {
       "output_type": "stream",
       "stream": "stdout",
       "text": [
        "\n",
        "0.244 | 100.000 |  5.7668 |  5.8325 | -0.0657 |  -1.126 "
       ]
      },
      {
       "output_type": "stream",
       "stream": "stdout",
       "text": [
        "\n",
        "0.244 | 110.000 |  1.2688 |  1.3411 | -0.0723 |  -5.392 "
       ]
      },
      {
       "output_type": "stream",
       "stream": "stdout",
       "text": [
        "\n",
        "0.244 | 120.000 |  0.1174 |  0.1266 | -0.0092 |  -7.235 "
       ]
      },
      {
       "output_type": "stream",
       "stream": "stdout",
       "text": [
        "\n",
        "0.411 |  80.000 | 23.6582 | 23.7647 | -0.1065 |  -0.448 "
       ]
      },
      {
       "output_type": "stream",
       "stream": "stdout",
       "text": [
        "\n",
        "0.411 |  90.000 | 15.4093 | 15.5030 | -0.0937 |  -0.604 "
       ]
      },
      {
       "output_type": "stream",
       "stream": "stdout",
       "text": [
        "\n",
        "0.411 | 100.000 |  8.0499 |  8.1848 | -0.1349 |  -1.648 "
       ]
      },
      {
       "output_type": "stream",
       "stream": "stdout",
       "text": [
        "\n",
        "0.411 | 110.000 |  2.9057 |  3.0255 | -0.1198 |  -3.959 "
       ]
      },
      {
       "output_type": "stream",
       "stream": "stdout",
       "text": [
        "\n",
        "0.411 | 120.000 |  0.6151 |  0.6749 | -0.0597 |  -8.847 "
       ]
      },
      {
       "output_type": "stream",
       "stream": "stdout",
       "text": [
        "\n",
        "0.578 |  80.000 | 24.9538 | 25.0091 | -0.0553 |  -0.221 "
       ]
      },
      {
       "output_type": "stream",
       "stream": "stdout",
       "text": [
        "\n",
        "0.578 |  90.000 | 17.0164 | 17.2351 | -0.2187 |  -1.269 "
       ]
      },
      {
       "output_type": "stream",
       "stream": "stdout",
       "text": [
        "\n",
        "0.578 | 100.000 |  9.9981 | 10.2349 | -0.2368 |  -2.313 "
       ]
      },
      {
       "output_type": "stream",
       "stream": "stdout",
       "text": [
        "\n",
        "0.578 | 110.000 |  4.5853 |  4.8117 | -0.2264 |  -4.706 "
       ]
      },
      {
       "output_type": "stream",
       "stream": "stdout",
       "text": [
        "\n",
        "0.578 | 120.000 |  1.4764 |  1.6340 | -0.1575 |  -9.641 "
       ]
      },
      {
       "output_type": "stream",
       "stream": "stdout",
       "text": [
        "\n",
        "CPU times: user 1min 31s, sys: 16.3 s, total: 1min 48s\n",
        "Wall time: 1min 48s\n"
       ]
      }
     ],
     "prompt_number": 36
    },
    {
     "cell_type": "heading",
     "level": 2,
     "metadata": {},
     "source": [
      "Sources of Errors"
     ]
    },
    {
     "cell_type": "markdown",
     "metadata": {},
     "source": [
      "Numerical methods like Monte Carlo simulation might suffer from different **sources of errors**, like for example:\n",
      "\n",
      "* **discretization error**: every **discretization of a continuous time interval**---or a continuous state space to this end---leads to a so-called discretization error\n",
      "* **approximation errors**: DX Analytics uses in several places approximative, **Euler-based discretization schemes** (e.g. for performance reasons and to allow for consistent correlation modeling) which are known to be biased\n",
      "* **numerical errors**: the approximation of a continuous probability distribution by a **finite, discrete set of (pseudo-) random numbers** introduces also errors"
     ]
    },
    {
     "cell_type": "markdown",
     "metadata": {},
     "source": [
      "**Copyright, License & Disclaimer**\n",
      "\n",
      "&copy; Dr. Yves J. Hilpisch | The Python Quants GmbH\n",
      "\n",
      "DX Analytics (the \"dx library\") is licensed under the GNU Affero General Public License\n",
      "version 3 or later (see <a href=\"http://www.gnu.org/licenses/\" target=\"_blank\">http://www.gnu.org/licenses/</a>).\n",
      "\n",
      "DX Analytics comes with no representations\n",
      "or warranties, to the extent permitted by applicable law.\n",
      "\n",
      "\n",
      "<img src=\"http://hilpisch.com/tpq_logo.png\" alt=\"The Python Quants\" width=\"35%\" align=\"right\" border=\"0\"><br>\n",
      "\n",
      "<a href=\"http://www.pythonquants.com\" target=\"_blank\">http://www.pythonquants.com</a> | <a href=\"mailto:analytics@pythonquants.com\">analytics@pythonquants.com</a> | <a href=\"http://twitter.com/dyjh\" target=\"_blank\">http://twitter.com/dyjh</a>\n",
      "\n",
      "**Python Quant Platform** |\n",
      "<a href=\"http://quant-platform.com\">http://quant-platform.com</a>\n",
      "\n",
      "**Derivatives Analytics with Python (Wiley Finance)** |\n",
      "<a href=\"http://derivatives-analytics-with-python.com\" target=\"_blank\">http://derivatives-analytics-with-python.com</a>\n",
      "\n",
      "**Python for Finance (O'Reilly)** |\n",
      "<a href=\"http://shop.oreilly.com/product/0636920032441.do\" target=\"_blank\">http://shop.oreilly.com/product/0636920032441.do</a>"
     ]
    }
   ],
   "metadata": {}
  }
 ]
}