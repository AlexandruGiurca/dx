{
 "metadata": {
  "name": "",
  "signature": "sha256:74f769e5eb9e6c311112db38e1d4971617128aab3a5ee78d6e3b87854f00e932"
 },
 "nbformat": 3,
 "nbformat_minor": 0,
 "worksheets": [
  {
   "cells": [
    {
     "cell_type": "markdown",
     "metadata": {},
     "source": [
      "<img src=\"http://hilpisch.com/tpq_logo.png\" alt=\"The Python Quants\" width=\"45%\" align=\"right\" border=\"4\">"
     ]
    },
    {
     "cell_type": "heading",
     "level": 1,
     "metadata": {},
     "source": [
      "Fourier-based Option Pricing"
     ]
    },
    {
     "cell_type": "markdown",
     "metadata": {},
     "source": [
      "For several reasons, it is beneficial to have available alternative valuation and pricing approaches to the Monte Carlo simulation approach. One application area is to **benchmark Monte Carlo-based valuation results** against other (potentially more accurate) results. Another area is **model calibration to liquidly traded vanilla instruments** where generally faster numerial methods can be applied.\n",
      "\n",
      "This part introduces **Fouried-based valuation functions** and benchmarks valuation results from the \"standard\", simulation-based DX Analytics modeling approach to output of those functions. "
     ]
    },
    {
     "cell_type": "code",
     "collapsed": false,
     "input": [
      "import dx\n",
      "import datetime as dt"
     ],
     "language": "python",
     "metadata": {},
     "outputs": [],
     "prompt_number": 1
    },
    {
     "cell_type": "heading",
     "level": 2,
     "metadata": {},
     "source": [
      "Risk Factors"
     ]
    },
    {
     "cell_type": "markdown",
     "metadata": {},
     "source": [
      "The examples and benchmarks to follow rely on four different models:\n",
      "\n",
      "* geometric Brownian motion (Black-Scholes-Merton 1973)\n",
      "* jump diffusion (Merton 1976)\n",
      "* stochastic volatility (Heston 1993)\n",
      "* stochastic volatility jump diffusion (Bates 1996)\n",
      "\n",
      "For details on these models and the Fourier-based option pricing approach refer to Hilpisch (2015) (cf. http://eu.wiley.com/WileyCDA/WileyTitle/productCd-1119037999.html).\n",
      "\n",
      "We first define the single **market and valuation environments**."
     ]
    },
    {
     "cell_type": "code",
     "collapsed": false,
     "input": [
      "# constant short rate\n",
      "r = dx.constant_short_rate('r', 0.01)"
     ],
     "language": "python",
     "metadata": {},
     "outputs": [],
     "prompt_number": 2
    },
    {
     "cell_type": "code",
     "collapsed": false,
     "input": [
      "# geometric Brownian motion\n",
      "me = dx.market_environment('me', dt.datetime(2015, 1, 1))\n",
      "me.add_constant('initial_value', 100.)\n",
      "me.add_constant('volatility', 0.2)\n",
      "me.add_constant('final_date', dt.datetime(2015, 12, 31))\n",
      "me.add_constant('currency', 'EUR')"
     ],
     "language": "python",
     "metadata": {},
     "outputs": [],
     "prompt_number": 3
    },
    {
     "cell_type": "code",
     "collapsed": false,
     "input": [
      "# jump component\n",
      "me.add_constant('lambda', 0.4)\n",
      "me.add_constant('mu', -0.6)\n",
      "me.add_constant('delta', 0.2)"
     ],
     "language": "python",
     "metadata": {},
     "outputs": [],
     "prompt_number": 4
    },
    {
     "cell_type": "code",
     "collapsed": false,
     "input": [
      "# stochastic volatiltiy component\n",
      "me.add_constant('rho', -.5)\n",
      "me.add_constant('kappa', 5.0)\n",
      "me.add_constant('theta', 0.02)\n",
      "me.add_constant('vol_vol', 0.3)"
     ],
     "language": "python",
     "metadata": {},
     "outputs": [],
     "prompt_number": 5
    },
    {
     "cell_type": "code",
     "collapsed": false,
     "input": [
      "# valuation environment\n",
      "val_env = dx.market_environment('val_env', dt.datetime(2015, 1, 1))\n",
      "val_env.add_constant('paths', 55000)\n",
      "    # 25,000 paths\n",
      "val_env.add_constant('frequency', 'D')\n",
      "    # weekly frequency\n",
      "val_env.add_curve('discount_curve', r)\n",
      "val_env.add_constant('starting_date', dt.datetime(2015, 1, 1))\n",
      "val_env.add_constant('final_date', dt.datetime(2015, 12, 31))"
     ],
     "language": "python",
     "metadata": {},
     "outputs": [],
     "prompt_number": 6
    },
    {
     "cell_type": "code",
     "collapsed": false,
     "input": [
      "# add valuation environment to market environment\n",
      "me.add_environment(val_env)"
     ],
     "language": "python",
     "metadata": {},
     "outputs": [],
     "prompt_number": 7
    },
    {
     "cell_type": "markdown",
     "metadata": {},
     "source": [
      "Equipped with the single market environments and the valuation environment, we can instantiate the **simulation model objects**."
     ]
    },
    {
     "cell_type": "code",
     "collapsed": false,
     "input": [
      "gbm = dx.geometric_brownian_motion('gbm', me)"
     ],
     "language": "python",
     "metadata": {},
     "outputs": [],
     "prompt_number": 8
    },
    {
     "cell_type": "code",
     "collapsed": false,
     "input": [
      "jd = dx.jump_diffusion('jd', me)"
     ],
     "language": "python",
     "metadata": {},
     "outputs": [],
     "prompt_number": 9
    },
    {
     "cell_type": "code",
     "collapsed": false,
     "input": [
      "sv = dx.stochastic_volatility('sv', me)"
     ],
     "language": "python",
     "metadata": {},
     "outputs": [],
     "prompt_number": 10
    },
    {
     "cell_type": "code",
     "collapsed": false,
     "input": [
      "svjd = dx.stoch_vol_jump_diffusion('svjd', me)"
     ],
     "language": "python",
     "metadata": {},
     "outputs": [],
     "prompt_number": 11
    },
    {
     "cell_type": "heading",
     "level": 2,
     "metadata": {},
     "source": [
      "Plain Vanilla Put and Call Options"
     ]
    },
    {
     "cell_type": "markdown",
     "metadata": {},
     "source": [
      "Based on the just defined risk factors, we define 8 diffent options---a **European put and call option per risk factor**, respectively."
     ]
    },
    {
     "cell_type": "code",
     "collapsed": false,
     "input": [
      "# market environment for the options\n",
      "me_option = dx.market_environment('option', dt.datetime(2015, 1, 1))\n",
      "me_option.add_constant('maturity', dt.datetime(2015, 12, 31))\n",
      "me_option.add_constant('strike', 100.)\n",
      "me_option.add_constant('currency', 'EUR')\n",
      "me_option.add_environment(me)\n",
      "me_option.add_environment(val_env)"
     ],
     "language": "python",
     "metadata": {},
     "outputs": [],
     "prompt_number": 12
    },
    {
     "cell_type": "code",
     "collapsed": false,
     "input": [
      "euro_put_gbm = dx.valuation_mcs_european_single('euro_put', gbm, me_option,\n",
      "                                  'np.maximum(strike - maturity_value, 0)')\n",
      "euro_call_gbm = dx.valuation_mcs_european_single('euro_call', gbm, me_option,\n",
      "                                  'np.maximum(maturity_value - strike, 0)')"
     ],
     "language": "python",
     "metadata": {},
     "outputs": [],
     "prompt_number": 13
    },
    {
     "cell_type": "code",
     "collapsed": false,
     "input": [
      "euro_put_jd = dx.valuation_mcs_european_single('euro_put', jd, me_option,\n",
      "                                  'np.maximum(strike - maturity_value, 0)')\n",
      "euro_call_jd = dx.valuation_mcs_european_single('euro_call', jd, me_option,\n",
      "                                  'np.maximum(maturity_value - strike, 0)')"
     ],
     "language": "python",
     "metadata": {},
     "outputs": [],
     "prompt_number": 14
    },
    {
     "cell_type": "code",
     "collapsed": false,
     "input": [
      "euro_put_sv = dx.valuation_mcs_european_single('euro_put', sv, me_option,\n",
      "                                  'np.maximum(strike - maturity_value, 0)')\n",
      "euro_call_sv = dx.valuation_mcs_european_single('euro_call', sv, me_option,\n",
      "                                  'np.maximum(maturity_value - strike, 0)')"
     ],
     "language": "python",
     "metadata": {},
     "outputs": [],
     "prompt_number": 15
    },
    {
     "cell_type": "code",
     "collapsed": false,
     "input": [
      "euro_put_svjd = dx.valuation_mcs_european_single('euro_put', svjd, me_option,\n",
      "                                  'np.maximum(strike - maturity_value, 0)')\n",
      "euro_call_svjd = dx.valuation_mcs_european_single('euro_call', svjd, me_option,\n",
      "                                  'np.maximum(maturity_value - strike, 0)')"
     ],
     "language": "python",
     "metadata": {},
     "outputs": [],
     "prompt_number": 16
    },
    {
     "cell_type": "heading",
     "level": 2,
     "metadata": {},
     "source": [
      "Valuation Benchmarking"
     ]
    },
    {
     "cell_type": "markdown",
     "metadata": {},
     "source": [
      "In this sub-section, we benchmark the **Monte Carlo value estimates** against the **Fourier-based pricing results**."
     ]
    },
    {
     "cell_type": "code",
     "collapsed": false,
     "input": [
      "import numpy as np\n",
      "import pandas as pd"
     ],
     "language": "python",
     "metadata": {},
     "outputs": [],
     "prompt_number": 17
    },
    {
     "cell_type": "markdown",
     "metadata": {},
     "source": [
      "We first define some parameters used throughout."
     ]
    },
    {
     "cell_type": "code",
     "collapsed": false,
     "input": [
      "freq = '2m'  # used for maturity definitions\n",
      "periods = 3  # number of intervals for maturity grid\n",
      "strikes = 5  # number of strikes per maturity\n",
      "initial_value = 100  # initial value for all risk factors\n",
      "start = 0.8  # lowest strike in percent of spot\n",
      "end = 1.2  # highest strike in percent of spot\n",
      "start_date = '2015/3/1'  # start date for simulation/pricing"
     ],
     "language": "python",
     "metadata": {},
     "outputs": [],
     "prompt_number": 18
    },
    {
     "cell_type": "heading",
     "level": 3,
     "metadata": {},
     "source": [
      "Geometric Brownian Motion"
     ]
    },
    {
     "cell_type": "markdown",
     "metadata": {},
     "source": [
      "We need to initialize the valuation object first."
     ]
    },
    {
     "cell_type": "code",
     "collapsed": false,
     "input": [
      "euro_put_gbm.present_value()\n",
      "  # method call needed for initialization"
     ],
     "language": "python",
     "metadata": {},
     "outputs": [
      {
       "metadata": {},
       "output_type": "pyout",
       "prompt_number": 19,
       "text": [
        "7.426649"
       ]
      }
     ],
     "prompt_number": 19
    },
    {
     "cell_type": "markdown",
     "metadata": {},
     "source": [
      "There is a **valuation class for European put and call options in the Black-Scholes-Merton model** available called `BSM_european_option`. It is based on the analytical pricing formula for that model and is instantiated as follows:"
     ]
    },
    {
     "cell_type": "code",
     "collapsed": false,
     "input": [
      "bsm_option = dx.BSM_european_option('bsm_opt', me_option)"
     ],
     "language": "python",
     "metadata": {},
     "outputs": [],
     "prompt_number": 20
    },
    {
     "cell_type": "markdown",
     "metadata": {},
     "source": [
      "The following routine benchmarks the Monte Carlo value estimates for the **European put option** against the output from the valuation object based on the analytical pricing formula. The results are quite good since this model is quite easy to discretize exactly and therefore generally shows good convergence of the Monte Carlo estimates."
     ]
    },
    {
     "cell_type": "code",
     "collapsed": false,
     "input": [
      "%%time\n",
      "# European put\n",
      "print '%4s  | %7s | %7s | %7s | %7s | %7s' % ('T', 'strike', 'mcs', 'fou', 'dif', 'rel')\n",
      "for maturity in pd.date_range(start=start_date, freq=freq, periods=periods):\n",
      "    bsm_option.maturity = maturity\n",
      "    euro_put_gbm.update(maturity=maturity)\n",
      "    for strike in np.linspace(start, end, strikes) * initial_value:\n",
      "        T = (maturity - me_option.pricing_date).days / 365.\n",
      "        euro_put_gbm.update(strike=strike)\n",
      "        mcs = euro_put_gbm.present_value()\n",
      "        bsm_option.strike = strike\n",
      "        ana = bsm_option.put_value()\n",
      "        print '%4.3f | %7.3f | %7.4f | %7.4f | %7.4f | %7.2f ' \\\n",
      "                % (T, strike, mcs, ana, mcs - ana, (mcs - ana) / ana * 100)"
     ],
     "language": "python",
     "metadata": {},
     "outputs": [
      {
       "output_type": "stream",
       "stream": "stdout",
       "text": [
        "   T  |  strike |     mcs |     fou |     dif |     rel\n",
        "0.244 |  80.000 |  0.0296 |  0.0338 | -0.0042 |  -12.36 "
       ]
      },
      {
       "output_type": "stream",
       "stream": "stdout",
       "text": [
        "\n",
        "0.244 |  90.000 |  0.6395 |  0.6524 | -0.0129 |   -1.98 "
       ]
      },
      {
       "output_type": "stream",
       "stream": "stdout",
       "text": [
        "\n",
        "0.244 | 100.000 |  3.7849 |  3.8130 | -0.0280 |   -0.74 "
       ]
      },
      {
       "output_type": "stream",
       "stream": "stdout",
       "text": [
        "\n",
        "0.244 | 110.000 | 10.6233 | 10.6957 | -0.0724 |   -0.68 "
       ]
      },
      {
       "output_type": "stream",
       "stream": "stdout",
       "text": [
        "\n",
        "0.244 | 120.000 | 19.7020 | 19.8537 | -0.1518 |   -0.76 "
       ]
      },
      {
       "output_type": "stream",
       "stream": "stdout",
       "text": [
        "\n",
        "0.411 |  80.000 |  0.1737 |  0.1748 | -0.0010 |   -0.59 "
       ]
      },
      {
       "output_type": "stream",
       "stream": "stdout",
       "text": [
        "\n",
        "0.411 |  90.000 |  1.3280 |  1.3241 |  0.0039 |    0.30 "
       ]
      },
      {
       "output_type": "stream",
       "stream": "stdout",
       "text": [
        "\n",
        "0.411 | 100.000 |  4.8464 |  4.8985 | -0.0521 |   -1.06 "
       ]
      },
      {
       "output_type": "stream",
       "stream": "stdout",
       "text": [
        "\n",
        "0.411 | 110.000 | 11.3545 | 11.4275 | -0.0730 |   -0.64 "
       ]
      },
      {
       "output_type": "stream",
       "stream": "stdout",
       "text": [
        "\n",
        "0.411 | 120.000 | 19.9215 | 20.0325 | -0.1109 |   -0.55 "
       ]
      },
      {
       "output_type": "stream",
       "stream": "stdout",
       "text": [
        "\n",
        "0.578 |  80.000 |  0.3989 |  0.3917 |  0.0072 |    1.83 "
       ]
      },
      {
       "output_type": "stream",
       "stream": "stdout",
       "text": [
        "\n",
        "0.578 |  90.000 |  1.9213 |  1.9466 | -0.0253 |   -1.30 "
       ]
      },
      {
       "output_type": "stream",
       "stream": "stdout",
       "text": [
        "\n",
        "0.578 | 100.000 |  5.7437 |  5.7593 | -0.0156 |   -0.27 "
       ]
      },
      {
       "output_type": "stream",
       "stream": "stdout",
       "text": [
        "\n",
        "0.578 | 110.000 | 12.0448 | 12.0934 | -0.0486 |   -0.40 "
       ]
      },
      {
       "output_type": "stream",
       "stream": "stdout",
       "text": [
        "\n",
        "0.578 | 120.000 | 20.2223 | 20.3153 | -0.0930 |   -0.46 "
       ]
      },
      {
       "output_type": "stream",
       "stream": "stdout",
       "text": [
        "\n",
        "CPU times: user 19.3 s, sys: 7.13 s, total: 26.4 s\n",
        "Wall time: 26.8 s\n"
       ]
      }
     ],
     "prompt_number": 21
    },
    {
     "cell_type": "markdown",
     "metadata": {},
     "source": [
      "The same now for the **European call option**."
     ]
    },
    {
     "cell_type": "code",
     "collapsed": false,
     "input": [
      "euro_call_gbm.present_value()\n",
      "  # method call needed for initialization"
     ],
     "language": "python",
     "metadata": {},
     "outputs": [
      {
       "metadata": {},
       "output_type": "pyout",
       "prompt_number": 22,
       "text": [
        "8.387401"
       ]
      }
     ],
     "prompt_number": 22
    },
    {
     "cell_type": "code",
     "collapsed": false,
     "input": [
      "%%time\n",
      "# European calls\n",
      "print '%4s  | %7s | %7s | %7s | %7s | %7s' % ('T', 'strike', 'mcs', 'fou', 'dif', 'rel')\n",
      "for maturity in pd.date_range(start=start_date, freq=freq, periods=periods):\n",
      "    euro_call_gbm.update(maturity=maturity)\n",
      "    for strike in np.linspace(start, end, strikes) * initial_value:\n",
      "        T = (maturity - me_option.pricing_date).days / 365.\n",
      "        euro_call_gbm.update(strike=strike)\n",
      "        mcs = euro_call_gbm.present_value()\n",
      "        bsm_option.strike = strike\n",
      "        bsm_option.maturity = maturity\n",
      "        ana = bsm_option.call_value()\n",
      "        print '%4.3f | %7.3f | %7.4f | %7.4f | %7.4f | %7.2f ' \\\n",
      "                % (T, strike, mcs, ana, mcs - ana, (mcs - ana) / ana * 100)"
     ],
     "language": "python",
     "metadata": {},
     "outputs": [
      {
       "output_type": "stream",
       "stream": "stdout",
       "text": [
        "   T  |  strike |     mcs |     fou |     dif |     rel\n",
        "0.244 |  80.000 | 20.0674 | 20.2286 | -0.1613 |   -0.80 "
       ]
      },
      {
       "output_type": "stream",
       "stream": "stdout",
       "text": [
        "\n",
        "0.244 |  90.000 | 10.7919 | 10.8716 | -0.0797 |   -0.73 "
       ]
      },
      {
       "output_type": "stream",
       "stream": "stdout",
       "text": [
        "\n",
        "0.244 | 100.000 |  4.0530 |  4.0565 | -0.0035 |   -0.09 "
       ]
      },
      {
       "output_type": "stream",
       "stream": "stdout",
       "text": [
        "\n",
        "0.244 | 110.000 |  0.9677 |  0.9636 |  0.0041 |    0.42 "
       ]
      },
      {
       "output_type": "stream",
       "stream": "stdout",
       "text": [
        "\n",
        "0.244 | 120.000 |  0.1526 |  0.1460 |  0.0066 |    4.55 "
       ]
      },
      {
       "output_type": "stream",
       "stream": "stdout",
       "text": [
        "\n",
        "0.411 |  80.000 | 20.3841 | 20.5029 | -0.1187 |   -0.58 "
       ]
      },
      {
       "output_type": "stream",
       "stream": "stdout",
       "text": [
        "\n",
        "0.411 |  90.000 | 11.6419 | 11.6932 | -0.0513 |   -0.44 "
       ]
      },
      {
       "output_type": "stream",
       "stream": "stdout",
       "text": [
        "\n",
        "0.411 | 100.000 |  5.2517 |  5.3086 | -0.0569 |   -1.07 "
       ]
      },
      {
       "output_type": "stream",
       "stream": "stdout",
       "text": [
        "\n",
        "0.411 | 110.000 |  1.8972 |  1.8787 |  0.0185 |    0.98 "
       ]
      },
      {
       "output_type": "stream",
       "stream": "stdout",
       "text": [
        "\n",
        "0.411 | 120.000 |  0.5424 |  0.5246 |  0.0178 |    3.39 "
       ]
      },
      {
       "output_type": "stream",
       "stream": "stdout",
       "text": [
        "\n",
        "0.578 |  80.000 | 20.7550 | 20.8528 | -0.0979 |   -0.47 "
       ]
      },
      {
       "output_type": "stream",
       "stream": "stdout",
       "text": [
        "\n",
        "0.578 |  90.000 | 12.4317 | 12.4654 | -0.0337 |   -0.27 "
       ]
      },
      {
       "output_type": "stream",
       "stream": "stdout",
       "text": [
        "\n",
        "0.578 | 100.000 |  6.3242 |  6.3357 | -0.0115 |   -0.18 "
       ]
      },
      {
       "output_type": "stream",
       "stream": "stdout",
       "text": [
        "\n",
        "0.578 | 110.000 |  2.6700 |  2.7274 | -0.0575 |   -2.11 "
       ]
      },
      {
       "output_type": "stream",
       "stream": "stdout",
       "text": [
        "\n",
        "0.578 | 120.000 |  1.0079 |  1.0070 |  0.0009 |    0.09 "
       ]
      },
      {
       "output_type": "stream",
       "stream": "stdout",
       "text": [
        "\n",
        "CPU times: user 19 s, sys: 6.98 s, total: 26 s\n",
        "Wall time: 26.2 s\n"
       ]
      }
     ],
     "prompt_number": 23
    },
    {
     "cell_type": "heading",
     "level": 3,
     "metadata": {},
     "source": [
      "Benchmarking Function"
     ]
    },
    {
     "cell_type": "markdown",
     "metadata": {},
     "source": [
      "All other valuation benchmarks are generated with **Fourier-based pricing functions** for which the handling is identical. We therefore use the following function for the benchmarks from now on:"
     ]
    },
    {
     "cell_type": "code",
     "collapsed": false,
     "input": [
      "def valuation_benchmarking(valuation_object, fourier_function):\n",
      "    print '%4s  | %7s | %7s | %7s | %7s | %7s' % ('T', 'strike', 'mcs', 'fou', 'dif', 'rel')\n",
      "    for maturity in pd.date_range(start=start_date, freq=freq, periods=periods):\n",
      "        valuation_object.update(maturity=maturity)\n",
      "        me_option.add_constant('maturity', maturity)\n",
      "        for strike in np.linspace(start, end, strikes) * initial_value:\n",
      "            T = (maturity - me_option.pricing_date).days / 365.\n",
      "            valuation_object.update(strike=strike)\n",
      "            mcs = valuation_object.present_value()\n",
      "            me_option.add_constant('strike', strike)\n",
      "            fou = fourier_function(me_option)\n",
      "            print '%4.3f | %7.3f | %7.4f | %7.4f | %7.4f | %7.3f ' \\\n",
      "                % (T, strike, mcs, fou, mcs - fou, (mcs - fou) / fou * 100)"
     ],
     "language": "python",
     "metadata": {},
     "outputs": [],
     "prompt_number": 24
    },
    {
     "cell_type": "heading",
     "level": 3,
     "metadata": {},
     "source": [
      "Jump Diffusion"
     ]
    },
    {
     "cell_type": "markdown",
     "metadata": {},
     "source": [
      "The next model is the jump diffusion as proposed by **Merton (1976)**."
     ]
    },
    {
     "cell_type": "code",
     "collapsed": false,
     "input": [
      "euro_put_jd.present_value()\n",
      "  # method call needed for initialization"
     ],
     "language": "python",
     "metadata": {},
     "outputs": [
      {
       "metadata": {},
       "output_type": "pyout",
       "prompt_number": 25,
       "text": [
        "14.110603"
       ]
      }
     ],
     "prompt_number": 25
    },
    {
     "cell_type": "markdown",
     "metadata": {},
     "source": [
      "There is a Fourier-based pricing function available which is called `M76_put_value` and which is used for the benchmarking for the **European put options** that follows."
     ]
    },
    {
     "cell_type": "code",
     "collapsed": false,
     "input": [
      "%time valuation_benchmarking(euro_put_jd, dx.M76_put_value)"
     ],
     "language": "python",
     "metadata": {},
     "outputs": [
      {
       "output_type": "stream",
       "stream": "stdout",
       "text": [
        "   T  |  strike |     mcs |     fou |     dif |     rel\n",
        "0.244 |  80.000 |  2.1578 |  2.1594 | -0.0016 |  -0.076 "
       ]
      },
      {
       "output_type": "stream",
       "stream": "stdout",
       "text": [
        "\n",
        "0.244 |  90.000 |  3.2849 |  3.2826 |  0.0022 |   0.068 "
       ]
      },
      {
       "output_type": "stream",
       "stream": "stdout",
       "text": [
        "\n",
        "0.244 | 100.000 |  5.8446 |  5.8842 | -0.0396 |  -0.673 "
       ]
      },
      {
       "output_type": "stream",
       "stream": "stdout",
       "text": [
        "\n",
        "0.244 | 110.000 | 11.5675 | 11.6115 | -0.0440 |  -0.379 "
       ]
      },
      {
       "output_type": "stream",
       "stream": "stdout",
       "text": [
        "\n",
        "0.244 | 120.000 | 19.8954 | 20.0857 | -0.1903 |  -0.947 "
       ]
      },
      {
       "output_type": "stream",
       "stream": "stdout",
       "text": [
        "\n",
        "0.411 |  80.000 |  3.4444 |  3.4505 | -0.0062 |  -0.178 "
       ]
      },
      {
       "output_type": "stream",
       "stream": "stdout",
       "text": [
        "\n",
        "0.411 |  90.000 |  5.2180 |  5.2162 |  0.0018 |   0.034 "
       ]
      },
      {
       "output_type": "stream",
       "stream": "stdout",
       "text": [
        "\n",
        "0.411 | 100.000 |  8.1899 |  8.2266 | -0.0367 |  -0.446 "
       ]
      },
      {
       "output_type": "stream",
       "stream": "stdout",
       "text": [
        "\n",
        "0.411 | 110.000 | 13.4293 | 13.4430 | -0.0137 |  -0.102 "
       ]
      },
      {
       "output_type": "stream",
       "stream": "stdout",
       "text": [
        "\n",
        "0.411 | 120.000 | 20.8229 | 20.9238 | -0.1010 |  -0.483 "
       ]
      },
      {
       "output_type": "stream",
       "stream": "stdout",
       "text": [
        "\n",
        "0.578 |  80.000 |  4.5181 |  4.6090 | -0.0908 |  -1.971 "
       ]
      },
      {
       "output_type": "stream",
       "stream": "stdout",
       "text": [
        "\n",
        "0.578 |  90.000 |  6.6895 |  6.8782 | -0.1887 |  -2.743 "
       ]
      },
      {
       "output_type": "stream",
       "stream": "stdout",
       "text": [
        "\n",
        "0.578 | 100.000 | 10.1762 | 10.2077 | -0.0315 |  -0.309 "
       ]
      },
      {
       "output_type": "stream",
       "stream": "stdout",
       "text": [
        "\n",
        "0.578 | 110.000 | 15.0732 | 15.2251 | -0.1519 |  -0.997 "
       ]
      },
      {
       "output_type": "stream",
       "stream": "stdout",
       "text": [
        "\n",
        "0.578 | 120.000 | 21.9232 | 22.0886 | -0.1654 |  -0.749 "
       ]
      },
      {
       "output_type": "stream",
       "stream": "stdout",
       "text": [
        "\n",
        "CPU times: user 52.3 s, sys: 14.3 s, total: 1min 6s\n",
        "Wall time: 1min 8s\n"
       ]
      }
     ],
     "prompt_number": 26
    },
    {
     "cell_type": "markdown",
     "metadata": {},
     "source": [
      "Accordingly, the benchmarking for the **European call options** based on the Fourier-based `M76_call_value` function."
     ]
    },
    {
     "cell_type": "code",
     "collapsed": false,
     "input": [
      "euro_call_jd.present_value()\n",
      "  # method call needed for initialization"
     ],
     "language": "python",
     "metadata": {},
     "outputs": [
      {
       "metadata": {},
       "output_type": "pyout",
       "prompt_number": 27,
       "text": [
        "15.041776"
       ]
      }
     ],
     "prompt_number": 27
    },
    {
     "cell_type": "code",
     "collapsed": false,
     "input": [
      "%time valuation_benchmarking(euro_call_jd, dx.M76_call_value)"
     ],
     "language": "python",
     "metadata": {},
     "outputs": [
      {
       "output_type": "stream",
       "stream": "stdout",
       "text": [
        "   T  |  strike |     mcs |     fou |     dif |     rel\n",
        "0.244 |  80.000 | 22.1544 | 22.3543 | -0.1999 |  -0.894 "
       ]
      },
      {
       "output_type": "stream",
       "stream": "stdout",
       "text": [
        "\n",
        "0.244 |  90.000 | 13.4257 | 13.5018 | -0.0761 |  -0.564 "
       ]
      },
      {
       "output_type": "stream",
       "stream": "stdout",
       "text": [
        "\n",
        "0.244 | 100.000 |  6.1001 |  6.1277 | -0.0277 |  -0.451 "
       ]
      },
      {
       "output_type": "stream",
       "stream": "stdout",
       "text": [
        "\n",
        "0.244 | 110.000 |  1.8704 |  1.8794 | -0.0090 |  -0.479 "
       ]
      },
      {
       "output_type": "stream",
       "stream": "stdout",
       "text": [
        "\n",
        "0.244 | 120.000 |  0.3886 |  0.3780 |  0.0106 |   2.816 "
       ]
      },
      {
       "output_type": "stream",
       "stream": "stdout",
       "text": [
        "\n",
        "0.411 |  80.000 | 23.6690 | 23.7786 | -0.1096 |  -0.461 "
       ]
      },
      {
       "output_type": "stream",
       "stream": "stdout",
       "text": [
        "\n",
        "0.411 |  90.000 | 15.4957 | 15.5853 | -0.0896 |  -0.575 "
       ]
      },
      {
       "output_type": "stream",
       "stream": "stdout",
       "text": [
        "\n",
        "0.411 | 100.000 |  8.5614 |  8.6367 | -0.0753 |  -0.872 "
       ]
      },
      {
       "output_type": "stream",
       "stream": "stdout",
       "text": [
        "\n",
        "0.411 | 110.000 |  3.8752 |  3.8941 | -0.0189 |  -0.485 "
       ]
      },
      {
       "output_type": "stream",
       "stream": "stdout",
       "text": [
        "\n",
        "0.411 | 120.000 |  1.4060 |  1.4160 | -0.0100 |  -0.706 "
       ]
      },
      {
       "output_type": "stream",
       "stream": "stdout",
       "text": [
        "\n",
        "0.578 |  80.000 | 24.9809 | 25.0701 | -0.0892 |  -0.356 "
       ]
      },
      {
       "output_type": "stream",
       "stream": "stdout",
       "text": [
        "\n",
        "0.578 |  90.000 | 17.2258 | 17.3970 | -0.1711 |  -0.984 "
       ]
      },
      {
       "output_type": "stream",
       "stream": "stdout",
       "text": [
        "\n",
        "0.578 | 100.000 | 10.7404 | 10.7841 | -0.0436 |  -0.405 "
       ]
      },
      {
       "output_type": "stream",
       "stream": "stdout",
       "text": [
        "\n",
        "0.578 | 110.000 |  5.8536 |  5.8591 | -0.0055 |  -0.095 "
       ]
      },
      {
       "output_type": "stream",
       "stream": "stdout",
       "text": [
        "\n",
        "0.578 | 120.000 |  2.7248 |  2.7803 | -0.0555 |  -1.997 "
       ]
      },
      {
       "output_type": "stream",
       "stream": "stdout",
       "text": [
        "\n",
        "CPU times: user 47.1 s, sys: 11.9 s, total: 59.1 s\n",
        "Wall time: 1min\n"
       ]
      }
     ],
     "prompt_number": 28
    },
    {
     "cell_type": "heading",
     "level": 3,
     "metadata": {},
     "source": [
      "Stochastic Volatility"
     ]
    },
    {
     "cell_type": "markdown",
     "metadata": {},
     "source": [
      "Stochastic volatility models like the one of **Heston (1993)** are popular to reproduce implied volatility smiles observed in markets. First, the benchmarking for the **European put options** using the Fourier-based `H93_put_value` function."
     ]
    },
    {
     "cell_type": "code",
     "collapsed": false,
     "input": [
      "euro_put_sv.present_value()\n",
      "  # method call needed for initialization"
     ],
     "language": "python",
     "metadata": {},
     "outputs": [
      {
       "metadata": {},
       "output_type": "pyout",
       "prompt_number": 29,
       "text": [
        "5.319849"
       ]
      }
     ],
     "prompt_number": 29
    },
    {
     "cell_type": "code",
     "collapsed": false,
     "input": [
      "%time valuation_benchmarking(euro_put_sv, dx.H93_put_value)"
     ],
     "language": "python",
     "metadata": {},
     "outputs": [
      {
       "output_type": "stream",
       "stream": "stdout",
       "text": [
        "   T  |  strike |     mcs |     fou |     dif |     rel\n",
        "0.244 |  80.000 |  0.0505 |  0.0504 |  0.0000 |   0.035 "
       ]
      },
      {
       "output_type": "stream",
       "stream": "stdout",
       "text": [
        "\n",
        "0.244 |  90.000 |  0.5449 |  0.5741 | -0.0292 |  -5.090 "
       ]
      },
      {
       "output_type": "stream",
       "stream": "stdout",
       "text": [
        "\n",
        "0.244 | 100.000 |  3.2740 |  3.3204 | -0.0464 |  -1.398 "
       ]
      },
      {
       "output_type": "stream",
       "stream": "stdout",
       "text": [
        "\n",
        "0.244 | 110.000 | 10.1438 | 10.2404 | -0.0966 |  -0.944 "
       ]
      },
      {
       "output_type": "stream",
       "stream": "stdout",
       "text": [
        "\n",
        "0.244 | 120.000 | 19.5859 | 19.7354 | -0.1494 |  -0.757 "
       ]
      },
      {
       "output_type": "stream",
       "stream": "stdout",
       "text": [
        "\n",
        "0.411 |  80.000 |  0.1398 |  0.1603 | -0.0205 | -12.775 "
       ]
      },
      {
       "output_type": "stream",
       "stream": "stdout",
       "text": [
        "\n",
        "0.411 |  90.000 |  0.9645 |  1.0063 | -0.0418 |  -4.154 "
       ]
      },
      {
       "output_type": "stream",
       "stream": "stdout",
       "text": [
        "\n",
        "0.411 | 100.000 |  3.9238 |  4.0234 | -0.0996 |  -2.476 "
       ]
      },
      {
       "output_type": "stream",
       "stream": "stdout",
       "text": [
        "\n",
        "0.411 | 110.000 | 10.4443 | 10.5487 | -0.1044 |  -0.990 "
       ]
      },
      {
       "output_type": "stream",
       "stream": "stdout",
       "text": [
        "\n",
        "0.411 | 120.000 | 19.4965 | 19.6293 | -0.1327 |  -0.676 "
       ]
      },
      {
       "output_type": "stream",
       "stream": "stdout",
       "text": [
        "\n",
        "0.578 |  80.000 |  0.2528 |  0.2838 | -0.0310 | -10.916 "
       ]
      },
      {
       "output_type": "stream",
       "stream": "stdout",
       "text": [
        "\n",
        "0.578 |  90.000 |  1.2493 |  1.3631 | -0.1138 |  -8.346 "
       ]
      },
      {
       "output_type": "stream",
       "stream": "stdout",
       "text": [
        "\n",
        "0.578 | 100.000 |  4.3967 |  4.5467 | -0.1500 |  -3.299 "
       ]
      },
      {
       "output_type": "stream",
       "stream": "stdout",
       "text": [
        "\n",
        "0.578 | 110.000 | 10.7004 | 10.8389 | -0.1384 |  -1.277 "
       ]
      },
      {
       "output_type": "stream",
       "stream": "stdout",
       "text": [
        "\n",
        "0.578 | 120.000 | 19.4616 | 19.5767 | -0.1151 |  -0.588 "
       ]
      },
      {
       "output_type": "stream",
       "stream": "stdout",
       "text": [
        "\n",
        "CPU times: user 49.4 s, sys: 16.6 s, total: 1min 6s\n",
        "Wall time: 1min 9s\n"
       ]
      }
     ],
     "prompt_number": 30
    },
    {
     "cell_type": "markdown",
     "metadata": {},
     "source": [
      "Second, the benchmarking for the **European call options** based on the Fourier-based `H93_call_value` function."
     ]
    },
    {
     "cell_type": "code",
     "collapsed": false,
     "input": [
      "euro_call_sv.present_value()\n",
      "  # method call needed for initialization"
     ],
     "language": "python",
     "metadata": {},
     "outputs": [
      {
       "metadata": {},
       "output_type": "pyout",
       "prompt_number": 31,
       "text": [
        "6.285179"
       ]
      }
     ],
     "prompt_number": 31
    },
    {
     "cell_type": "code",
     "collapsed": false,
     "input": [
      "%time valuation_benchmarking(euro_call_sv, dx.H93_call_value)"
     ],
     "language": "python",
     "metadata": {},
     "outputs": [
      {
       "output_type": "stream",
       "stream": "stdout",
       "text": [
        "   T  |  strike |     mcs |     fou |     dif |     rel\n",
        "0.244 |  80.000 | 20.0894 | 20.2453 | -0.1559 |  -0.770 "
       ]
      },
      {
       "output_type": "stream",
       "stream": "stdout",
       "text": [
        "\n",
        "0.244 |  90.000 | 10.6959 | 10.7933 | -0.0974 |  -0.902 "
       ]
      },
      {
       "output_type": "stream",
       "stream": "stdout",
       "text": [
        "\n",
        "0.244 | 100.000 |  3.4871 |  3.5639 | -0.0768 |  -2.155 "
       ]
      },
      {
       "output_type": "stream",
       "stream": "stdout",
       "text": [
        "\n",
        "0.244 | 110.000 |  0.4797 |  0.5083 | -0.0286 |  -5.620 "
       ]
      },
      {
       "output_type": "stream",
       "stream": "stdout",
       "text": [
        "\n",
        "0.244 | 120.000 |  0.0221 |  0.0276 | -0.0055 | -19.865 "
       ]
      },
      {
       "output_type": "stream",
       "stream": "stdout",
       "text": [
        "\n",
        "0.411 |  80.000 | 20.3448 | 20.4884 | -0.1436 |  -0.701 "
       ]
      },
      {
       "output_type": "stream",
       "stream": "stdout",
       "text": [
        "\n",
        "0.411 |  90.000 | 11.2700 | 11.3754 | -0.1054 |  -0.926 "
       ]
      },
      {
       "output_type": "stream",
       "stream": "stdout",
       "text": [
        "\n",
        "0.411 | 100.000 |  4.3508 |  4.4335 | -0.0827 |  -1.865 "
       ]
      },
      {
       "output_type": "stream",
       "stream": "stdout",
       "text": [
        "\n",
        "0.411 | 110.000 |  0.9520 |  0.9998 | -0.0479 |  -4.789 "
       ]
      },
      {
       "output_type": "stream",
       "stream": "stdout",
       "text": [
        "\n",
        "0.411 | 120.000 |  0.1063 |  0.1214 | -0.0150 | -12.392 "
       ]
      },
      {
       "output_type": "stream",
       "stream": "stdout",
       "text": [
        "\n",
        "0.578 |  80.000 | 20.6341 | 20.7450 | -0.1108 |  -0.534 "
       ]
      },
      {
       "output_type": "stream",
       "stream": "stdout",
       "text": [
        "\n",
        "0.578 |  90.000 | 11.7421 | 11.8818 | -0.1398 |  -1.176 "
       ]
      },
      {
       "output_type": "stream",
       "stream": "stdout",
       "text": [
        "\n",
        "0.578 | 100.000 |  4.9839 |  5.1231 | -0.1392 |  -2.717 "
       ]
      },
      {
       "output_type": "stream",
       "stream": "stdout",
       "text": [
        "\n",
        "0.578 | 110.000 |  1.3924 |  1.4729 | -0.0805 |  -5.468 "
       ]
      },
      {
       "output_type": "stream",
       "stream": "stdout",
       "text": [
        "\n",
        "0.578 | 120.000 |  0.2417 |  0.2684 | -0.0267 |  -9.964 "
       ]
      },
      {
       "output_type": "stream",
       "stream": "stdout",
       "text": [
        "\n",
        "CPU times: user 51.9 s, sys: 17 s, total: 1min 8s\n",
        "Wall time: 1min 9s\n"
       ]
      }
     ],
     "prompt_number": 32
    },
    {
     "cell_type": "heading",
     "level": 3,
     "metadata": {},
     "source": [
      "Stochastic Volatility Jump-Diffusion"
     ]
    },
    {
     "cell_type": "markdown",
     "metadata": {},
     "source": [
      "Finally, we consider the combination of the stochastic volatility and jump diffusion models from before as proposed by **Bates (1996)**. The Fourier-based pricing function for **European put options** is called `B96_put_value`."
     ]
    },
    {
     "cell_type": "code",
     "collapsed": false,
     "input": [
      "euro_put_svjd.present_value()\n",
      "  # method call needed for initialization"
     ],
     "language": "python",
     "metadata": {},
     "outputs": [
      {
       "metadata": {},
       "output_type": "pyout",
       "prompt_number": 33,
       "text": [
        "12.97055"
       ]
      }
     ],
     "prompt_number": 33
    },
    {
     "cell_type": "code",
     "collapsed": false,
     "input": [
      "%time valuation_benchmarking(euro_put_svjd, dx.B96_put_value)"
     ],
     "language": "python",
     "metadata": {},
     "outputs": [
      {
       "output_type": "stream",
       "stream": "stdout",
       "text": [
        "   T  |  strike |     mcs |     fou |     dif |     rel\n",
        "0.244 |  80.000 |  2.0760 |  2.1638 | -0.0879 |  -4.061 "
       ]
      },
      {
       "output_type": "stream",
       "stream": "stdout",
       "text": [
        "\n",
        "0.244 |  90.000 |  3.1844 |  3.2761 | -0.0917 |  -2.800 "
       ]
      },
      {
       "output_type": "stream",
       "stream": "stdout",
       "text": [
        "\n",
        "0.244 | 100.000 |  5.4335 |  5.5889 | -0.1554 |  -2.780 "
       ]
      },
      {
       "output_type": "stream",
       "stream": "stdout",
       "text": [
        "\n",
        "0.244 | 110.000 | 10.9532 | 11.0733 | -0.1200 |  -1.084 "
       ]
      },
      {
       "output_type": "stream",
       "stream": "stdout",
       "text": [
        "\n",
        "0.244 | 120.000 | 19.5664 | 19.8344 | -0.2680 |  -1.351 "
       ]
      },
      {
       "output_type": "stream",
       "stream": "stdout",
       "text": [
        "\n",
        "0.411 |  80.000 |  3.3022 |  3.4366 | -0.1344 |  -3.911 "
       ]
      },
      {
       "output_type": "stream",
       "stream": "stdout",
       "text": [
        "\n",
        "0.411 |  90.000 |  5.0591 |  5.1339 | -0.0748 |  -1.457 "
       ]
      },
      {
       "output_type": "stream",
       "stream": "stdout",
       "text": [
        "\n",
        "0.411 | 100.000 |  7.5734 |  7.7747 | -0.2013 |  -2.589 "
       ]
      },
      {
       "output_type": "stream",
       "stream": "stdout",
       "text": [
        "\n",
        "0.411 | 110.000 | 12.4794 | 12.5744 | -0.0950 |  -0.756 "
       ]
      },
      {
       "output_type": "stream",
       "stream": "stdout",
       "text": [
        "\n",
        "0.411 | 120.000 | 20.0300 | 20.1827 | -0.1528 |  -0.757 "
       ]
      },
      {
       "output_type": "stream",
       "stream": "stdout",
       "text": [
        "\n",
        "0.578 |  80.000 |  4.4160 |  4.5480 | -0.1320 |  -2.902 "
       ]
      },
      {
       "output_type": "stream",
       "stream": "stdout",
       "text": [
        "\n",
        "0.578 |  90.000 |  6.4831 |  6.7163 | -0.2333 |  -3.473 "
       ]
      },
      {
       "output_type": "stream",
       "stream": "stdout",
       "text": [
        "\n",
        "0.578 | 100.000 |  9.3165 |  9.6585 | -0.3420 |  -3.540 "
       ]
      },
      {
       "output_type": "stream",
       "stream": "stdout",
       "text": [
        "\n",
        "0.578 | 110.000 | 13.8661 | 14.1776 | -0.3115 |  -2.197 "
       ]
      },
      {
       "output_type": "stream",
       "stream": "stdout",
       "text": [
        "\n",
        "0.578 | 120.000 | 20.7934 | 20.9423 | -0.1489 |  -0.711 "
       ]
      },
      {
       "output_type": "stream",
       "stream": "stdout",
       "text": [
        "\n",
        "CPU times: user 1min 12s, sys: 19.8 s, total: 1min 32s\n",
        "Wall time: 1min 35s\n"
       ]
      }
     ],
     "prompt_number": 34
    },
    {
     "cell_type": "markdown",
     "metadata": {},
     "source": [
      "The Fourier-based counterpart function for **European call options** is called `B96_call_value`."
     ]
    },
    {
     "cell_type": "code",
     "collapsed": false,
     "input": [
      "euro_call_svjd.present_value()\n",
      "  # method call needed for initialization"
     ],
     "language": "python",
     "metadata": {},
     "outputs": [
      {
       "metadata": {},
       "output_type": "pyout",
       "prompt_number": 35,
       "text": [
        "13.981339"
       ]
      }
     ],
     "prompt_number": 35
    },
    {
     "cell_type": "code",
     "collapsed": false,
     "input": [
      "%time valuation_benchmarking(euro_call_svjd, dx.B96_call_value)"
     ],
     "language": "python",
     "metadata": {},
     "outputs": [
      {
       "output_type": "stream",
       "stream": "stdout",
       "text": [
        "   T  |  strike |     mcs |     fou |     dif |     rel\n",
        "0.244 |  80.000 | 22.2126 | 22.3587 | -0.1461 |  -0.654 "
       ]
      },
      {
       "output_type": "stream",
       "stream": "stdout",
       "text": [
        "\n",
        "0.244 |  90.000 | 13.3655 | 13.4953 | -0.1298 |  -0.962 "
       ]
      },
      {
       "output_type": "stream",
       "stream": "stdout",
       "text": [
        "\n",
        "0.244 | 100.000 |  5.7583 |  5.8325 | -0.0742 |  -1.272 "
       ]
      },
      {
       "output_type": "stream",
       "stream": "stdout",
       "text": [
        "\n",
        "0.244 | 110.000 |  1.2939 |  1.3411 | -0.0472 |  -3.523 "
       ]
      },
      {
       "output_type": "stream",
       "stream": "stdout",
       "text": [
        "\n",
        "0.244 | 120.000 |  0.1125 |  0.1266 | -0.0141 | -11.131 "
       ]
      },
      {
       "output_type": "stream",
       "stream": "stdout",
       "text": [
        "\n",
        "0.411 |  80.000 | 23.4655 | 23.7647 | -0.2991 |  -1.259 "
       ]
      },
      {
       "output_type": "stream",
       "stream": "stdout",
       "text": [
        "\n",
        "0.411 |  90.000 | 15.3061 | 15.5030 | -0.1969 |  -1.270 "
       ]
      },
      {
       "output_type": "stream",
       "stream": "stdout",
       "text": [
        "\n",
        "0.411 | 100.000 |  7.9925 |  8.1848 | -0.1923 |  -2.349 "
       ]
      },
      {
       "output_type": "stream",
       "stream": "stdout",
       "text": [
        "\n",
        "0.411 | 110.000 |  2.9146 |  3.0255 | -0.1109 |  -3.665 "
       ]
      },
      {
       "output_type": "stream",
       "stream": "stdout",
       "text": [
        "\n",
        "0.411 | 120.000 |  0.6124 |  0.6749 | -0.0625 |  -9.254 "
       ]
      },
      {
       "output_type": "stream",
       "stream": "stdout",
       "text": [
        "\n",
        "0.578 |  80.000 | 24.7186 | 25.0091 | -0.2906 |  -1.162 "
       ]
      },
      {
       "output_type": "stream",
       "stream": "stdout",
       "text": [
        "\n",
        "0.578 |  90.000 | 16.9300 | 17.2351 | -0.3051 |  -1.770 "
       ]
      },
      {
       "output_type": "stream",
       "stream": "stdout",
       "text": [
        "\n",
        "0.578 | 100.000 |  9.9314 | 10.2349 | -0.3035 |  -2.965 "
       ]
      },
      {
       "output_type": "stream",
       "stream": "stdout",
       "text": [
        "\n",
        "0.578 | 110.000 |  4.5730 |  4.8117 | -0.2387 |  -4.961 "
       ]
      },
      {
       "output_type": "stream",
       "stream": "stdout",
       "text": [
        "\n",
        "0.578 | 120.000 |  1.4832 |  1.6340 | -0.1508 |  -9.229 "
       ]
      },
      {
       "output_type": "stream",
       "stream": "stdout",
       "text": [
        "\n",
        "CPU times: user 1min 20s, sys: 23.3 s, total: 1min 43s\n",
        "Wall time: 1min 46s\n"
       ]
      }
     ],
     "prompt_number": 36
    },
    {
     "cell_type": "heading",
     "level": 2,
     "metadata": {},
     "source": [
      "Sources of Errors"
     ]
    },
    {
     "cell_type": "markdown",
     "metadata": {},
     "source": [
      "Numerical methods like Monte Carlo simulation might suffer from different **sources of errors**, like for example:\n",
      "\n",
      "* **discretization error**: every **discretization of a continuous time interval**---or a continuous state space to this end---leads to a so-called discretization error\n",
      "* **approximation errors**: DX Analytics uses in several places approximative, **Euler-based discretization schemes** (e.g. for performance reasons and to allow for consistent correlation modeling) which are known to be biased\n",
      "* **numerical errors**: the approximation of a continuous probability distribution by a **finite, discrete set of (pseudo-) random numbers** introduces also errors"
     ]
    },
    {
     "cell_type": "markdown",
     "metadata": {},
     "source": [
      "**Copyright, License & Disclaimer**\n",
      "\n",
      "&copy; Dr. Yves J. Hilpisch | The Python Quants GmbH\n",
      "\n",
      "DX Analytics (the \"dx library\") is licensed under the GNU Affero General Public License\n",
      "version 3 or later (see <a href=\"http://www.gnu.org/licenses/\" target=\"_blank\">http://www.gnu.org/licenses/</a>).\n",
      "\n",
      "DX Analytics comes with no representations\n",
      "or warranties, to the extent permitted by applicable law.\n",
      "\n",
      "\n",
      "<img src=\"http://hilpisch.com/tpq_logo.png\" alt=\"The Python Quants\" width=\"35%\" align=\"right\" border=\"0\"><br>\n",
      "\n",
      "<a href=\"http://www.pythonquants.com\" target=\"_blank\">http://www.pythonquants.com</a> | <a href=\"mailto:analytics@pythonquants.com\">analytics@pythonquants.com</a> | <a href=\"http://twitter.com/dyjh\" target=\"_blank\">http://twitter.com/dyjh</a>\n",
      "\n",
      "**Python Quant Platform** |\n",
      "<a href=\"http://quant-platform.com\">http://quant-platform.com</a>\n",
      "\n",
      "**Derivatives Analytics with Python (Wiley Finance)** |\n",
      "<a href=\"http://derivatives-analytics-with-python.com\" target=\"_blank\">http://derivatives-analytics-with-python.com</a>\n",
      "\n",
      "**Python for Finance (O'Reilly)** |\n",
      "<a href=\"http://shop.oreilly.com/product/0636920032441.do\" target=\"_blank\">http://shop.oreilly.com/product/0636920032441.do</a>"
     ]
    }
   ],
   "metadata": {}
  }
 ]
}