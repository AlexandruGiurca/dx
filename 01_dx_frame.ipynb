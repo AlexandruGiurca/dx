{
 "metadata": {
  "name": "",
  "signature": "sha256:f1648b7fb9755819978f8ff7c1b8757dbf40ea54e69e3455b46584638cddb0a6"
 },
 "nbformat": 3,
 "nbformat_minor": 0,
 "worksheets": [
  {
   "cells": [
    {
     "cell_type": "markdown",
     "metadata": {},
     "source": [
      "<img src=\"http://hilpisch.com/tpq_logo.png\" alt=\"The Python Quants\" width=\"45%\" align=\"right\" border=\"4\">"
     ]
    },
    {
     "cell_type": "heading",
     "level": 1,
     "metadata": {},
     "source": [
      "Framework Classes and Functions"
     ]
    },
    {
     "cell_type": "markdown",
     "metadata": {},
     "source": [
      "This section explains the usage of some basic framework classes and functions of DX Analytics. Mainly some helper functions, the discounting classes and the market environment class used to store market data and other parameters/data needed to model, value and risk manage derivative instruments. "
     ]
    },
    {
     "cell_type": "code",
     "collapsed": false,
     "input": [
      "from dx import *"
     ],
     "language": "python",
     "metadata": {},
     "outputs": [],
     "prompt_number": 1
    },
    {
     "cell_type": "code",
     "collapsed": false,
     "input": [
      "np.set_printoptions(precision=3)"
     ],
     "language": "python",
     "metadata": {},
     "outputs": [],
     "prompt_number": 2
    },
    {
     "cell_type": "heading",
     "level": 2,
     "metadata": {},
     "source": [
      "Helper Functions"
     ]
    },
    {
     "cell_type": "markdown",
     "metadata": {},
     "source": [
      "There are two helper functions used regulary:\n",
      "\n",
      "* <code>get_year_deltas</code>: get a list of year deltas (decimal fractions) relative to first value in time_list\n",
      "* <code>sn_random_numbers</code>: get an array of standard normally distributed pseudo-random numbers"
     ]
    },
    {
     "cell_type": "heading",
     "level": 3,
     "metadata": {},
     "source": [
      "get_year_deltas"
     ]
    },
    {
     "cell_type": "markdown",
     "metadata": {},
     "source": [
      "Suppose we have a `list` object containing a number of `datetime` objects."
     ]
    },
    {
     "cell_type": "code",
     "collapsed": false,
     "input": [
      "time_list = [dt.datetime(2015, 1, 1),\n",
      "             dt.datetime(2015, 4, 1),\n",
      "             dt.datetime(2015, 6, 15),\n",
      "             dt.datetime(2015, 10, 21)]"
     ],
     "language": "python",
     "metadata": {},
     "outputs": [],
     "prompt_number": 3
    },
    {
     "cell_type": "markdown",
     "metadata": {},
     "source": [
      "Passing this object to the `get_year_deltas` functions yields a list of year fractions representing the time intervals between the dates given. This is sometimes used e.g. for discounting purposes."
     ]
    },
    {
     "cell_type": "code",
     "collapsed": false,
     "input": [
      "get_year_deltas(time_list)"
     ],
     "language": "python",
     "metadata": {},
     "outputs": [
      {
       "metadata": {},
       "output_type": "pyout",
       "prompt_number": 4,
       "text": [
        "array([ 0.   ,  0.247,  0.452,  0.803])"
       ]
      }
     ],
     "prompt_number": 4
    },
    {
     "cell_type": "heading",
     "level": 3,
     "metadata": {},
     "source": [
      "sn_random_numbers"
     ]
    },
    {
     "cell_type": "markdown",
     "metadata": {},
     "source": [
      "Monte Carlo simulation of course relies heavily an the use of random numbers. The function `sn_random_numbers` is a wrapper function around the pseudo-random number generator of the `NumPy` library. It implements antithetic variates and moment matching as generic variance reduction techniques. It also allows to fix the seed value for the random number generator. The `shape` parameter is a `tuple` object of three integers."
     ]
    },
    {
     "cell_type": "code",
     "collapsed": false,
     "input": [
      "ran = sn_random_numbers((2, 3, 4), antithetic=True,\n",
      "                        moment_matching=True, fixed_seed=False)"
     ],
     "language": "python",
     "metadata": {},
     "outputs": [],
     "prompt_number": 5
    },
    {
     "cell_type": "code",
     "collapsed": false,
     "input": [
      "ran"
     ],
     "language": "python",
     "metadata": {},
     "outputs": [
      {
       "metadata": {},
       "output_type": "pyout",
       "prompt_number": 6,
       "text": [
        "array([[[-1.712, -1.433,  1.712,  1.433],\n",
        "        [ 0.735, -0.45 , -0.735,  0.45 ],\n",
        "        [ 0.02 , -0.475, -0.02 ,  0.475]],\n",
        "\n",
        "       [[-2.094,  0.736,  2.094, -0.736],\n",
        "        [-0.652,  0.082,  0.652, -0.082],\n",
        "        [-0.826,  0.097,  0.826, -0.097]]])"
       ]
      }
     ],
     "prompt_number": 6
    },
    {
     "cell_type": "markdown",
     "metadata": {},
     "source": [
      "Using moment matching makes sure that the first and second moments match exactly 0 and 1, respectively."
     ]
    },
    {
     "cell_type": "code",
     "collapsed": false,
     "input": [
      "ran.mean()"
     ],
     "language": "python",
     "metadata": {},
     "outputs": [
      {
       "metadata": {},
       "output_type": "pyout",
       "prompt_number": 7,
       "text": [
        "0.0"
       ]
      }
     ],
     "prompt_number": 7
    },
    {
     "cell_type": "code",
     "collapsed": false,
     "input": [
      "ran.std()"
     ],
     "language": "python",
     "metadata": {},
     "outputs": [
      {
       "metadata": {},
       "output_type": "pyout",
       "prompt_number": 8,
       "text": [
        "1.0"
       ]
      }
     ],
     "prompt_number": 8
    },
    {
     "cell_type": "markdown",
     "metadata": {},
     "source": [
      "Setting the first value of the `shape` parameter to 1 yields a two-dimensional `ndarray` object."
     ]
    },
    {
     "cell_type": "code",
     "collapsed": false,
     "input": [
      "ran = sn_random_numbers((1, 3, 4), antithetic=True,\n",
      "                        moment_matching=True, fixed_seed=False)"
     ],
     "language": "python",
     "metadata": {},
     "outputs": [],
     "prompt_number": 9
    },
    {
     "cell_type": "code",
     "collapsed": false,
     "input": [
      "ran"
     ],
     "language": "python",
     "metadata": {},
     "outputs": [
      {
       "metadata": {},
       "output_type": "pyout",
       "prompt_number": 10,
       "text": [
        "array([[ 1.797,  0.055, -1.797, -0.055],\n",
        "       [ 0.538,  1.298, -0.538, -1.298],\n",
        "       [ 0.821, -0.347, -0.821,  0.347]])"
       ]
      }
     ],
     "prompt_number": 10
    },
    {
     "cell_type": "heading",
     "level": 2,
     "metadata": {},
     "source": [
      "Discounting Classes"
     ]
    },
    {
     "cell_type": "markdown",
     "metadata": {},
     "source": [
      "In the risk-neutral valuation of derivative instrumente, discounting payoffs is a major task. The following discounting classes are implemented:\n",
      "\n",
      "* `constant_short_rate`: fixed short rate\n",
      "* `deterministic_yield`: deterministic yiels/term structure"
     ]
    },
    {
     "cell_type": "heading",
     "level": 3,
     "metadata": {},
     "source": [
      "constant_short_rate"
     ]
    },
    {
     "cell_type": "markdown",
     "metadata": {},
     "source": [
      "The `constant_short_rate` class represents the most simple case for risk-neutral discounting. A discounting object is defined by instatiating the class and providing a name and a decimal short rate value only."
     ]
    },
    {
     "cell_type": "code",
     "collapsed": false,
     "input": [
      "r = constant_short_rate('r', 0.05)"
     ],
     "language": "python",
     "metadata": {},
     "outputs": [],
     "prompt_number": 11
    },
    {
     "cell_type": "code",
     "collapsed": false,
     "input": [
      "r.name"
     ],
     "language": "python",
     "metadata": {},
     "outputs": [
      {
       "metadata": {},
       "output_type": "pyout",
       "prompt_number": 12,
       "text": [
        "'r'"
       ]
      }
     ],
     "prompt_number": 12
    },
    {
     "cell_type": "code",
     "collapsed": false,
     "input": [
      "r.short_rate"
     ],
     "language": "python",
     "metadata": {},
     "outputs": [
      {
       "metadata": {},
       "output_type": "pyout",
       "prompt_number": 13,
       "text": [
        "0.05"
       ]
      }
     ],
     "prompt_number": 13
    },
    {
     "cell_type": "markdown",
     "metadata": {},
     "source": [
      "The object has a method `get_forward_rates` to generate forward rates given, for instance, a `list` object of `datetime` objects."
     ]
    },
    {
     "cell_type": "code",
     "collapsed": false,
     "input": [
      "r.get_forward_rates(time_list)"
     ],
     "language": "python",
     "metadata": {},
     "outputs": [
      {
       "metadata": {},
       "output_type": "pyout",
       "prompt_number": 14,
       "text": [
        "array([[datetime.datetime(2015, 1, 1, 0, 0), 0.05],\n",
        "       [datetime.datetime(2015, 4, 1, 0, 0), 0.05],\n",
        "       [datetime.datetime(2015, 6, 15, 0, 0), 0.05],\n",
        "       [datetime.datetime(2015, 10, 21, 0, 0), 0.05]], dtype=object)"
       ]
      }
     ],
     "prompt_number": 14
    },
    {
     "cell_type": "markdown",
     "metadata": {},
     "source": [
      "Similarly, the method `get_discount_factors` returns discount factors for such a `list` object."
     ]
    },
    {
     "cell_type": "code",
     "collapsed": false,
     "input": [
      "r.get_discount_factors(time_list)"
     ],
     "language": "python",
     "metadata": {},
     "outputs": [
      {
       "metadata": {},
       "output_type": "pyout",
       "prompt_number": 15,
       "text": [
        "array([[datetime.datetime(2015, 1, 1, 0, 0), 0.9606578331749723],\n",
        "       [datetime.datetime(2015, 4, 1, 0, 0), 0.9776507884592303],\n",
        "       [datetime.datetime(2015, 6, 15, 0, 0), 0.9877469207606989],\n",
        "       [datetime.datetime(2015, 10, 21, 0, 0), 1.0]], dtype=object)"
       ]
      }
     ],
     "prompt_number": 15
    },
    {
     "cell_type": "markdown",
     "metadata": {},
     "source": [
      "You can also pass, for instance, an `ndarry` object containing year fractions."
     ]
    },
    {
     "cell_type": "code",
     "collapsed": false,
     "input": [
      "r.get_discount_factors(np.array([0., 1., 1.5, 2.]),\n",
      "                       dtobjects=False)"
     ],
     "language": "python",
     "metadata": {},
     "outputs": [
      {
       "metadata": {},
       "output_type": "pyout",
       "prompt_number": 16,
       "text": [
        "array([[ 0.   ,  0.905],\n",
        "       [ 1.   ,  0.928],\n",
        "       [ 1.5  ,  0.951],\n",
        "       [ 2.   ,  1.   ]])"
       ]
      }
     ],
     "prompt_number": 16
    },
    {
     "cell_type": "heading",
     "level": 3,
     "metadata": {},
     "source": [
      "deterministic_short_rate"
     ]
    },
    {
     "cell_type": "markdown",
     "metadata": {},
     "source": [
      "The `deterministic_short_rate` class allows to model an interest rate term structure. To this end, you need to pass a `list` object of `datetime` and yield pairs to the  class."
     ]
    },
    {
     "cell_type": "code",
     "collapsed": false,
     "input": [
      "yields = [(dt.datetime(2015, 1, 1), 0.02),\n",
      "          (dt.datetime(2015, 3, 1), 0.03),\n",
      "          (dt.datetime(2015, 10, 15), 0.035),\n",
      "          (dt.datetime(2015, 12, 31), 0.04)]"
     ],
     "language": "python",
     "metadata": {},
     "outputs": [],
     "prompt_number": 17
    },
    {
     "cell_type": "code",
     "collapsed": false,
     "input": [
      "y = deterministic_short_rate('y', yields)"
     ],
     "language": "python",
     "metadata": {},
     "outputs": [],
     "prompt_number": 18
    },
    {
     "cell_type": "code",
     "collapsed": false,
     "input": [
      "y.name"
     ],
     "language": "python",
     "metadata": {},
     "outputs": [
      {
       "metadata": {},
       "output_type": "pyout",
       "prompt_number": 19,
       "text": [
        "'y'"
       ]
      }
     ],
     "prompt_number": 19
    },
    {
     "cell_type": "code",
     "collapsed": false,
     "input": [
      "y.yield_list"
     ],
     "language": "python",
     "metadata": {},
     "outputs": [
      {
       "metadata": {},
       "output_type": "pyout",
       "prompt_number": 20,
       "text": [
        "array([[datetime.datetime(2015, 1, 1, 0, 0), 0.02],\n",
        "       [datetime.datetime(2015, 3, 1, 0, 0), 0.03],\n",
        "       [datetime.datetime(2015, 10, 15, 0, 0), 0.035],\n",
        "       [datetime.datetime(2015, 12, 31, 0, 0), 0.04]], dtype=object)"
       ]
      }
     ],
     "prompt_number": 20
    },
    {
     "cell_type": "markdown",
     "metadata": {},
     "source": [
      "The method `get_interpolated_yields` implements an interpolation of the yield data and returns the interpolated yields given a `list` object of `datetime` objects."
     ]
    },
    {
     "cell_type": "code",
     "collapsed": false,
     "input": [
      "y.get_interpolated_yields(time_list)"
     ],
     "language": "python",
     "metadata": {},
     "outputs": [
      {
       "metadata": {},
       "output_type": "pyout",
       "prompt_number": 21,
       "text": [
        "array([[datetime.datetime(2015, 1, 1, 0, 0), 0.019999999999999993,\n",
        "        0.0840608597791612],\n",
        "       [datetime.datetime(2015, 4, 1, 0, 0), 0.03283048934520345,\n",
        "        0.02532998361805569],\n",
        "       [datetime.datetime(2015, 6, 15, 0, 0), 0.035133049718591186,\n",
        "        0.0007769642303797064],\n",
        "       [datetime.datetime(2015, 10, 21, 0, 0), 0.03515012570984609,\n",
        "        0.010083939037494674]], dtype=object)"
       ]
      }
     ],
     "prompt_number": 21
    },
    {
     "cell_type": "markdown",
     "metadata": {},
     "source": [
      "In similar fashion, the methods `get_forward_rates` and `get_discount_factors` return forward rates and discount factors, respcectively."
     ]
    },
    {
     "cell_type": "code",
     "collapsed": false,
     "input": [
      "y.get_forward_rates(time_list)"
     ],
     "language": "python",
     "metadata": {},
     "outputs": [
      {
       "metadata": {},
       "output_type": "pyout",
       "prompt_number": 22,
       "text": [
        "array([[datetime.datetime(2015, 1, 1, 0, 0), 0.019999999999999993],\n",
        "       [datetime.datetime(2015, 4, 1, 0, 0), 0.039076238730477456],\n",
        "       [datetime.datetime(2015, 6, 15, 0, 0), 0.0354842801241053],\n",
        "       [datetime.datetime(2015, 10, 21, 0, 0), 0.04324490417008154]], dtype=object)"
       ]
      }
     ],
     "prompt_number": 22
    },
    {
     "cell_type": "code",
     "collapsed": false,
     "input": [
      "y.get_discount_factors(time_list)"
     ],
     "language": "python",
     "metadata": {},
     "outputs": [
      {
       "metadata": {},
       "output_type": "pyout",
       "prompt_number": 23,
       "text": [
        "array([[datetime.datetime(2015, 1, 1, 0, 0), 0.97166103139227611],\n",
        "       [datetime.datetime(2015, 4, 1, 0, 0), 0.97876383482361962],\n",
        "       [datetime.datetime(2015, 6, 15, 0, 0), 0.98629027682763593],\n",
        "       [datetime.datetime(2015, 10, 21, 0, 0), 1.0]], dtype=object)"
       ]
      }
     ],
     "prompt_number": 23
    },
    {
     "cell_type": "heading",
     "level": 2,
     "metadata": {},
     "source": [
      "Market Environment"
     ]
    },
    {
     "cell_type": "markdown",
     "metadata": {},
     "source": [
      "The `market_environment` class is used to collect relevant data for the modeling, valuation and risk management of single derivatives instruments and portfolios composed of such instruments. A `market_environment` object stores:\n",
      "\n",
      "* `constants`: e.g. maturity date of option\n",
      "* `lists`: e.g. list of dates\n",
      "* `curves`: e.g. discounting objects\n",
      "\n",
      "A `market_environment` object is instantiated by providing a name as a `string` object and the pricing date as a `datetime` object."
     ]
    },
    {
     "cell_type": "code",
     "collapsed": false,
     "input": [
      "me = market_environment(name='me', pricing_date=dt.datetime(2014, 1, 1))"
     ],
     "language": "python",
     "metadata": {},
     "outputs": [],
     "prompt_number": 24
    },
    {
     "cell_type": "markdown",
     "metadata": {},
     "source": [
      "Constants are added via the `add_constant` method and providing a key and the value."
     ]
    },
    {
     "cell_type": "code",
     "collapsed": false,
     "input": [
      "me.add_constant('initial_value', 100.)"
     ],
     "language": "python",
     "metadata": {},
     "outputs": [],
     "prompt_number": 25
    },
    {
     "cell_type": "code",
     "collapsed": false,
     "input": [
      "me.add_constant('volatility', 0.25)"
     ],
     "language": "python",
     "metadata": {},
     "outputs": [],
     "prompt_number": 26
    },
    {
     "cell_type": "markdown",
     "metadata": {},
     "source": [
      "Lists of data are added via the  `add_list` method."
     ]
    },
    {
     "cell_type": "code",
     "collapsed": false,
     "input": [
      "me.add_list('dates', time_list)"
     ],
     "language": "python",
     "metadata": {},
     "outputs": [],
     "prompt_number": 27
    },
    {
     "cell_type": "markdown",
     "metadata": {},
     "source": [
      "The `add_curve` method does the same for curves."
     ]
    },
    {
     "cell_type": "code",
     "collapsed": false,
     "input": [
      "me.add_curve('discount_curve_1', r)"
     ],
     "language": "python",
     "metadata": {},
     "outputs": [],
     "prompt_number": 28
    },
    {
     "cell_type": "code",
     "collapsed": false,
     "input": [
      "me.add_curve('discount_curve_2', y)"
     ],
     "language": "python",
     "metadata": {},
     "outputs": [],
     "prompt_number": 29
    },
    {
     "cell_type": "markdown",
     "metadata": {},
     "source": [
      "The single data objects are stored in separate `dictionary` objects."
     ]
    },
    {
     "cell_type": "code",
     "collapsed": false,
     "input": [
      "me.constants"
     ],
     "language": "python",
     "metadata": {},
     "outputs": [
      {
       "metadata": {},
       "output_type": "pyout",
       "prompt_number": 30,
       "text": [
        "{'initial_value': 100.0, 'volatility': 0.25}"
       ]
      }
     ],
     "prompt_number": 30
    },
    {
     "cell_type": "code",
     "collapsed": false,
     "input": [
      "me.lists"
     ],
     "language": "python",
     "metadata": {},
     "outputs": [
      {
       "metadata": {},
       "output_type": "pyout",
       "prompt_number": 31,
       "text": [
        "{'dates': [datetime.datetime(2015, 1, 1, 0, 0),\n",
        "  datetime.datetime(2015, 4, 1, 0, 0),\n",
        "  datetime.datetime(2015, 6, 15, 0, 0),\n",
        "  datetime.datetime(2015, 10, 21, 0, 0)]}"
       ]
      }
     ],
     "prompt_number": 31
    },
    {
     "cell_type": "code",
     "collapsed": false,
     "input": [
      "me.curves"
     ],
     "language": "python",
     "metadata": {},
     "outputs": [
      {
       "metadata": {},
       "output_type": "pyout",
       "prompt_number": 32,
       "text": [
        "{'discount_curve_1': <dx.dx_frame.constant_short_rate at 0x109315f10>,\n",
        " 'discount_curve_2': <dx.dx_frame.deterministic_short_rate at 0x109315dd0>}"
       ]
      }
     ],
     "prompt_number": 32
    },
    {
     "cell_type": "markdown",
     "metadata": {},
     "source": [
      "Data is retrieved from a `market_environment` object via the `get_constant`, `get_list` and `get_curve` methods and providing the respective key."
     ]
    },
    {
     "cell_type": "code",
     "collapsed": false,
     "input": [
      "me.get_constant('volatility')"
     ],
     "language": "python",
     "metadata": {},
     "outputs": [
      {
       "metadata": {},
       "output_type": "pyout",
       "prompt_number": 33,
       "text": [
        "0.25"
       ]
      }
     ],
     "prompt_number": 33
    },
    {
     "cell_type": "code",
     "collapsed": false,
     "input": [
      "me.get_list('dates')"
     ],
     "language": "python",
     "metadata": {},
     "outputs": [
      {
       "metadata": {},
       "output_type": "pyout",
       "prompt_number": 34,
       "text": [
        "[datetime.datetime(2015, 1, 1, 0, 0),\n",
        " datetime.datetime(2015, 4, 1, 0, 0),\n",
        " datetime.datetime(2015, 6, 15, 0, 0),\n",
        " datetime.datetime(2015, 10, 21, 0, 0)]"
       ]
      }
     ],
     "prompt_number": 34
    },
    {
     "cell_type": "code",
     "collapsed": false,
     "input": [
      "me.get_curve('discount_curve_1')"
     ],
     "language": "python",
     "metadata": {},
     "outputs": [
      {
       "metadata": {},
       "output_type": "pyout",
       "prompt_number": 35,
       "text": [
        "<dx.dx_frame.constant_short_rate at 0x109315f10>"
       ]
      }
     ],
     "prompt_number": 35
    },
    {
     "cell_type": "markdown",
     "metadata": {},
     "source": [
      "Retrieving, for instance, a discounting object you can in one step retrieve it and call a method on it."
     ]
    },
    {
     "cell_type": "code",
     "collapsed": false,
     "input": [
      "me.get_curve('discount_curve_2').get_discount_factors(time_list)"
     ],
     "language": "python",
     "metadata": {},
     "outputs": [
      {
       "metadata": {},
       "output_type": "pyout",
       "prompt_number": 36,
       "text": [
        "array([[datetime.datetime(2015, 1, 1, 0, 0), 0.97166103139227611],\n",
        "       [datetime.datetime(2015, 4, 1, 0, 0), 0.97876383482361962],\n",
        "       [datetime.datetime(2015, 6, 15, 0, 0), 0.98629027682763593],\n",
        "       [datetime.datetime(2015, 10, 21, 0, 0), 1.0]], dtype=object)"
       ]
      }
     ],
     "prompt_number": 36
    },
    {
     "cell_type": "markdown",
     "metadata": {},
     "source": [
      "**Copyright, License & Disclaimer**\n",
      "\n",
      "&copy; Dr. Yves J. Hilpisch | The Python Quants GmbH\n",
      "\n",
      "DX Analytics (the \"dx library\") is licensed under the GNU Affero General Public License\n",
      "version 3 or later (see <a href=\"http://www.gnu.org/licenses/\" target=\"_blank\">http://www.gnu.org/licenses/</a>).\n",
      "\n",
      "DX Analytics comes with no representations\n",
      "or warranties, to the extent permitted by applicable law.\n",
      "\n",
      "\n",
      "<img src=\"http://hilpisch.com/tpq_logo.png\" alt=\"The Python Quants\" width=\"35%\" align=\"right\" border=\"0\"><br>\n",
      "\n",
      "<a href=\"http://www.pythonquants.com\" target=\"_blank\">http://www.pythonquants.com</a> | <a href=\"mailto:analytics@pythonquants.com\">analytics@pythonquants.com</a> | <a href=\"http://twitter.com/dyjh\" target=\"_blank\">http://twitter.com/dyjh</a>\n",
      "\n",
      "**Python Quant Platform** |\n",
      "<a href=\"http://quant-platform.com\">http://quant-platform.com</a>\n",
      "\n",
      "**Derivatives Analytics with Python (Wiley Finance)** |\n",
      "<a href=\"http://derivatives-analytics-with-python.com\" target=\"_blank\">http://derivatives-analytics-with-python.com</a>\n",
      "\n",
      "**Python for Finance (O'Reilly)** |\n",
      "<a href=\"http://shop.oreilly.com/product/0636920032441.do\" target=\"_blank\">http://shop.oreilly.com/product/0636920032441.do</a>"
     ]
    }
   ],
   "metadata": {}
  }
 ]
}