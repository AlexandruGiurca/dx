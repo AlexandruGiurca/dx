{
 "metadata": {
  "name": "",
  "signature": "sha256:82097cbd1ce4ed0f664be780562c3c014300ac1b4d5fe74daa6e606f4befea9a"
 },
 "nbformat": 3,
 "nbformat_minor": 0,
 "worksheets": [
  {
   "cells": [
    {
     "cell_type": "markdown",
     "metadata": {},
     "source": [
      "<img src=\"http://hilpisch.com/tpq_logo.png\" alt=\"The Python Quants\" width=\"45%\" align=\"right\" border=\"4\">"
     ]
    },
    {
     "cell_type": "heading",
     "level": 1,
     "metadata": {},
     "source": [
      "Derivatives Portfolio Risk Statistics"
     ]
    },
    {
     "cell_type": "markdown",
     "metadata": {},
     "source": [
      "From a risk management perspective it is important to know **how sensitive derivatives portfolios are** with regard to certain parameter values (market quotes, model assumptions, etc.). This part illustrates how to generate certain **risk reports** for `derivatives_portfolio` objects."
     ]
    },
    {
     "cell_type": "code",
     "collapsed": false,
     "input": [
      "import dx\n",
      "import datetime as dt\n",
      "import time\n",
      "import numpy as np"
     ],
     "language": "python",
     "metadata": {},
     "outputs": [],
     "prompt_number": 1
    },
    {
     "cell_type": "heading",
     "level": 2,
     "metadata": {},
     "source": [
      "Risk Factors"
     ]
    },
    {
     "cell_type": "markdown",
     "metadata": {},
     "source": [
      "The example is based on **two risk factors**, both modeled as geometric Brownian motions."
     ]
    },
    {
     "cell_type": "code",
     "collapsed": false,
     "input": [
      "# constant short rate\n",
      "r = dx.constant_short_rate('r', 0.01)"
     ],
     "language": "python",
     "metadata": {},
     "outputs": [],
     "prompt_number": 2
    },
    {
     "cell_type": "code",
     "collapsed": false,
     "input": [
      "# market environment\n",
      "me_gbm_1 = dx.market_environment('gbm_1', dt.datetime(2015, 1, 1))"
     ],
     "language": "python",
     "metadata": {},
     "outputs": [],
     "prompt_number": 3
    },
    {
     "cell_type": "code",
     "collapsed": false,
     "input": [
      "# geometric Brownian motion\n",
      "me_gbm_1.add_constant('initial_value', 40.)\n",
      "me_gbm_1.add_constant('volatility', 0.2) \n",
      "me_gbm_1.add_constant('currency', 'EUR')\n",
      "me_gbm_1.add_constant('model', 'gbm')"
     ],
     "language": "python",
     "metadata": {},
     "outputs": [],
     "prompt_number": 4
    },
    {
     "cell_type": "code",
     "collapsed": false,
     "input": [
      "me_gbm_2 = dx.market_environment('gbm_2', me_gbm_1.pricing_date)"
     ],
     "language": "python",
     "metadata": {},
     "outputs": [],
     "prompt_number": 5
    },
    {
     "cell_type": "code",
     "collapsed": false,
     "input": [
      "# valuation environment\n",
      "val_env = dx.market_environment('val_env', dt.datetime(2015, 1, 1))\n",
      "val_env.add_constant('paths', 25000)\n",
      "    # 25,000 paths\n",
      "val_env.add_constant('frequency', 'W')\n",
      "    # weekly frequency\n",
      "val_env.add_curve('discount_curve', r)\n",
      "val_env.add_constant('starting_date', dt.datetime(2015, 1, 1))\n",
      "val_env.add_constant('final_date', dt.datetime(2015, 12, 31))"
     ],
     "language": "python",
     "metadata": {},
     "outputs": [],
     "prompt_number": 6
    },
    {
     "cell_type": "code",
     "collapsed": false,
     "input": [
      "# add valuation environment to market environments\n",
      "me_gbm_1.add_environment(val_env)\n",
      "me_gbm_2.add_environment(me_gbm_1)\n",
      "me_gbm_2.add_constant('initial_value', 40.)\n",
      "me_gbm_2.add_constant('volatility', 0.5)\n",
      "  # higher volatility"
     ],
     "language": "python",
     "metadata": {},
     "outputs": [],
     "prompt_number": 7
    },
    {
     "cell_type": "code",
     "collapsed": false,
     "input": [
      "risk_factors = {'gbm_1' : me_gbm_1, 'gbm_2' : me_gbm_2}\n",
      "  # market with two risk factors"
     ],
     "language": "python",
     "metadata": {},
     "outputs": [],
     "prompt_number": 8
    },
    {
     "cell_type": "heading",
     "level": 2,
     "metadata": {},
     "source": [
      "Derivatives Positions"
     ]
    },
    {
     "cell_type": "markdown",
     "metadata": {},
     "source": [
      "We are going to model **total of 6 derivatives positions**."
     ]
    },
    {
     "cell_type": "heading",
     "level": 3,
     "metadata": {},
     "source": [
      "Market Environment"
     ]
    },
    {
     "cell_type": "markdown",
     "metadata": {},
     "source": [
      "All derivatives instruments (positions) share the same `market_environment` object."
     ]
    },
    {
     "cell_type": "code",
     "collapsed": false,
     "input": [
      "# market environment for the options\n",
      "me_option = dx.market_environment('put', dt.datetime(2015, 1, 1))\n",
      "me_option.add_constant('maturity', dt.datetime(2015, 12, 31))\n",
      "me_option.add_constant('currency', 'EUR')\n",
      "me_option.add_environment(val_env)"
     ],
     "language": "python",
     "metadata": {},
     "outputs": [],
     "prompt_number": 9
    },
    {
     "cell_type": "heading",
     "level": 3,
     "metadata": {},
     "source": [
      "Derivatives Positions"
     ]
    },
    {
     "cell_type": "markdown",
     "metadata": {},
     "source": [
      "Two different kinds of derivatives make up the portfolio---an **American put option** and a **European maximum call option**. Both types of derivatives populate three positions, respectively."
     ]
    },
    {
     "cell_type": "code",
     "collapsed": false,
     "input": [
      "positions = {}\n",
      "half = 3  # 2 times that many options\n",
      "for i in range(half):\n",
      "    positions[i] = dx.derivatives_position(\n",
      "                        name='am_put_pos_%s' %i,\n",
      "                        quantity=1,\n",
      "                        underlyings=['gbm_1'],\n",
      "                        mar_env=me_option,\n",
      "                        otype='American single',\n",
      "                        payoff_func='np.maximum(instrument_values - 40., 0)')\n",
      "\n",
      "multi_payoff = \"np.maximum(np.maximum(maturity_value['gbm_1'], maturity_value['gbm_2']) - 40., 0)\"\n",
      "for i in range(half, 2 * half):\n",
      "    positions[i] = dx.derivatives_position(\n",
      "                        name='multi_pos_%s' %i,\n",
      "                        quantity=1,\n",
      "                        underlyings=['gbm_1', 'gbm_2'],\n",
      "                        mar_env=me_option,\n",
      "                        otype='European multi',\n",
      "                        payoff_func=multi_payoff)"
     ],
     "language": "python",
     "metadata": {},
     "outputs": [],
     "prompt_number": 10
    },
    {
     "cell_type": "heading",
     "level": 2,
     "metadata": {},
     "source": [
      "Portfolio Modeling and Valuation"
     ]
    },
    {
     "cell_type": "markdown",
     "metadata": {},
     "source": [
      "The instantiation of the `derivatives_portfolio` object is as usual."
     ]
    },
    {
     "cell_type": "code",
     "collapsed": false,
     "input": [
      "portfolio = dx.derivatives_portfolio(\n",
      "                        name='portfolio',\n",
      "                        positions=positions,\n",
      "                        val_env=val_env,\n",
      "                        risk_factors=risk_factors,\n",
      "                        correlations=None,\n",
      "                        parallel=False)"
     ],
     "language": "python",
     "metadata": {},
     "outputs": [],
     "prompt_number": 11
    },
    {
     "cell_type": "code",
     "collapsed": false,
     "input": [
      "%time res = portfolio.get_values(fixed_seed=True)"
     ],
     "language": "python",
     "metadata": {},
     "outputs": [
      {
       "output_type": "stream",
       "stream": "stdout",
       "text": [
        "Total\n",
        "pos_value    40.912\n",
        "dtype: float64\n",
        "CPU times: user 1.52 s, sys: 226 ms, total: 1.74 s\n",
        "Wall time: 1.82 s\n"
       ]
      }
     ],
     "prompt_number": 12
    },
    {
     "cell_type": "markdown",
     "metadata": {},
     "source": [
      "Here, the **value estimates** from the Monte Carlo simulation and valuation."
     ]
    },
    {
     "cell_type": "code",
     "collapsed": false,
     "input": [
      "res"
     ],
     "language": "python",
     "metadata": {},
     "outputs": [
      {
       "html": [
        "<div style=\"max-height:1000px;max-width:1500px;overflow:auto;\">\n",
        "<table border=\"1\" class=\"dataframe\">\n",
        "  <thead>\n",
        "    <tr style=\"text-align: right;\">\n",
        "      <th></th>\n",
        "      <th>position</th>\n",
        "      <th>name</th>\n",
        "      <th>quantity</th>\n",
        "      <th>otype</th>\n",
        "      <th>risk_facts</th>\n",
        "      <th>value</th>\n",
        "      <th>currency</th>\n",
        "      <th>pos_value</th>\n",
        "    </tr>\n",
        "  </thead>\n",
        "  <tbody>\n",
        "    <tr>\n",
        "      <th>0</th>\n",
        "      <td> 0</td>\n",
        "      <td> am_put_pos_0</td>\n",
        "      <td> 1</td>\n",
        "      <td> American single</td>\n",
        "      <td>        [gbm_1]</td>\n",
        "      <td>  3.303</td>\n",
        "      <td> EUR</td>\n",
        "      <td>  3.303</td>\n",
        "    </tr>\n",
        "    <tr>\n",
        "      <th>1</th>\n",
        "      <td> 1</td>\n",
        "      <td> am_put_pos_1</td>\n",
        "      <td> 1</td>\n",
        "      <td> American single</td>\n",
        "      <td>        [gbm_1]</td>\n",
        "      <td>  3.292</td>\n",
        "      <td> EUR</td>\n",
        "      <td>  3.292</td>\n",
        "    </tr>\n",
        "    <tr>\n",
        "      <th>2</th>\n",
        "      <td> 2</td>\n",
        "      <td> am_put_pos_2</td>\n",
        "      <td> 1</td>\n",
        "      <td> American single</td>\n",
        "      <td>        [gbm_1]</td>\n",
        "      <td>  3.297</td>\n",
        "      <td> EUR</td>\n",
        "      <td>  3.297</td>\n",
        "    </tr>\n",
        "    <tr>\n",
        "      <th>3</th>\n",
        "      <td> 3</td>\n",
        "      <td>  multi_pos_3</td>\n",
        "      <td> 1</td>\n",
        "      <td>  European multi</td>\n",
        "      <td> [gbm_1, gbm_2]</td>\n",
        "      <td> 10.340</td>\n",
        "      <td> EUR</td>\n",
        "      <td> 10.340</td>\n",
        "    </tr>\n",
        "    <tr>\n",
        "      <th>4</th>\n",
        "      <td> 4</td>\n",
        "      <td>  multi_pos_4</td>\n",
        "      <td> 1</td>\n",
        "      <td>  European multi</td>\n",
        "      <td> [gbm_1, gbm_2]</td>\n",
        "      <td> 10.340</td>\n",
        "      <td> EUR</td>\n",
        "      <td> 10.340</td>\n",
        "    </tr>\n",
        "    <tr>\n",
        "      <th>5</th>\n",
        "      <td> 5</td>\n",
        "      <td>  multi_pos_5</td>\n",
        "      <td> 1</td>\n",
        "      <td>  European multi</td>\n",
        "      <td> [gbm_1, gbm_2]</td>\n",
        "      <td> 10.340</td>\n",
        "      <td> EUR</td>\n",
        "      <td> 10.340</td>\n",
        "    </tr>\n",
        "  </tbody>\n",
        "</table>\n",
        "</div>"
       ],
       "metadata": {},
       "output_type": "pyout",
       "prompt_number": 13,
       "text": [
        "   position          name  quantity            otype      risk_facts   value  \\\n",
        "0         0  am_put_pos_0         1  American single         [gbm_1]   3.303   \n",
        "1         1  am_put_pos_1         1  American single         [gbm_1]   3.292   \n",
        "2         2  am_put_pos_2         1  American single         [gbm_1]   3.297   \n",
        "3         3   multi_pos_3         1   European multi  [gbm_1, gbm_2]  10.340   \n",
        "4         4   multi_pos_4         1   European multi  [gbm_1, gbm_2]  10.340   \n",
        "5         5   multi_pos_5         1   European multi  [gbm_1, gbm_2]  10.340   \n",
        "\n",
        "  currency  pos_value  \n",
        "0      EUR      3.303  \n",
        "1      EUR      3.292  \n",
        "2      EUR      3.297  \n",
        "3      EUR     10.340  \n",
        "4      EUR     10.340  \n",
        "5      EUR     10.340  "
       ]
      }
     ],
     "prompt_number": 13
    },
    {
     "cell_type": "heading",
     "level": 2,
     "metadata": {},
     "source": [
      "Portfolio Risk Reports"
     ]
    },
    {
     "cell_type": "markdown",
     "metadata": {},
     "source": [
      "Portfolio risk reports are meant to provide a broad overview of how sensitive the value of a portfolio is with regard to the value of certain input parameters (market data, model parameters). While **Greeks** provide the same information with regard to marginal changes in the input paramters, risk reports provide a **wider range input-output (parameter-portfolio value) combinations**."
     ]
    },
    {
     "cell_type": "heading",
     "level": 3,
     "metadata": {},
     "source": [
      "No Correlation"
     ]
    },
    {
     "cell_type": "markdown",
     "metadata": {},
     "source": [
      "First, consider the portfolio from before, i.e. **without correlation**."
     ]
    },
    {
     "cell_type": "code",
     "collapsed": false,
     "input": [
      "portfolio.val_env.get_list('cholesky_matrix')"
     ],
     "language": "python",
     "metadata": {},
     "outputs": [
      {
       "metadata": {},
       "output_type": "pyout",
       "prompt_number": 14,
       "text": [
        "array([[ 1.,  0.],\n",
        "       [ 0.,  1.]])"
       ]
      }
     ],
     "prompt_number": 14
    },
    {
     "cell_type": "markdown",
     "metadata": {},
     "source": [
      "Calling the method `get_port_risk` and providing a key for the respetive Greek yields sensitivities with regard to all risk factors (here: `gbm_1` and `gbm_2`). "
     ]
    },
    {
     "cell_type": "code",
     "collapsed": false,
     "input": [
      "%%time\n",
      "vegas = portfolio.get_port_risk(Greek='Vega',\n",
      "                                fixed_seed=True)"
     ],
     "language": "python",
     "metadata": {},
     "outputs": [
      {
       "output_type": "stream",
       "stream": "stdout",
       "text": [
        "CPU times: user 12.9 s, sys: 1.31 s, total: 14.2 s\n",
        "Wall time: 14.8 s\n"
       ]
      }
     ],
     "prompt_number": 15
    },
    {
     "cell_type": "markdown",
     "metadata": {},
     "source": [
      "The return object is a pandas `Panel` object."
     ]
    },
    {
     "cell_type": "code",
     "collapsed": false,
     "input": [
      "vegas"
     ],
     "language": "python",
     "metadata": {},
     "outputs": [
      {
       "metadata": {},
       "output_type": "pyout",
       "prompt_number": 16,
       "text": [
        "<class 'pandas.core.panel.Panel'>\n",
        "Dimensions: 2 (items) x 5 (major_axis) x 2 (minor_axis)\n",
        "Items axis: gbm_1_Vega to gbm_2_Vega\n",
        "Major_axis axis: 0.8 to 1.2\n",
        "Minor_axis axis: factor to value"
       ]
      }
     ],
     "prompt_number": 16
    },
    {
     "cell_type": "markdown",
     "metadata": {},
     "source": [
      "Using the helper funtion `risk_report` allows the easy, readable printout of the results, i.e. the **portfolio volatility sensitivities**. In this case you can see that, for example, the increase in the first risk fator's (`gbm_1`) volatility by 10% leads to a portfolio value increase bya bit less than 1 currency unit. Decreasing the same input parameter by 10% reduces the portfolio value by a bit less than 1 currency unit."
     ]
    },
    {
     "cell_type": "code",
     "collapsed": false,
     "input": [
      "dx.risk_report(vegas)"
     ],
     "language": "python",
     "metadata": {},
     "outputs": [
      {
       "output_type": "stream",
       "stream": "stdout",
       "text": [
        "\n",
        "gbm_1_Vega\n",
        "          0.8    0.9    1.0    1.1    1.2\n",
        "factor   0.16   0.18   0.20   0.22   0.24\n",
        "value   32.31  33.25  34.17  35.11  35.99\n",
        "\n",
        "gbm_2_Vega\n",
        "          0.8    0.9    1.0    1.1    1.2\n",
        "factor   0.40   0.45   0.50   0.55   0.60\n",
        "value   29.45  31.82  34.17  36.52  38.86\n"
       ]
      }
     ],
     "prompt_number": 17
    },
    {
     "cell_type": "markdown",
     "metadata": {},
     "source": [
      "Of course, you can generate the same risk report for the **portfolio initial value sensitivities**."
     ]
    },
    {
     "cell_type": "code",
     "collapsed": false,
     "input": [
      "%time deltas = portfolio.get_port_risk(Greek='Delta', fixed_seed=True)"
     ],
     "language": "python",
     "metadata": {},
     "outputs": [
      {
       "output_type": "stream",
       "stream": "stdout",
       "text": [
        "CPU times: user 11.5 s, sys: 1.19 s, total: 12.7 s\n",
        "Wall time: 12.8 s\n"
       ]
      }
     ],
     "prompt_number": 18
    },
    {
     "cell_type": "markdown",
     "metadata": {},
     "source": [
      "For example, increasing the initial value of the first risk factor (`gbm_1`) by 10% increases the portfolio value by about 11 currency units."
     ]
    },
    {
     "cell_type": "code",
     "collapsed": false,
     "input": [
      "dx.risk_report(deltas)"
     ],
     "language": "python",
     "metadata": {},
     "outputs": [
      {
       "output_type": "stream",
       "stream": "stdout",
       "text": [
        "\n",
        "gbm_1_Delta\n",
        "          0.8    0.9    1.0    1.1    1.2\n",
        "factor  32.00  36.00  40.00  44.00  48.00\n",
        "value   25.48  28.44  34.17  45.31  61.36\n",
        "\n",
        "gbm_2_Delta\n",
        "          0.8    0.9    1.0   1.1    1.2\n",
        "factor  32.00  36.00  40.00  44.0  48.00\n",
        "value   24.14  28.31  34.17  41.6  50.09\n"
       ]
      }
     ],
     "prompt_number": 19
    },
    {
     "cell_type": "heading",
     "level": 3,
     "metadata": {},
     "source": [
      "With Correlation"
     ]
    },
    {
     "cell_type": "markdown",
     "metadata": {},
     "source": [
      "Consider now a **highly negative correlation** case."
     ]
    },
    {
     "cell_type": "code",
     "collapsed": false,
     "input": [
      "correlations = [['gbm_1', 'gbm_2', -0.9]]"
     ],
     "language": "python",
     "metadata": {},
     "outputs": [],
     "prompt_number": 20
    },
    {
     "cell_type": "code",
     "collapsed": false,
     "input": [
      "portfolio = dx.derivatives_portfolio(\n",
      "                        'portfolio', positions, val_env,\n",
      "                        risk_factors, correlations, parallel=False)"
     ],
     "language": "python",
     "metadata": {},
     "outputs": [],
     "prompt_number": 21
    },
    {
     "cell_type": "code",
     "collapsed": false,
     "input": [
      "portfolio.val_env.get_list('cholesky_matrix')"
     ],
     "language": "python",
     "metadata": {},
     "outputs": [
      {
       "metadata": {},
       "output_type": "pyout",
       "prompt_number": 22,
       "text": [
        "array([[ 1.        ,  0.        ],\n",
        "       [-0.9       ,  0.43588989]])"
       ]
      }
     ],
     "prompt_number": 22
    },
    {
     "cell_type": "markdown",
     "metadata": {},
     "source": [
      "Since the value of the European maximum call option is dependent on the risk factor correlation you see a **significant change in this derivative's value estimate**."
     ]
    },
    {
     "cell_type": "code",
     "collapsed": false,
     "input": [
      "%time portfolio.get_values(fixed_seed=True)"
     ],
     "language": "python",
     "metadata": {},
     "outputs": [
      {
       "output_type": "stream",
       "stream": "stdout",
       "text": [
        "Total\n",
        "pos_value    44.112\n",
        "dtype: float64\n",
        "CPU times: user 1.3 s, sys: 109 ms, total: 1.41 s\n",
        "Wall time: 1.37 s\n"
       ]
      },
      {
       "html": [
        "<div style=\"max-height:1000px;max-width:1500px;overflow:auto;\">\n",
        "<table border=\"1\" class=\"dataframe\">\n",
        "  <thead>\n",
        "    <tr style=\"text-align: right;\">\n",
        "      <th></th>\n",
        "      <th>position</th>\n",
        "      <th>name</th>\n",
        "      <th>quantity</th>\n",
        "      <th>otype</th>\n",
        "      <th>risk_facts</th>\n",
        "      <th>value</th>\n",
        "      <th>currency</th>\n",
        "      <th>pos_value</th>\n",
        "    </tr>\n",
        "  </thead>\n",
        "  <tbody>\n",
        "    <tr>\n",
        "      <th>0</th>\n",
        "      <td> 0</td>\n",
        "      <td> am_put_pos_0</td>\n",
        "      <td> 1</td>\n",
        "      <td> American single</td>\n",
        "      <td>        [gbm_1]</td>\n",
        "      <td>  3.293</td>\n",
        "      <td> EUR</td>\n",
        "      <td>  3.293</td>\n",
        "    </tr>\n",
        "    <tr>\n",
        "      <th>1</th>\n",
        "      <td> 1</td>\n",
        "      <td> am_put_pos_1</td>\n",
        "      <td> 1</td>\n",
        "      <td> American single</td>\n",
        "      <td>        [gbm_1]</td>\n",
        "      <td>  3.293</td>\n",
        "      <td> EUR</td>\n",
        "      <td>  3.293</td>\n",
        "    </tr>\n",
        "    <tr>\n",
        "      <th>2</th>\n",
        "      <td> 2</td>\n",
        "      <td> am_put_pos_2</td>\n",
        "      <td> 1</td>\n",
        "      <td> American single</td>\n",
        "      <td>        [gbm_1]</td>\n",
        "      <td>  3.293</td>\n",
        "      <td> EUR</td>\n",
        "      <td>  3.293</td>\n",
        "    </tr>\n",
        "    <tr>\n",
        "      <th>3</th>\n",
        "      <td> 3</td>\n",
        "      <td>  multi_pos_3</td>\n",
        "      <td> 1</td>\n",
        "      <td>  European multi</td>\n",
        "      <td> [gbm_1, gbm_2]</td>\n",
        "      <td> 11.411</td>\n",
        "      <td> EUR</td>\n",
        "      <td> 11.411</td>\n",
        "    </tr>\n",
        "    <tr>\n",
        "      <th>4</th>\n",
        "      <td> 4</td>\n",
        "      <td>  multi_pos_4</td>\n",
        "      <td> 1</td>\n",
        "      <td>  European multi</td>\n",
        "      <td> [gbm_1, gbm_2]</td>\n",
        "      <td> 11.411</td>\n",
        "      <td> EUR</td>\n",
        "      <td> 11.411</td>\n",
        "    </tr>\n",
        "    <tr>\n",
        "      <th>5</th>\n",
        "      <td> 5</td>\n",
        "      <td>  multi_pos_5</td>\n",
        "      <td> 1</td>\n",
        "      <td>  European multi</td>\n",
        "      <td> [gbm_1, gbm_2]</td>\n",
        "      <td> 11.411</td>\n",
        "      <td> EUR</td>\n",
        "      <td> 11.411</td>\n",
        "    </tr>\n",
        "  </tbody>\n",
        "</table>\n",
        "</div>"
       ],
       "metadata": {},
       "output_type": "pyout",
       "prompt_number": 23,
       "text": [
        "   position          name  quantity            otype      risk_facts   value  \\\n",
        "0         0  am_put_pos_0         1  American single         [gbm_1]   3.293   \n",
        "1         1  am_put_pos_1         1  American single         [gbm_1]   3.293   \n",
        "2         2  am_put_pos_2         1  American single         [gbm_1]   3.293   \n",
        "3         3   multi_pos_3         1   European multi  [gbm_1, gbm_2]  11.411   \n",
        "4         4   multi_pos_4         1   European multi  [gbm_1, gbm_2]  11.411   \n",
        "5         5   multi_pos_5         1   European multi  [gbm_1, gbm_2]  11.411   \n",
        "\n",
        "  currency  pos_value  \n",
        "0      EUR      3.293  \n",
        "1      EUR      3.293  \n",
        "2      EUR      3.293  \n",
        "3      EUR     11.411  \n",
        "4      EUR     11.411  \n",
        "5      EUR     11.411  "
       ]
      }
     ],
     "prompt_number": 23
    },
    {
     "cell_type": "markdown",
     "metadata": {},
     "source": [
      "Via the `step` parameter, you can influence the  **granularity of the risk report**."
     ]
    },
    {
     "cell_type": "code",
     "collapsed": false,
     "input": [
      "%%time \n",
      "deltas = portfolio.get_port_risk(Greek='Delta',\n",
      "                                 fixed_seed=True,\n",
      "                                 step=0.05)"
     ],
     "language": "python",
     "metadata": {},
     "outputs": [
      {
       "output_type": "stream",
       "stream": "stdout",
       "text": [
        "CPU times: user 19 s, sys: 1.29 s, total: 20.3 s\n",
        "Wall time: 19.9 s\n"
       ]
      }
     ],
     "prompt_number": 24
    },
    {
     "cell_type": "markdown",
     "metadata": {},
     "source": [
      "In this case, an increase in the intial value of the first risk factor (`gbm_1`) by 10% leads to a **much higher increase**\n",
      "in the portfolio value of about 15 currency units."
     ]
    },
    {
     "cell_type": "code",
     "collapsed": false,
     "input": [
      "dx.risk_report(deltas)"
     ],
     "language": "python",
     "metadata": {},
     "outputs": [
      {
       "output_type": "stream",
       "stream": "stdout",
       "text": [
        "\n",
        "gbm_1_Delta\n",
        "        0.80   0.85   0.90   0.95   1.00   1.05   1.10   1.15   1.20\n",
        "factor  32.0  34.00  36.00  38.00  40.00  42.00  44.00  46.00  48.00\n",
        "value   27.2  29.65  33.23  38.12  44.11  51.06  58.96  67.64  76.98\n",
        "\n",
        "gbm_2_Delta\n",
        "         0.80   0.85   0.90   0.95   1.00   1.05   1.10  1.15   1.20\n",
        "factor  32.00  34.00  36.00  38.00  40.00  42.00  44.00  46.0  48.00\n",
        "value   31.67  34.38  37.36  40.62  44.11  47.82  51.73  55.8  60.02\n"
       ]
      }
     ],
     "prompt_number": 25
    },
    {
     "cell_type": "markdown",
     "metadata": {},
     "source": [
      "**Copyright, License & Disclaimer**\n",
      "\n",
      "&copy; Dr. Yves J. Hilpisch | The Python Quants GmbH\n",
      "\n",
      "DX Analytics (the \"dx library\") is licensed under the GNU Affero General Public License\n",
      "version 3 or later (see <a href=\"http://www.gnu.org/licenses/\" target=\"_blank\">http://www.gnu.org/licenses/</a>).\n",
      "\n",
      "DX Analytics comes with no representations\n",
      "or warranties, to the extent permitted by applicable law.\n",
      "\n",
      "\n",
      "<img src=\"http://hilpisch.com/tpq_logo.png\" alt=\"The Python Quants\" width=\"35%\" align=\"right\" border=\"0\"><br>\n",
      "\n",
      "<a href=\"http://www.pythonquants.com\" target=\"_blank\">http://www.pythonquants.com</a> | <a href=\"mailto:analytics@pythonquants.com\">analytics@pythonquants.com</a> | <a href=\"http://twitter.com/dyjh\" target=\"_blank\">http://twitter.com/dyjh</a>\n",
      "\n",
      "**Python Quant Platform** |\n",
      "<a href=\"http://quant-platform.com\">http://quant-platform.com</a>\n",
      "\n",
      "**Derivatives Analytics with Python (Wiley Finance)** |\n",
      "<a href=\"http://derivatives-analytics-with-python.com\" target=\"_blank\">http://derivatives-analytics-with-python.com</a>\n",
      "\n",
      "**Python for Finance (O'Reilly)** |\n",
      "<a href=\"http://shop.oreilly.com/product/0636920032441.do\" target=\"_blank\">http://shop.oreilly.com/product/0636920032441.do</a>"
     ]
    }
   ],
   "metadata": {}
  }
 ]
}