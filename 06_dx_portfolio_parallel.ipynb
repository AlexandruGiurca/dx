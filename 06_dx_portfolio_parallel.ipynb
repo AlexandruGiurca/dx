{
 "metadata": {
  "name": "",
  "signature": "sha256:c92a5934a759894ef3c0fd97817bb37eb6f304614b5b19953e574bc39709d546"
 },
 "nbformat": 3,
 "nbformat_minor": 0,
 "worksheets": [
  {
   "cells": [
    {
     "cell_type": "markdown",
     "metadata": {},
     "source": [
      "<img src=\"http://hilpisch.com/tpq_logo.png\" alt=\"The Python Quants\" width=\"45%\" align=\"right\" border=\"4\">"
     ]
    },
    {
     "cell_type": "heading",
     "level": 1,
     "metadata": {},
     "source": [
      "Parallel Valuation of Large Portfolios "
     ]
    },
    {
     "cell_type": "markdown",
     "metadata": {},
     "source": [
      "Derivatives (portfolio) valuation by Monte Carlo simulation is a **computationally demanding task**. For practical applications, when valuation speed plays an important role, **parallelization of both simulation and valuation tasks** might prove a useful strategy. DX Analytics has built in a basic parallelization option which allows the use of the Python `mulitprocessing` module. Depending on the tasks at hand this can already lead to significant speed-ups."
     ]
    },
    {
     "cell_type": "code",
     "collapsed": false,
     "input": [
      "from dx import *\n",
      "import time\n",
      "import matplotlib.pyplot as plt\n",
      "%matplotlib inline"
     ],
     "language": "python",
     "metadata": {},
     "outputs": [],
     "prompt_number": 1
    },
    {
     "cell_type": "heading",
     "level": 2,
     "metadata": {},
     "source": [
      "Single Risk Factor"
     ]
    },
    {
     "cell_type": "markdown",
     "metadata": {},
     "source": [
      "The example is based on a **single risk factor**, a `geometric_brownian_motion` object."
     ]
    },
    {
     "cell_type": "code",
     "collapsed": false,
     "input": [
      "# constant short rate\n",
      "r = constant_short_rate('r', 0.02)"
     ],
     "language": "python",
     "metadata": {},
     "outputs": [],
     "prompt_number": 2
    },
    {
     "cell_type": "code",
     "collapsed": false,
     "input": [
      "# market environments\n",
      "me_gbm = market_environment('gbm', dt.datetime(2015, 1, 1))"
     ],
     "language": "python",
     "metadata": {},
     "outputs": [],
     "prompt_number": 3
    },
    {
     "cell_type": "code",
     "collapsed": false,
     "input": [
      "# geometric Brownian motion\n",
      "me_gbm.add_constant('initial_value', 100.)\n",
      "me_gbm.add_constant('volatility', 0.2) \n",
      "me_gbm.add_constant('currency', 'EUR')\n",
      "me_gbm.add_constant('model', 'gbm')"
     ],
     "language": "python",
     "metadata": {},
     "outputs": [],
     "prompt_number": 4
    },
    {
     "cell_type": "code",
     "collapsed": false,
     "input": [
      "# valuation environment\n",
      "val_env = market_environment('val_env', dt.datetime(2015, 1, 1))\n",
      "val_env.add_constant('paths', 25000)\n",
      "val_env.add_constant('frequency', 'M')\n",
      "val_env.add_curve('discount_curve', r)\n",
      "val_env.add_constant('starting_date', dt.datetime(2015, 1, 1))\n",
      "val_env.add_constant('final_date', dt.datetime(2015, 12, 31))"
     ],
     "language": "python",
     "metadata": {},
     "outputs": [],
     "prompt_number": 5
    },
    {
     "cell_type": "code",
     "collapsed": false,
     "input": [
      "# add valuation environment to market environments\n",
      "me_gbm.add_environment(val_env)"
     ],
     "language": "python",
     "metadata": {},
     "outputs": [],
     "prompt_number": 6
    },
    {
     "cell_type": "code",
     "collapsed": false,
     "input": [
      "risk_factors = {'gbm' : me_gbm}"
     ],
     "language": "python",
     "metadata": {},
     "outputs": [],
     "prompt_number": 7
    },
    {
     "cell_type": "heading",
     "level": 2,
     "metadata": {},
     "source": [
      "American Put Option"
     ]
    },
    {
     "cell_type": "markdown",
     "metadata": {},
     "source": [
      "We also model only a **single derivative instrument**."
     ]
    },
    {
     "cell_type": "code",
     "collapsed": false,
     "input": [
      "gbm = geometric_brownian_motion('gbm_obj', me_gbm)"
     ],
     "language": "python",
     "metadata": {},
     "outputs": [],
     "prompt_number": 8
    },
    {
     "cell_type": "code",
     "collapsed": false,
     "input": [
      "me_put = market_environment('put', dt.datetime(2015, 1, 1))\n",
      "me_put.add_constant('maturity', dt.datetime(2015, 12, 31))\n",
      "me_put.add_constant('strike', 40.)\n",
      "me_put.add_constant('currency', 'EUR')\n",
      "me_put.add_environment(val_env)"
     ],
     "language": "python",
     "metadata": {},
     "outputs": [],
     "prompt_number": 9
    },
    {
     "cell_type": "code",
     "collapsed": false,
     "input": [
      "am_put = valuation_mcs_american_single(\n",
      "                'am_put', mar_env=me_put, underlying=gbm,\n",
      "                payoff_func='np.maximum(strike - instrument_values, 0)')"
     ],
     "language": "python",
     "metadata": {},
     "outputs": [],
     "prompt_number": 10
    },
    {
     "cell_type": "heading",
     "level": 2,
     "metadata": {},
     "source": [
      "Large Portfolio"
     ]
    },
    {
     "cell_type": "markdown",
     "metadata": {},
     "source": [
      "However, the `derivatives_portfolio` object we compose consists of **100 derivatives positions**. Each option differes with respect to the strike."
     ]
    },
    {
     "cell_type": "code",
     "collapsed": false,
     "input": [
      "positions = {}\n",
      "strikes = np.linspace(80, 120, 100)\n",
      "for i, strike in enumerate(strikes):\n",
      "    positions[i] = derivatives_position(\n",
      "                        name='am_put_pos_%s' % strike,\n",
      "                        quantity=1,\n",
      "                        underlyings=['gbm'],\n",
      "                        mar_env=me_put,\n",
      "                        otype='American single',\n",
      "        payoff_func='np.maximum(%5.3f - instrument_values, 0)' % strike)"
     ],
     "language": "python",
     "metadata": {},
     "outputs": [],
     "prompt_number": 11
    },
    {
     "cell_type": "heading",
     "level": 3,
     "metadata": {},
     "source": [
      "Sequential Valuation"
     ]
    },
    {
     "cell_type": "markdown",
     "metadata": {},
     "source": [
      "First, the derivatives portfolio with **sequential valuation**."
     ]
    },
    {
     "cell_type": "code",
     "collapsed": false,
     "input": [
      "port_sequ = derivatives_portfolio(\n",
      "                name='portfolio',\n",
      "                positions=positions,\n",
      "                val_env=val_env,\n",
      "                risk_factors=risk_factors,\n",
      "                correlations=None,\n",
      "                parallel=False)  # sequential calculation"
     ],
     "language": "python",
     "metadata": {},
     "outputs": [],
     "prompt_number": 12
    },
    {
     "cell_type": "markdown",
     "metadata": {},
     "source": [
      "The call of the `get_values` method to **value all instruments** ..."
     ]
    },
    {
     "cell_type": "code",
     "collapsed": false,
     "input": [
      "t0 = time.time()\n",
      "ress = port_sequ.get_values()\n",
      "ts = time.time() - t0\n",
      "print \"Time in sec %.2f\" % ts"
     ],
     "language": "python",
     "metadata": {},
     "outputs": [
      {
       "output_type": "stream",
       "stream": "stdout",
       "text": [
        "Total\n",
        "pos_value    839.439\n",
        "dtype: float64\n",
        "Time in sec 5.11\n"
       ]
      }
     ],
     "prompt_number": 13
    },
    {
     "cell_type": "markdown",
     "metadata": {},
     "source": [
      "... and the **results visualized**."
     ]
    },
    {
     "cell_type": "code",
     "collapsed": false,
     "input": [
      "ress['strike'] = strikes\n",
      "ress.set_index('strike')['value'].plot()\n",
      "plt.ylabel('option value estimates')"
     ],
     "language": "python",
     "metadata": {},
     "outputs": [
      {
       "metadata": {},
       "output_type": "pyout",
       "prompt_number": 14,
       "text": [
        "<matplotlib.text.Text at 0x7f5e20d966d0>"
       ]
      },
      {
       "metadata": {},
       "output_type": "display_data",
       "png": "[encoded data removed]",
       "text": [
        "<matplotlib.figure.Figure at 0x7f5e20e3f450>"
       ]
      }
     ],
     "prompt_number": 14
    },
    {
     "cell_type": "heading",
     "level": 3,
     "metadata": {},
     "source": [
      "Parallel Valuation"
     ]
    },
    {
     "cell_type": "markdown",
     "metadata": {},
     "source": [
      "Second, the derivatives portfolio with **parallel valuation**."
     ]
    },
    {
     "cell_type": "code",
     "collapsed": false,
     "input": [
      "port_para = derivatives_portfolio(\n",
      "                'portfolio',\n",
      "                positions,\n",
      "                val_env,\n",
      "                risk_factors,\n",
      "                correlations=None,\n",
      "                parallel=True)  # parallel valuation"
     ],
     "language": "python",
     "metadata": {},
     "outputs": [],
     "prompt_number": 15
    },
    {
     "cell_type": "markdown",
     "metadata": {},
     "source": [
      "The call of the `get_values` method for the parall valuation case."
     ]
    },
    {
     "cell_type": "code",
     "collapsed": false,
     "input": [
      "t0 = time.time()\n",
      "resp = port_para.get_values()\n",
      "  # parallel valuation with as many cores as available\n",
      "tp = time.time() - t0\n",
      "print \"Time in sec %.2f\" % tp"
     ],
     "language": "python",
     "metadata": {},
     "outputs": [
      {
       "output_type": "stream",
       "stream": "stdout",
       "text": [
        "Total\n",
        "pos_value    839.466\n",
        "dtype: float64\n",
        "Time in sec 2.65\n"
       ]
      }
     ],
     "prompt_number": 16
    },
    {
     "cell_type": "markdown",
     "metadata": {},
     "source": [
      "Again, the **results visualized** (and compared to the sequential results)."
     ]
    },
    {
     "cell_type": "code",
     "collapsed": false,
     "input": [
      "plt.plot(strikes, resp['value'].values, 'r.', label='parallel')\n",
      "plt.plot(strikes, ress['value'].values, 'b', label='sequential')\n",
      "plt.legend(loc=0)\n",
      "plt.ylabel('option value estimates')\n",
      "plt.grid()"
     ],
     "language": "python",
     "metadata": {},
     "outputs": [
      {
       "metadata": {},
       "output_type": "display_data",
       "png": "[encoded data removed]",
       "text": [
        "<matplotlib.figure.Figure at 0x7f5e20c44d50>"
       ]
      }
     ],
     "prompt_number": 17
    },
    {
     "cell_type": "heading",
     "level": 3,
     "metadata": {},
     "source": [
      "Speed.up"
     ]
    },
    {
     "cell_type": "markdown",
     "metadata": {},
     "source": [
      "The **realized speed-up** is of course dependend on the hardware used, and in particular the number of cores (threads) available."
     ]
    },
    {
     "cell_type": "code",
     "collapsed": false,
     "input": [
      "ts / tp\n",
      "  # speed-up factor\n",
      "  # of course harware-dependent"
     ],
     "language": "python",
     "metadata": {},
     "outputs": [
      {
       "metadata": {},
       "output_type": "pyout",
       "prompt_number": 18,
       "text": [
        "1.9271087272091252"
       ]
      }
     ],
     "prompt_number": 18
    },
    {
     "cell_type": "code",
     "collapsed": false,
     "input": [
      "import matplotlib.pyplot as plt\n",
      "%matplotlib inline\n",
      "wi = 0.4\n",
      "plt.bar((1.5 - wi/2, 2.5 - wi/2), (ts/ts, tp/ts), width=wi)\n",
      "plt.xticks((1.5, 2.5), ('sequential', 'parallel'))\n",
      "plt.grid(True), plt.ylim(0, 1.1), plt.xlim(0.75, 3.25)\n",
      "plt.ylabel('relative performance (lower = better)')\n",
      "plt.title('DX Analytics Portfolio Valuation')"
     ],
     "language": "python",
     "metadata": {},
     "outputs": [
      {
       "metadata": {},
       "output_type": "pyout",
       "prompt_number": 19,
       "text": [
        "<matplotlib.text.Text at 0x7f5e20b6c910>"
       ]
      },
      {
       "metadata": {},
       "output_type": "display_data",
       "png": "[encoded data removed]",
       "text": [
        "<matplotlib.figure.Figure at 0x7f5e20e74950>"
       ]
      }
     ],
     "prompt_number": 19
    },
    {
     "cell_type": "markdown",
     "metadata": {},
     "source": [
      "**Copyright, License & Disclaimer**\n",
      "\n",
      "&copy; Dr. Yves J. Hilpisch | The Python Quants GmbH\n",
      "\n",
      "DX Analytics (the \"dx library\") is licensed under the GNU Affero General Public License\n",
      "version 3 or later (see <a href=\"http://www.gnu.org/licenses/\" target=\"_blank\">http://www.gnu.org/licenses/</a>).\n",
      "\n",
      "DX Analytics comes with no representations\n",
      "or warranties, to the extent permitted by applicable law.\n",
      "\n",
      "\n",
      "<img src=\"http://hilpisch.com/tpq_logo.png\" alt=\"The Python Quants\" width=\"35%\" align=\"right\" border=\"0\"><br>\n",
      "\n",
      "<a href=\"http://www.pythonquants.com\" target=\"_blank\">http://www.pythonquants.com</a> | <a href=\"mailto:analytics@pythonquants.com\">analytics@pythonquants.com</a> | <a href=\"http://twitter.com/dyjh\" target=\"_blank\">http://twitter.com/dyjh</a>\n",
      "\n",
      "**Python Quant Platform** |\n",
      "<a href=\"http://quant-platform.com\">http://quant-platform.com</a>\n",
      "\n",
      "**Derivatives Analytics with Python (Wiley Finance)** |\n",
      "<a href=\"http://derivatives-analytics-with-python.com\" target=\"_blank\">http://derivatives-analytics-with-python.com</a>\n",
      "\n",
      "**Python for Finance (O'Reilly)** |\n",
      "<a href=\"http://shop.oreilly.com/product/0636920032441.do\" target=\"_blank\">http://shop.oreilly.com/product/0636920032441.do</a>"
     ]
    }
   ],
   "metadata": {}
  }
 ]
}