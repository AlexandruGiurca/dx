{
 "metadata": {
  "name": "",
  "signature": "sha256:ed07aacdef1b70251442b26608a7e7ab246492216f0e15507321aa75183d9ee3"
 },
 "nbformat": 3,
 "nbformat_minor": 0,
 "worksheets": [
  {
   "cells": [
    {
     "cell_type": "markdown",
     "metadata": {},
     "source": [
      "<img src=\"http://hilpisch.com/tpq_logo.png\" alt=\"The Python Quants\" width=\"45%\" align=\"right\" border=\"4\">"
     ]
    },
    {
     "cell_type": "heading",
     "level": 1,
     "metadata": {},
     "source": [
      "Implied Volatilities and Model Calibration"
     ]
    },
    {
     "cell_type": "markdown",
     "metadata": {},
     "source": [
      "This setion of the documentation illustrates how to calculate **implied volatilities** and how to calibrate a model to **VSTOXX volatility index call option quotes**. The example implements the calibration for a total of **one month worth of data**."
     ]
    },
    {
     "cell_type": "code",
     "collapsed": false,
     "input": [
      "import numpy as np\n",
      "import pandas as pd"
     ],
     "language": "python",
     "metadata": {},
     "outputs": [],
     "prompt_number": 1
    },
    {
     "cell_type": "heading",
     "level": 2,
     "metadata": {},
     "source": [
      "VSTOXX Futures & Options Data"
     ]
    },
    {
     "cell_type": "markdown",
     "metadata": {},
     "source": [
      "We start by loading **VSTOXX data** from a pandas `HDFStore` into `DataFrame` objects (source: Eurex, cf. http://www.eurexchange.com/advanced-services/)."
     ]
    },
    {
     "cell_type": "code",
     "collapsed": false,
     "input": [
      "h5 = pd.HDFStore('./data/vstoxx_march_2014.h5', 'r')\n",
      "vstoxx_index = h5['vstoxx_index'] \n",
      "vstoxx_futures = h5['vstoxx_futures'] \n",
      "vstoxx_options = h5['vstoxx_options']\n",
      "h5.close()"
     ],
     "language": "python",
     "metadata": {},
     "outputs": [],
     "prompt_number": 2
    },
    {
     "cell_type": "markdown",
     "metadata": {},
     "source": [
      "**VSTOXX index** for the first quarter of 2014."
     ]
    },
    {
     "cell_type": "code",
     "collapsed": false,
     "input": [
      "%matplotlib inline\n",
      "vstoxx_index['V2TX'].plot()"
     ],
     "language": "python",
     "metadata": {},
     "outputs": [
      {
       "metadata": {},
       "output_type": "pyout",
       "prompt_number": 3,
       "text": [
        "<matplotlib.axes.AxesSubplot at 0x7f0773315290>"
       ]
      },
      {
       "metadata": {},
       "output_type": "display_data",
       "png": "[encoded data removed]",
       "text": [
        "<matplotlib.figure.Figure at 0x7f0773308bd0>"
       ]
      }
     ],
     "prompt_number": 3
    },
    {
     "cell_type": "markdown",
     "metadata": {},
     "source": [
      "The **VSTOXX futures** data (8 futures maturities/quotes per day)."
     ]
    },
    {
     "cell_type": "code",
     "collapsed": false,
     "input": [
      "vstoxx_futures.info()"
     ],
     "language": "python",
     "metadata": {},
     "outputs": [
      {
       "output_type": "stream",
       "stream": "stdout",
       "text": [
        "<class 'pandas.core.frame.DataFrame'>\n",
        "Int64Index: 504 entries, 0 to 503\n",
        "Data columns (total 5 columns):\n",
        "DATE         504 non-null datetime64[ns]\n",
        "EXP_YEAR     504 non-null int64\n",
        "EXP_MONTH    504 non-null int64\n",
        "PRICE        504 non-null float64\n",
        "MATURITY     504 non-null datetime64[ns]\n",
        "dtypes: datetime64[ns](2), float64(1), int64(2)\n",
        "memory usage: 23.6 KB\n"
       ]
      }
     ],
     "prompt_number": 4
    },
    {
     "cell_type": "code",
     "collapsed": false,
     "input": [
      "vstoxx_futures.tail()"
     ],
     "language": "python",
     "metadata": {},
     "outputs": [
      {
       "html": [
        "<div style=\"max-height:1000px;max-width:1500px;overflow:auto;\">\n",
        "<table border=\"1\" class=\"dataframe\">\n",
        "  <thead>\n",
        "    <tr style=\"text-align: right;\">\n",
        "      <th></th>\n",
        "      <th>DATE</th>\n",
        "      <th>EXP_YEAR</th>\n",
        "      <th>EXP_MONTH</th>\n",
        "      <th>PRICE</th>\n",
        "      <th>MATURITY</th>\n",
        "    </tr>\n",
        "  </thead>\n",
        "  <tbody>\n",
        "    <tr>\n",
        "      <th>499</th>\n",
        "      <td>2014-03-31</td>\n",
        "      <td> 2014</td>\n",
        "      <td>  7</td>\n",
        "      <td> 20.40</td>\n",
        "      <td>2014-07-18</td>\n",
        "    </tr>\n",
        "    <tr>\n",
        "      <th>500</th>\n",
        "      <td>2014-03-31</td>\n",
        "      <td> 2014</td>\n",
        "      <td>  8</td>\n",
        "      <td> 20.70</td>\n",
        "      <td>2014-08-15</td>\n",
        "    </tr>\n",
        "    <tr>\n",
        "      <th>501</th>\n",
        "      <td>2014-03-31</td>\n",
        "      <td> 2014</td>\n",
        "      <td>  9</td>\n",
        "      <td> 20.95</td>\n",
        "      <td>2014-09-19</td>\n",
        "    </tr>\n",
        "    <tr>\n",
        "      <th>502</th>\n",
        "      <td>2014-03-31</td>\n",
        "      <td> 2014</td>\n",
        "      <td> 10</td>\n",
        "      <td> 21.05</td>\n",
        "      <td>2014-10-17</td>\n",
        "    </tr>\n",
        "    <tr>\n",
        "      <th>503</th>\n",
        "      <td>2014-03-31</td>\n",
        "      <td> 2014</td>\n",
        "      <td> 11</td>\n",
        "      <td> 21.25</td>\n",
        "      <td>2014-11-21</td>\n",
        "    </tr>\n",
        "  </tbody>\n",
        "</table>\n",
        "</div>"
       ],
       "metadata": {},
       "output_type": "pyout",
       "prompt_number": 5,
       "text": [
        "          DATE  EXP_YEAR  EXP_MONTH  PRICE   MATURITY\n",
        "499 2014-03-31      2014          7  20.40 2014-07-18\n",
        "500 2014-03-31      2014          8  20.70 2014-08-15\n",
        "501 2014-03-31      2014          9  20.95 2014-09-19\n",
        "502 2014-03-31      2014         10  21.05 2014-10-17\n",
        "503 2014-03-31      2014         11  21.25 2014-11-21"
       ]
      }
     ],
     "prompt_number": 5
    },
    {
     "cell_type": "markdown",
     "metadata": {},
     "source": [
      "The **VSTOXX options** data. This data set is quite large due to the large number of European put and call options on the VSTOXX."
     ]
    },
    {
     "cell_type": "code",
     "collapsed": false,
     "input": [
      "vstoxx_options.info()"
     ],
     "language": "python",
     "metadata": {},
     "outputs": [
      {
       "output_type": "stream",
       "stream": "stdout",
       "text": [
        "<class 'pandas.core.frame.DataFrame'>\n",
        "Int64Index: 46960 entries, 0 to 46959\n",
        "Data columns (total 7 columns):\n",
        "DATE         46960 non-null datetime64[ns]\n",
        "EXP_YEAR     46960 non-null int64\n",
        "EXP_MONTH    46960 non-null int64\n",
        "TYPE         46960 non-null object\n",
        "STRIKE       46960 non-null float64\n",
        "PRICE        46960 non-null float64\n",
        "MATURITY     46960 non-null datetime64[ns]\n",
        "dtypes: datetime64[ns](2), float64(2), int64(2), object(1)\n",
        "memory usage: 2.9+ MB\n"
       ]
      }
     ],
     "prompt_number": 6
    },
    {
     "cell_type": "code",
     "collapsed": false,
     "input": [
      "vstoxx_options.tail()"
     ],
     "language": "python",
     "metadata": {},
     "outputs": [
      {
       "html": [
        "<div style=\"max-height:1000px;max-width:1500px;overflow:auto;\">\n",
        "<table border=\"1\" class=\"dataframe\">\n",
        "  <thead>\n",
        "    <tr style=\"text-align: right;\">\n",
        "      <th></th>\n",
        "      <th>DATE</th>\n",
        "      <th>EXP_YEAR</th>\n",
        "      <th>EXP_MONTH</th>\n",
        "      <th>TYPE</th>\n",
        "      <th>STRIKE</th>\n",
        "      <th>PRICE</th>\n",
        "      <th>MATURITY</th>\n",
        "    </tr>\n",
        "  </thead>\n",
        "  <tbody>\n",
        "    <tr>\n",
        "      <th>46955</th>\n",
        "      <td>2014-03-31</td>\n",
        "      <td> 2014</td>\n",
        "      <td> 11</td>\n",
        "      <td> P</td>\n",
        "      <td>  85</td>\n",
        "      <td> 63.65</td>\n",
        "      <td>2014-11-21</td>\n",
        "    </tr>\n",
        "    <tr>\n",
        "      <th>46956</th>\n",
        "      <td>2014-03-31</td>\n",
        "      <td> 2014</td>\n",
        "      <td> 11</td>\n",
        "      <td> P</td>\n",
        "      <td>  90</td>\n",
        "      <td> 68.65</td>\n",
        "      <td>2014-11-21</td>\n",
        "    </tr>\n",
        "    <tr>\n",
        "      <th>46957</th>\n",
        "      <td>2014-03-31</td>\n",
        "      <td> 2014</td>\n",
        "      <td> 11</td>\n",
        "      <td> P</td>\n",
        "      <td>  95</td>\n",
        "      <td> 73.65</td>\n",
        "      <td>2014-11-21</td>\n",
        "    </tr>\n",
        "    <tr>\n",
        "      <th>46958</th>\n",
        "      <td>2014-03-31</td>\n",
        "      <td> 2014</td>\n",
        "      <td> 11</td>\n",
        "      <td> P</td>\n",
        "      <td> 100</td>\n",
        "      <td> 78.65</td>\n",
        "      <td>2014-11-21</td>\n",
        "    </tr>\n",
        "    <tr>\n",
        "      <th>46959</th>\n",
        "      <td>2014-03-31</td>\n",
        "      <td> 2014</td>\n",
        "      <td> 11</td>\n",
        "      <td> P</td>\n",
        "      <td> 105</td>\n",
        "      <td> 83.65</td>\n",
        "      <td>2014-11-21</td>\n",
        "    </tr>\n",
        "  </tbody>\n",
        "</table>\n",
        "</div>"
       ],
       "metadata": {},
       "output_type": "pyout",
       "prompt_number": 7,
       "text": [
        "            DATE  EXP_YEAR  EXP_MONTH TYPE  STRIKE  PRICE   MATURITY\n",
        "46955 2014-03-31      2014         11    P      85  63.65 2014-11-21\n",
        "46956 2014-03-31      2014         11    P      90  68.65 2014-11-21\n",
        "46957 2014-03-31      2014         11    P      95  73.65 2014-11-21\n",
        "46958 2014-03-31      2014         11    P     100  78.65 2014-11-21\n",
        "46959 2014-03-31      2014         11    P     105  83.65 2014-11-21"
       ]
      }
     ],
     "prompt_number": 7
    },
    {
     "cell_type": "markdown",
     "metadata": {},
     "source": [
      "As a helper function we need a function to calculate all relevant **third Fridays** for all relevant maturity months of the data sets."
     ]
    },
    {
     "cell_type": "code",
     "collapsed": false,
     "input": [
      "import datetime as dt\n",
      "import calendar\n",
      "\n",
      "def third_friday(date):\n",
      "    day = 21 - (calendar.weekday(date.year, date.month, 1) + 2) % 7\n",
      "    return dt.datetime(date.year, date.month, day)"
     ],
     "language": "python",
     "metadata": {},
     "outputs": [],
     "prompt_number": 8
    },
    {
     "cell_type": "code",
     "collapsed": false,
     "input": [
      "third_fridays = {}\n",
      "for month in set(vstoxx_futures['EXP_MONTH']):\n",
      "    third_fridays[month] = third_friday(dt.datetime(2014, month, 1))"
     ],
     "language": "python",
     "metadata": {},
     "outputs": [],
     "prompt_number": 9
    },
    {
     "cell_type": "code",
     "collapsed": false,
     "input": [
      "third_fridays"
     ],
     "language": "python",
     "metadata": {},
     "outputs": [
      {
       "metadata": {},
       "output_type": "pyout",
       "prompt_number": 10,
       "text": [
        "{1: datetime.datetime(2014, 1, 17, 0, 0),\n",
        " 2: datetime.datetime(2014, 2, 21, 0, 0),\n",
        " 3: datetime.datetime(2014, 3, 21, 0, 0),\n",
        " 4: datetime.datetime(2014, 4, 18, 0, 0),\n",
        " 5: datetime.datetime(2014, 5, 16, 0, 0),\n",
        " 6: datetime.datetime(2014, 6, 20, 0, 0),\n",
        " 7: datetime.datetime(2014, 7, 18, 0, 0),\n",
        " 8: datetime.datetime(2014, 8, 15, 0, 0),\n",
        " 9: datetime.datetime(2014, 9, 19, 0, 0),\n",
        " 10: datetime.datetime(2014, 10, 17, 0, 0),\n",
        " 11: datetime.datetime(2014, 11, 21, 0, 0)}"
       ]
      }
     ],
     "prompt_number": 10
    },
    {
     "cell_type": "heading",
     "level": 2,
     "metadata": {},
     "source": [
      "Implied Volatilities from Market Quotes"
     ]
    },
    {
     "cell_type": "markdown",
     "metadata": {},
     "source": [
      "Often calibration efforts are undertaken to replicate the **market implied volatilities** or the so-called **volatility surface** as good as possible. With DX Analytics and the `BSM_european_option` class, you can efficiently calculate (i.e. numerically estimate) implied volatilities. For the example, we use the **VSTOXX futures and call options data** from 31. March 2014. "
     ]
    },
    {
     "cell_type": "code",
     "collapsed": false,
     "input": [
      "from dx import *"
     ],
     "language": "python",
     "metadata": {},
     "outputs": [],
     "prompt_number": 11
    },
    {
     "cell_type": "markdown",
     "metadata": {},
     "source": [
      "Some definitions, the pre-selection of option data and the pre-definition of the market environment needed."
     ]
    },
    {
     "cell_type": "code",
     "collapsed": false,
     "input": [
      "V0 = 17.6639  # VSTOXX level on 31.03.2014\n",
      "futures_data = vstoxx_futures[vstoxx_futures.DATE == '2014/3/31'].copy()\n",
      "options_data = vstoxx_options[(vstoxx_options.DATE == '2014/3/31')\n",
      "                              & (vstoxx_options.TYPE == 'C')].copy()\n",
      "me = market_environment('me', dt.datetime(2014, 3, 31))\n",
      "me.add_constant('initial_value', 17.6639)  # index on 31.03.2014\n",
      "me.add_constant('volatility', 2.0)  # for initialization\n",
      "me.add_curve('discount_curve', constant_short_rate('r', 0.01))  # assumption\n",
      "options_data['IMP_VOL'] = 0.0  # initialization new iv column"
     ],
     "language": "python",
     "metadata": {},
     "outputs": [],
     "prompt_number": 12
    },
    {
     "cell_type": "markdown",
     "metadata": {},
     "source": [
      "The following loop now **calculates the implied volatilities** for all those options whose strike lies within the defined tolerance level."
     ]
    },
    {
     "cell_type": "code",
     "collapsed": false,
     "input": [
      "%%time\n",
      "tol = 0.3  # tolerance level for moneyness\n",
      "for option in options_data.index:\n",
      "    # iterating over all option quotes\n",
      "    forward = futures_data[futures_data['MATURITY'] == \\\n",
      "                options_data.loc[option]['MATURITY']]['PRICE'].values\n",
      "                # picking the right futures value\n",
      "    if (forward * (1 - tol) < options_data.loc[option]['STRIKE']\n",
      "                             < forward * (1 + tol)):\n",
      "        # only for options with moneyness within tolerance\n",
      "        call = options_data.loc[option]\n",
      "        me.add_constant('strike', call['STRIKE'])\n",
      "        me.add_constant('maturity', call['MATURITY'])\n",
      "        call_option = BSM_european_option('call', me)\n",
      "        options_data.loc[option, 'IMP_VOL'] = \\\n",
      "            call_option.imp_vol(call['PRICE'], 'call', volatility_est=0.6)"
     ],
     "language": "python",
     "metadata": {},
     "outputs": [
      {
       "output_type": "stream",
       "stream": "stdout",
       "text": [
        "CPU times: user 716 ms, sys: 0 ns, total: 716 ms\n",
        "Wall time: 714 ms\n"
       ]
      }
     ],
     "prompt_number": 13
    },
    {
     "cell_type": "markdown",
     "metadata": {},
     "source": [
      "A selection of the **results**."
     ]
    },
    {
     "cell_type": "code",
     "collapsed": false,
     "input": [
      "options_data[60:70]"
     ],
     "language": "python",
     "metadata": {},
     "outputs": [
      {
       "html": [
        "<div style=\"max-height:1000px;max-width:1500px;overflow:auto;\">\n",
        "<table border=\"1\" class=\"dataframe\">\n",
        "  <thead>\n",
        "    <tr style=\"text-align: right;\">\n",
        "      <th></th>\n",
        "      <th>DATE</th>\n",
        "      <th>EXP_YEAR</th>\n",
        "      <th>EXP_MONTH</th>\n",
        "      <th>TYPE</th>\n",
        "      <th>STRIKE</th>\n",
        "      <th>PRICE</th>\n",
        "      <th>MATURITY</th>\n",
        "      <th>IMP_VOL</th>\n",
        "    </tr>\n",
        "  </thead>\n",
        "  <tbody>\n",
        "    <tr>\n",
        "      <th>46230</th>\n",
        "      <td>2014-03-31</td>\n",
        "      <td> 2014</td>\n",
        "      <td> 5</td>\n",
        "      <td> C</td>\n",
        "      <td> 12</td>\n",
        "      <td> 7.55</td>\n",
        "      <td>2014-05-16</td>\n",
        "      <td> 0.000000</td>\n",
        "    </tr>\n",
        "    <tr>\n",
        "      <th>46231</th>\n",
        "      <td>2014-03-31</td>\n",
        "      <td> 2014</td>\n",
        "      <td> 5</td>\n",
        "      <td> C</td>\n",
        "      <td> 13</td>\n",
        "      <td> 6.55</td>\n",
        "      <td>2014-05-16</td>\n",
        "      <td> 0.000000</td>\n",
        "    </tr>\n",
        "    <tr>\n",
        "      <th>46232</th>\n",
        "      <td>2014-03-31</td>\n",
        "      <td> 2014</td>\n",
        "      <td> 5</td>\n",
        "      <td> C</td>\n",
        "      <td> 14</td>\n",
        "      <td> 5.55</td>\n",
        "      <td>2014-05-16</td>\n",
        "      <td> 1.541568</td>\n",
        "    </tr>\n",
        "    <tr>\n",
        "      <th>46233</th>\n",
        "      <td>2014-03-31</td>\n",
        "      <td> 2014</td>\n",
        "      <td> 5</td>\n",
        "      <td> C</td>\n",
        "      <td> 15</td>\n",
        "      <td> 4.55</td>\n",
        "      <td>2014-05-16</td>\n",
        "      <td> 1.321803</td>\n",
        "    </tr>\n",
        "    <tr>\n",
        "      <th>46234</th>\n",
        "      <td>2014-03-31</td>\n",
        "      <td> 2014</td>\n",
        "      <td> 5</td>\n",
        "      <td> C</td>\n",
        "      <td> 16</td>\n",
        "      <td> 3.65</td>\n",
        "      <td>2014-05-16</td>\n",
        "      <td> 1.153001</td>\n",
        "    </tr>\n",
        "    <tr>\n",
        "      <th>46235</th>\n",
        "      <td>2014-03-31</td>\n",
        "      <td> 2014</td>\n",
        "      <td> 5</td>\n",
        "      <td> C</td>\n",
        "      <td> 17</td>\n",
        "      <td> 2.90</td>\n",
        "      <td>2014-05-16</td>\n",
        "      <td> 1.042549</td>\n",
        "    </tr>\n",
        "    <tr>\n",
        "      <th>46236</th>\n",
        "      <td>2014-03-31</td>\n",
        "      <td> 2014</td>\n",
        "      <td> 5</td>\n",
        "      <td> C</td>\n",
        "      <td> 18</td>\n",
        "      <td> 2.35</td>\n",
        "      <td>2014-05-16</td>\n",
        "      <td> 0.997178</td>\n",
        "    </tr>\n",
        "    <tr>\n",
        "      <th>46237</th>\n",
        "      <td>2014-03-31</td>\n",
        "      <td> 2014</td>\n",
        "      <td> 5</td>\n",
        "      <td> C</td>\n",
        "      <td> 19</td>\n",
        "      <td> 1.90</td>\n",
        "      <td>2014-05-16</td>\n",
        "      <td> 0.969301</td>\n",
        "    </tr>\n",
        "    <tr>\n",
        "      <th>46238</th>\n",
        "      <td>2014-03-31</td>\n",
        "      <td> 2014</td>\n",
        "      <td> 5</td>\n",
        "      <td> C</td>\n",
        "      <td> 20</td>\n",
        "      <td> 1.55</td>\n",
        "      <td>2014-05-16</td>\n",
        "      <td> 0.958777</td>\n",
        "    </tr>\n",
        "    <tr>\n",
        "      <th>46239</th>\n",
        "      <td>2014-03-31</td>\n",
        "      <td> 2014</td>\n",
        "      <td> 5</td>\n",
        "      <td> C</td>\n",
        "      <td> 21</td>\n",
        "      <td> 1.30</td>\n",
        "      <td>2014-05-16</td>\n",
        "      <td> 0.968430</td>\n",
        "    </tr>\n",
        "  </tbody>\n",
        "</table>\n",
        "</div>"
       ],
       "metadata": {},
       "output_type": "pyout",
       "prompt_number": 14,
       "text": [
        "            DATE  EXP_YEAR  EXP_MONTH TYPE  STRIKE  PRICE   MATURITY   IMP_VOL\n",
        "46230 2014-03-31      2014          5    C      12   7.55 2014-05-16  0.000000\n",
        "46231 2014-03-31      2014          5    C      13   6.55 2014-05-16  0.000000\n",
        "46232 2014-03-31      2014          5    C      14   5.55 2014-05-16  1.541568\n",
        "46233 2014-03-31      2014          5    C      15   4.55 2014-05-16  1.321803\n",
        "46234 2014-03-31      2014          5    C      16   3.65 2014-05-16  1.153001\n",
        "46235 2014-03-31      2014          5    C      17   2.90 2014-05-16  1.042549\n",
        "46236 2014-03-31      2014          5    C      18   2.35 2014-05-16  0.997178\n",
        "46237 2014-03-31      2014          5    C      19   1.90 2014-05-16  0.969301\n",
        "46238 2014-03-31      2014          5    C      20   1.55 2014-05-16  0.958777\n",
        "46239 2014-03-31      2014          5    C      21   1.30 2014-05-16  0.968430"
       ]
      }
     ],
     "prompt_number": 14
    },
    {
     "cell_type": "markdown",
     "metadata": {},
     "source": [
      "And the **complete results visualized**."
     ]
    },
    {
     "cell_type": "code",
     "collapsed": false,
     "input": [
      "import matplotlib.pyplot as plt\n",
      "%matplotlib inline\n",
      "plot_data = options_data[options_data.IMP_VOL > 0]\n",
      "plt.figure(figsize=(8, 6))\n",
      "for maturity in sorted(set(options_data['MATURITY'])):\n",
      "    data = plot_data.isin({'MATURITY': [maturity,]})\n",
      "    data = plot_data[plot_data.MATURITY == maturity]\n",
      "      # select data for this maturity\n",
      "    plt.plot(data['STRIKE'], data['IMP_VOL'],\n",
      "             label=maturity.date(), lw=1.5)\n",
      "    plt.plot(data['STRIKE'], data['IMP_VOL'], 'r.')\n",
      "plt.grid() \n",
      "plt.xlabel('strike')\n",
      "plt.ylabel('implied volatility of volatility')\n",
      "plt.legend()\n",
      "plt.show()"
     ],
     "language": "python",
     "metadata": {},
     "outputs": [
      {
       "metadata": {},
       "output_type": "display_data",
       "png": "[encoded data removed]",
       "text": [
        "<matplotlib.figure.Figure at 0x7f077926ec90>"
       ]
      }
     ],
     "prompt_number": 15
    },
    {
     "cell_type": "heading",
     "level": 2,
     "metadata": {},
     "source": [
      "Market Modeling"
     ]
    },
    {
     "cell_type": "markdown",
     "metadata": {},
     "source": [
      "This sub-section now implements the model calibration based on **selected options data**. In particular, we choose, for a given pricing date, the following options data:\n",
      "\n",
      "* for a single maturity only\n",
      "* call options only\n",
      "* for a certain moneyness of the options"
     ]
    },
    {
     "cell_type": "heading",
     "level": 3,
     "metadata": {},
     "source": [
      "Relevant Market Data"
     ]
    },
    {
     "cell_type": "markdown",
     "metadata": {},
     "source": [
      "The following following returns the **relevant market data per calibration date**:"
     ]
    },
    {
     "cell_type": "code",
     "collapsed": false,
     "input": [
      "tol = 0.2\n",
      "def get_option_selection(pricing_date, maturity, tol=tol):\n",
      "    ''' Function selects relevant options data. '''\n",
      "    forward = vstoxx_futures[(vstoxx_futures.DATE == pricing_date)\n",
      "                & (vstoxx_futures.MATURITY == maturity)]['PRICE'].values[0]\n",
      "    option_selection = \\\n",
      "        vstoxx_options[(vstoxx_options.DATE == pricing_date)\n",
      "                     & (vstoxx_options.MATURITY == maturity)\n",
      "                     & (vstoxx_options.TYPE == 'C')\n",
      "                     & (vstoxx_options.STRIKE > (1 - tol) * forward)\n",
      "                     & (vstoxx_options.STRIKE < (1 + tol) * forward)]\n",
      "    return option_selection, forward"
     ],
     "language": "python",
     "metadata": {},
     "outputs": [],
     "prompt_number": 16
    },
    {
     "cell_type": "heading",
     "level": 3,
     "metadata": {},
     "source": [
      "Options Modeling"
     ]
    },
    {
     "cell_type": "markdown",
     "metadata": {},
     "source": [
      "Given the options and their respective quotes to which to calibrate the model, the function `get_option_models` returns the **DX Analytics option models for all relevant options**. As **risk factor model** we use the `square_root_diffusion` class. "
     ]
    },
    {
     "cell_type": "code",
     "collapsed": false,
     "input": [
      "def get_option_models(pricing_date, maturity, option_selection):\n",
      "    ''' Models and returns traded options for given option_selection object. '''\n",
      "    me_vstoxx = market_environment('me_vstoxx', pricing_date)\n",
      "    initial_value = vstoxx_index['V2TX'][pricing_date]\n",
      "    me_vstoxx.add_constant('initial_value', initial_value)\n",
      "    me_vstoxx.add_constant('final_date', maturity)\n",
      "    me_vstoxx.add_constant('currency', 'EUR')\n",
      "    me_vstoxx.add_constant('frequency', 'W')\n",
      "    me_vstoxx.add_constant('paths', 10000)\n",
      "    csr = constant_short_rate('csr', 0.01)\n",
      "      # somewhat arbitrarily chosen here\n",
      "    me_vstoxx.add_curve('discount_curve', csr)\n",
      "    \n",
      "    # parameters to be calibrated later\n",
      "    me_vstoxx.add_constant('kappa', 1.0)\n",
      "    me_vstoxx.add_constant('theta', 1.2 * initial_value)\n",
      "    me_vstoxx.add_constant('volatility', 1.0)\n",
      "    \n",
      "    vstoxx_model = square_root_diffusion('vstoxx_model', me_vstoxx)\n",
      "      # square-root diffusion for volatility modeling\n",
      "      # mean-reverting, positive process\n",
      "    \n",
      "    # option parameters and payoff\n",
      "    me_vstoxx.add_constant('maturity', maturity)\n",
      "    payoff_func = 'np.maximum(maturity_value - strike, 0)'\n",
      "    \n",
      "    option_models = {}\n",
      "    for option in option_selection.index:\n",
      "        strike = option_selection['STRIKE'].ix[option]\n",
      "        me_vstoxx.add_constant('strike', strike)\n",
      "        option_models[option] = \\\n",
      "                            valuation_mcs_european_single(\n",
      "                                    'eur_call_%d' % strike,\n",
      "                                    vstoxx_model,\n",
      "                                    me_vstoxx,\n",
      "                                    payoff_func)\n",
      "    return vstoxx_model, option_models"
     ],
     "language": "python",
     "metadata": {},
     "outputs": [],
     "prompt_number": 17
    },
    {
     "cell_type": "markdown",
     "metadata": {},
     "source": [
      "The function `calculate_model_values` estimates and returns **model value estimates for all relevant options** given a parameter set for the `square_root_diffusion` risk factor model."
     ]
    },
    {
     "cell_type": "code",
     "collapsed": false,
     "input": [
      "def calculate_model_values(p0):\n",
      "    ''' Returns all relevant option values.\n",
      "    \n",
      "    Parameters\n",
      "    ===========\n",
      "    p0 : tuple/list\n",
      "        tuple of kappa, theta, volatility\n",
      "    \n",
      "    Returns\n",
      "    =======\n",
      "    model_values : dict\n",
      "        dictionary with model values\n",
      "    '''\n",
      "    kappa, theta, volatility = p0\n",
      "    vstoxx_model.update(kappa=kappa,\n",
      "                        theta=theta,\n",
      "                        volatility=volatility)\n",
      "    model_values = {}\n",
      "    for option in option_models:\n",
      "       model_values[option] = \\\n",
      "         option_models[option].present_value(fixed_seed=True)\n",
      "    return model_values"
     ],
     "language": "python",
     "metadata": {},
     "outputs": [],
     "prompt_number": 18
    },
    {
     "cell_type": "heading",
     "level": 2,
     "metadata": {},
     "source": [
      "Calibration Functions"
     ]
    },
    {
     "cell_type": "heading",
     "level": 3,
     "metadata": {},
     "source": [
      "Mean-Squared Error Calculation"
     ]
    },
    {
     "cell_type": "markdown",
     "metadata": {},
     "source": [
      "The calibration of the pricing model is based on the **minimization of the mean-squared error (MSE)** of the model values vs. the market quotes. The MSE calculation is implemented by the function `mean_squared_error` which also **penalizes** economically implausible parameter values."
     ]
    },
    {
     "cell_type": "code",
     "collapsed": false,
     "input": [
      "i = 0\n",
      "def mean_squared_error(p0):\n",
      "    ''' Returns the mean-squared error given\n",
      "    the model and market values.\n",
      "    \n",
      "    Parameters\n",
      "    ===========\n",
      "    p0 : tuple/list\n",
      "        tuple of kappa, theta, volatility\n",
      "    \n",
      "    Returns\n",
      "    =======\n",
      "    MSE : float\n",
      "        mean-squared error\n",
      "    '''\n",
      "    if p0[0] < 0 or p0[1] < 5. or p0[2] < 0 or p0[2] > 10.:\n",
      "        return 100\n",
      "    global i, option_selection, vstoxx_model, option_models, first, last\n",
      "    pd = dt.datetime.strftime(\n",
      "            option_selection['DATE'].iloc[0].to_pydatetime(),\n",
      "            '%d-%b-%Y')\n",
      "    mat = dt.datetime.strftime(\n",
      "            option_selection['MATURITY'].iloc[0].to_pydatetime(),\n",
      "            '%d-%b-%Y')\n",
      "    model_values = calculate_model_values(p0)\n",
      "    option_diffs = {}\n",
      "    for option in model_values:\n",
      "        option_diffs[option] = (model_values[option]\n",
      "                              - option_selection['PRICE'].loc[option])\n",
      "    MSE = np.sum(np.array(option_diffs.values()) ** 2) / len(option_diffs)\n",
      "    if i % 150 == 0:\n",
      "        # output every 0th and 100th iteration\n",
      "        if i == 0:\n",
      "            print '%12s %13s %4s  %6s  %6s  %6s --> %6s' % \\\n",
      "                 ('pricing_date', 'maturity_date', 'i', 'kappa',\n",
      "                  'theta', 'vola', 'MSE')\n",
      "        print '%12s %13s %4d  %6.3f  %6.3f  %6.3f  --> %6.3f' % \\\n",
      "                (pd, mat, i, p0[0], p0[1], p0[2], MSE)\n",
      "    i += 1\n",
      "    return MSE"
     ],
     "language": "python",
     "metadata": {},
     "outputs": [],
     "prompt_number": 19
    },
    {
     "cell_type": "heading",
     "level": 3,
     "metadata": {},
     "source": [
      "Implementing the Calibration Procedure"
     ]
    },
    {
     "cell_type": "markdown",
     "metadata": {},
     "source": [
      "The function `get_parameter_series` calibrates the model to the market data for **every date** contained in the `pricing_date_list` object for **all maturities** contained in the `maturity_list` object."
     ]
    },
    {
     "cell_type": "code",
     "collapsed": false,
     "input": [
      "import scipy.optimize as spo\n",
      "def get_parameter_series(pricing_date_list, maturity_list):\n",
      "    global i, option_selection, vstoxx_model, option_models, first, last\n",
      "    # collects optimization results for later use (eg. visualization)\n",
      "    parameters = pd.DataFrame()\n",
      "    for maturity in maturity_list:\n",
      "        first = True\n",
      "        for pricing_date in pricing_date_list:\n",
      "            option_selection, forward = \\\n",
      "                    get_option_selection(pricing_date, maturity)\n",
      "            vstoxx_model, option_models = \\\n",
      "                    get_option_models(pricing_date, maturity, option_selection)\n",
      "            if first is True:\n",
      "                # use brute force for the first run\n",
      "                i = 0\n",
      "                opt = spo.brute(mean_squared_error,\n",
      "                    ((0.5, 2.51, 1.),   # range for kappa\n",
      "                     (10., 20.1, 5.),   # range for theta\n",
      "                     (0.5, 10.51, 5.0)),  # range for volatility\n",
      "                     finish=None)\n",
      "            i = 0\n",
      "            opt = spo.fmin(mean_squared_error, opt,\n",
      "                 maxiter=200, maxfun=350, xtol=0.0000001, ftol=0.0000001)\n",
      "            parameters = parameters.append(\n",
      "                     pd.DataFrame(\n",
      "                     {'pricing_date' : pricing_date,\n",
      "                      'maturity' : maturity,\n",
      "                      'initial_value' : vstoxx_model.initial_value,\n",
      "                      'kappa' : opt[0],\n",
      "                      'theta' : opt[1],\n",
      "                      'sigma' : opt[2],\n",
      "                      'MSE' : mean_squared_error(opt)}, index=[0,]),\n",
      "                     ignore_index=True)\n",
      "            first = False\n",
      "            last = opt\n",
      "    return parameters"
     ],
     "language": "python",
     "metadata": {},
     "outputs": [],
     "prompt_number": 20
    },
    {
     "cell_type": "heading",
     "level": 3,
     "metadata": {},
     "source": [
      "The Calibration Itself"
     ]
    },
    {
     "cell_type": "markdown",
     "metadata": {},
     "source": [
      "This completes the set of necessary function to implement such a **larger calibration effort**. The following code defines the **dates** for which a calibration shall be conducted and for which **maturities** the calibration is required."
     ]
    },
    {
     "cell_type": "code",
     "collapsed": false,
     "input": [
      "%%time\n",
      "pricing_date_list = pd.date_range('2014/3/1', '2014/3/31', freq='B')\n",
      "maturity_list = [third_fridays[7]]\n",
      "parameters = get_parameter_series(pricing_date_list, maturity_list)"
     ],
     "language": "python",
     "metadata": {},
     "outputs": [
      {
       "output_type": "stream",
       "stream": "stdout",
       "text": [
        "pricing_date maturity_date    i   kappa   theta    vola -->    MSE\n",
        " 03-Mar-2014   18-Jul-2014    0   0.500  10.000   0.500  -->  4.507\n",
        "pricing_date maturity_date    i   kappa   theta    vola -->    MSE"
       ]
      },
      {
       "output_type": "stream",
       "stream": "stdout",
       "text": [
        "\n",
        " 03-Mar-2014   18-Jul-2014    0   2.500  15.000   5.500  -->  0.022\n",
        " 03-Mar-2014   18-Jul-2014  150   2.490  17.012   4.665  -->  0.005"
       ]
      },
      {
       "output_type": "stream",
       "stream": "stdout",
       "text": [
        "\n",
        "Optimization terminated successfully."
       ]
      },
      {
       "output_type": "stream",
       "stream": "stdout",
       "text": [
        "\n",
        "         Current function value: 0.004840\n",
        "         Iterations: 146\n",
        "         Function evaluations: 296\n",
        "pricing_date maturity_date    i   kappa   theta    vola -->    MSE"
       ]
      },
      {
       "output_type": "stream",
       "stream": "stdout",
       "text": [
        "\n",
        " 04-Mar-2014   18-Jul-2014    0   2.497  17.010   4.674  -->  0.048\n",
        " 04-Mar-2014   18-Jul-2014  150   2.474  17.633   4.738  -->  0.003"
       ]
      },
      {
       "output_type": "stream",
       "stream": "stdout",
       "text": [
        "\n",
        "Optimization terminated successfully."
       ]
      },
      {
       "output_type": "stream",
       "stream": "stdout",
       "text": [
        "\n",
        "         Current function value: 0.002750\n",
        "         Iterations: 70\n",
        "         Function evaluations: 164\n",
        "pricing_date maturity_date    i   kappa   theta    vola -->    MSE"
       ]
      },
      {
       "output_type": "stream",
       "stream": "stdout",
       "text": [
        "\n",
        " 05-Mar-2014   18-Jul-2014    0   2.474  17.633   4.738  -->  0.008\n",
        " 05-Mar-2014   18-Jul-2014  150   3.042  17.856   4.919  -->  0.003"
       ]
      },
      {
       "output_type": "stream",
       "stream": "stdout",
       "text": [
        "\n",
        " 05-Mar-2014   18-Jul-2014  300   4.407  17.995   5.667  -->  0.003"
       ]
      },
      {
       "output_type": "stream",
       "stream": "stdout",
       "text": [
        "\n",
        "Warning: Maximum number of function evaluations has been exceeded."
       ]
      },
      {
       "output_type": "stream",
       "stream": "stdout",
       "text": [
        "\n",
        "pricing_date maturity_date    i   kappa   theta    vola -->    MSE"
       ]
      },
      {
       "output_type": "stream",
       "stream": "stdout",
       "text": [
        "\n",
        " 06-Mar-2014   18-Jul-2014    0   4.407  17.995   5.668  -->  0.004\n",
        " 06-Mar-2014   18-Jul-2014  150   4.543  18.209   5.661  -->  0.003"
       ]
      },
      {
       "output_type": "stream",
       "stream": "stdout",
       "text": [
        "\n",
        "Optimization terminated successfully."
       ]
      },
      {
       "output_type": "stream",
       "stream": "stdout",
       "text": [
        "\n",
        "         Current function value: 0.003179\n",
        "         Iterations: 76\n",
        "         Function evaluations: 175\n",
        "pricing_date maturity_date    i   kappa   theta    vola -->    MSE"
       ]
      },
      {
       "output_type": "stream",
       "stream": "stdout",
       "text": [
        "\n",
        " 07-Mar-2014   18-Jul-2014    0   4.543  18.209   5.661  -->  0.030\n",
        " 07-Mar-2014   18-Jul-2014  150   4.958  18.332   5.553  -->  0.005"
       ]
      },
      {
       "output_type": "stream",
       "stream": "stdout",
       "text": [
        "\n",
        "Optimization terminated successfully."
       ]
      },
      {
       "output_type": "stream",
       "stream": "stdout",
       "text": [
        "\n",
        "         Current function value: 0.004775\n",
        "         Iterations: 84\n",
        "         Function evaluations: 183\n",
        "pricing_date maturity_date    i   kappa   theta    vola -->    MSE"
       ]
      },
      {
       "output_type": "stream",
       "stream": "stdout",
       "text": [
        "\n",
        " 10-Mar-2014   18-Jul-2014    0   4.958  18.332   5.553  -->  0.086\n",
        " 10-Mar-2014   18-Jul-2014  150   4.816  18.733   5.722  -->  0.003"
       ]
      },
      {
       "output_type": "stream",
       "stream": "stdout",
       "text": [
        "\n",
        "Optimization terminated successfully."
       ]
      },
      {
       "output_type": "stream",
       "stream": "stdout",
       "text": [
        "\n",
        "         Current function value: 0.002975\n",
        "         Iterations: 75\n",
        "         Function evaluations: 173\n",
        "pricing_date maturity_date    i   kappa   theta    vola -->    MSE"
       ]
      },
      {
       "output_type": "stream",
       "stream": "stdout",
       "text": [
        "\n",
        " 11-Mar-2014   18-Jul-2014    0   4.816  18.733   5.722  -->  0.006\n",
        " 11-Mar-2014   18-Jul-2014  150   4.281  19.060   5.162  -->  0.004"
       ]
      },
      {
       "output_type": "stream",
       "stream": "stdout",
       "text": [
        "\n",
        "Optimization terminated successfully."
       ]
      },
      {
       "output_type": "stream",
       "stream": "stdout",
       "text": [
        "\n",
        "         Current function value: 0.004069\n",
        "         Iterations: 100\n",
        "         Function evaluations: 210\n",
        "pricing_date maturity_date    i   kappa   theta    vola -->    MSE"
       ]
      },
      {
       "output_type": "stream",
       "stream": "stdout",
       "text": [
        "\n",
        " 12-Mar-2014   18-Jul-2014    0   4.281  19.060   5.162  -->  0.008\n",
        " 12-Mar-2014   18-Jul-2014  150   4.461  18.959   5.231  -->  0.005"
       ]
      },
      {
       "output_type": "stream",
       "stream": "stdout",
       "text": [
        "\n",
        "Optimization terminated successfully."
       ]
      },
      {
       "output_type": "stream",
       "stream": "stdout",
       "text": [
        "\n",
        "         Current function value: 0.004915\n",
        "         Iterations: 67\n",
        "         Function evaluations: 164\n",
        "pricing_date maturity_date    i   kappa   theta    vola -->    MSE"
       ]
      },
      {
       "output_type": "stream",
       "stream": "stdout",
       "text": [
        "\n",
        " 13-Mar-2014   18-Jul-2014    0   4.461  18.959   5.231  -->  0.007\n",
        " 13-Mar-2014   18-Jul-2014  150   4.515  18.920   5.333  -->  0.006"
       ]
      },
      {
       "output_type": "stream",
       "stream": "stdout",
       "text": [
        "\n",
        "Optimization terminated successfully."
       ]
      },
      {
       "output_type": "stream",
       "stream": "stdout",
       "text": [
        "\n",
        "         Current function value: 0.005971\n",
        "         Iterations: 84\n",
        "         Function evaluations: 189\n",
        "pricing_date maturity_date    i   kappa   theta    vola -->    MSE"
       ]
      },
      {
       "output_type": "stream",
       "stream": "stdout",
       "text": [
        "\n",
        " 14-Mar-2014   18-Jul-2014    0   4.515  18.920   5.333  -->  0.017\n",
        " 14-Mar-2014   18-Jul-2014  150   5.124  18.963   5.952  -->  0.003"
       ]
      },
      {
       "output_type": "stream",
       "stream": "stdout",
       "text": [
        "\n",
        "Optimization terminated successfully."
       ]
      },
      {
       "output_type": "stream",
       "stream": "stdout",
       "text": [
        "\n",
        "         Current function value: 0.002936\n",
        "         Iterations: 131\n",
        "         Function evaluations: 280\n",
        "pricing_date maturity_date    i   kappa   theta    vola -->    MSE"
       ]
      },
      {
       "output_type": "stream",
       "stream": "stdout",
       "text": [
        "\n",
        " 17-Mar-2014   18-Jul-2014    0   5.223  19.002   5.997  -->  0.025\n",
        " 17-Mar-2014   18-Jul-2014  150   5.330  18.581   6.097  -->  0.004"
       ]
      },
      {
       "output_type": "stream",
       "stream": "stdout",
       "text": [
        "\n",
        "Optimization terminated successfully."
       ]
      },
      {
       "output_type": "stream",
       "stream": "stdout",
       "text": [
        "\n",
        "         Current function value: 0.003809\n",
        "         Iterations: 81\n",
        "         Function evaluations: 185\n",
        "pricing_date maturity_date    i   kappa   theta    vola -->    MSE"
       ]
      },
      {
       "output_type": "stream",
       "stream": "stdout",
       "text": [
        "\n",
        " 18-Mar-2014   18-Jul-2014    0   5.330  18.581   6.097  -->  0.006\n",
        " 18-Mar-2014   18-Jul-2014  150   3.838  18.503   5.161  -->  0.003"
       ]
      },
      {
       "output_type": "stream",
       "stream": "stdout",
       "text": [
        "\n",
        "Optimization terminated successfully."
       ]
      },
      {
       "output_type": "stream",
       "stream": "stdout",
       "text": [
        "\n",
        "         Current function value: 0.002652\n",
        "         Iterations: 144\n",
        "         Function evaluations: 300\n",
        " 18-Mar-2014   18-Jul-2014  300   3.191  18.288   4.852  -->  0.003\n",
        "pricing_date maturity_date    i   kappa   theta    vola -->    MSE"
       ]
      },
      {
       "output_type": "stream",
       "stream": "stdout",
       "text": [
        "\n",
        " 19-Mar-2014   18-Jul-2014    0   3.191  18.288   4.852  -->  0.005\n",
        " 19-Mar-2014   18-Jul-2014  150   3.136  18.084   4.968  -->  0.003"
       ]
      },
      {
       "output_type": "stream",
       "stream": "stdout",
       "text": [
        "\n",
        "Optimization terminated successfully."
       ]
      },
      {
       "output_type": "stream",
       "stream": "stdout",
       "text": [
        "\n",
        "         Current function value: 0.003397\n",
        "         Iterations: 67\n",
        "         Function evaluations: 169\n",
        "pricing_date maturity_date    i   kappa   theta    vola -->    MSE"
       ]
      },
      {
       "output_type": "stream",
       "stream": "stdout",
       "text": [
        "\n",
        " 20-Mar-2014   18-Jul-2014    0   3.136  18.084   4.968  -->  0.010\n",
        " 20-Mar-2014   18-Jul-2014  150   2.936  18.441   4.849  -->  0.002"
       ]
      },
      {
       "output_type": "stream",
       "stream": "stdout",
       "text": [
        "\n",
        "Optimization terminated successfully."
       ]
      },
      {
       "output_type": "stream",
       "stream": "stdout",
       "text": [
        "\n",
        "         Current function value: 0.002263\n",
        "         Iterations: 128\n",
        "         Function evaluations: 267\n",
        "pricing_date maturity_date    i   kappa   theta    vola -->    MSE"
       ]
      },
      {
       "output_type": "stream",
       "stream": "stdout",
       "text": [
        "\n",
        " 21-Mar-2014   18-Jul-2014    0   2.928  18.450   4.842  -->  0.044\n",
        " 21-Mar-2014   18-Jul-2014  150   2.935  19.134   4.876  -->  0.004"
       ]
      },
      {
       "output_type": "stream",
       "stream": "stdout",
       "text": [
        "\n",
        "Optimization terminated successfully."
       ]
      },
      {
       "output_type": "stream",
       "stream": "stdout",
       "text": [
        "\n",
        "         Current function value: 0.003655\n",
        "         Iterations: 64\n",
        "         Function evaluations: 158\n",
        "pricing_date maturity_date    i   kappa   theta    vola -->    MSE"
       ]
      },
      {
       "output_type": "stream",
       "stream": "stdout",
       "text": [
        "\n",
        " 24-Mar-2014   18-Jul-2014    0   2.935  19.134   4.876  -->  0.021\n",
        " 24-Mar-2014   18-Jul-2014  150   5.169  18.555   6.217  -->  0.004"
       ]
      },
      {
       "output_type": "stream",
       "stream": "stdout",
       "text": [
        "\n",
        "Optimization terminated successfully."
       ]
      },
      {
       "output_type": "stream",
       "stream": "stdout",
       "text": [
        "\n",
        "         Current function value: 0.004381\n",
        "         Iterations: 138\n",
        "         Function evaluations: 297\n",
        "pricing_date maturity_date    i   kappa   theta    vola -->    MSE"
       ]
      },
      {
       "output_type": "stream",
       "stream": "stdout",
       "text": [
        "\n",
        " 25-Mar-2014   18-Jul-2014    0   5.653  18.592   6.449  -->  0.014\n",
        " 25-Mar-2014   18-Jul-2014  150   6.252  18.525   6.554  -->  0.003"
       ]
      },
      {
       "output_type": "stream",
       "stream": "stdout",
       "text": [
        "\n",
        "Optimization terminated successfully."
       ]
      },
      {
       "output_type": "stream",
       "stream": "stdout",
       "text": [
        "\n",
        "         Current function value: 0.002918\n",
        "         Iterations: 107\n",
        "         Function evaluations: 231\n",
        "pricing_date maturity_date    i   kappa   theta    vola -->    MSE"
       ]
      },
      {
       "output_type": "stream",
       "stream": "stdout",
       "text": [
        "\n",
        " 26-Mar-2014   18-Jul-2014    0   6.251  18.525   6.553  -->  0.014\n",
        " 26-Mar-2014   18-Jul-2014  150   5.189  18.301   6.063  -->  0.003"
       ]
      },
      {
       "output_type": "stream",
       "stream": "stdout",
       "text": [
        "\n",
        "Optimization terminated successfully."
       ]
      },
      {
       "output_type": "stream",
       "stream": "stdout",
       "text": [
        "\n",
        "         Current function value: 0.002839\n",
        "         Iterations: 107\n",
        "         Function evaluations: 243\n",
        "pricing_date maturity_date    i   kappa   theta    vola -->    MSE"
       ]
      },
      {
       "output_type": "stream",
       "stream": "stdout",
       "text": [
        "\n",
        " 27-Mar-2014   18-Jul-2014    0   5.189  18.301   6.063  -->  0.006\n",
        " 27-Mar-2014   18-Jul-2014  150   5.789  18.693   6.112  -->  0.003"
       ]
      },
      {
       "output_type": "stream",
       "stream": "stdout",
       "text": [
        "\n",
        "Optimization terminated successfully."
       ]
      },
      {
       "output_type": "stream",
       "stream": "stdout",
       "text": [
        "\n",
        "         Current function value: 0.002992\n",
        "         Iterations: 112\n",
        "         Function evaluations: 248\n",
        "pricing_date maturity_date    i   kappa   theta    vola -->    MSE"
       ]
      },
      {
       "output_type": "stream",
       "stream": "stdout",
       "text": [
        "\n",
        " 28-Mar-2014   18-Jul-2014    0   5.788  18.693   6.111  -->  0.003\n",
        " 28-Mar-2014   18-Jul-2014  150   5.684  18.828   5.974  -->  0.003"
       ]
      },
      {
       "output_type": "stream",
       "stream": "stdout",
       "text": [
        "\n",
        "Optimization terminated successfully."
       ]
      },
      {
       "output_type": "stream",
       "stream": "stdout",
       "text": [
        "\n",
        "         Current function value: 0.002811\n",
        "         Iterations: 97\n",
        "         Function evaluations: 216\n",
        "pricing_date maturity_date    i   kappa   theta    vola -->    MSE"
       ]
      },
      {
       "output_type": "stream",
       "stream": "stdout",
       "text": [
        "\n",
        " 31-Mar-2014   18-Jul-2014    0   5.683  18.828   5.974  -->  0.009\n",
        " 31-Mar-2014   18-Jul-2014  150  12.121  18.656   8.053  -->  0.004"
       ]
      },
      {
       "output_type": "stream",
       "stream": "stdout",
       "text": [
        "\n",
        " 31-Mar-2014   18-Jul-2014  300  15.247  18.578   8.978  -->  0.004"
       ]
      },
      {
       "output_type": "stream",
       "stream": "stdout",
       "text": [
        "\n",
        "Warning: Maximum number of function evaluations has been exceeded."
       ]
      },
      {
       "output_type": "stream",
       "stream": "stdout",
       "text": [
        "\n",
        "CPU times: user 1min 28s, sys: 8.1 s, total: 1min 36s\n",
        "Wall time: 1min 36s\n"
       ]
      }
     ],
     "prompt_number": 21
    },
    {
     "cell_type": "heading",
     "level": 2,
     "metadata": {},
     "source": [
      "Calibration Results"
     ]
    },
    {
     "cell_type": "markdown",
     "metadata": {},
     "source": [
      "The results are now stored in the pandas `DataFrame` called `parameters`. We set a new index and inspect the last results. Throughout the MSE is pretty low indicated a good fit of the model to the market quotes."
     ]
    },
    {
     "cell_type": "code",
     "collapsed": false,
     "input": [
      "paramet = parameters.set_index('pricing_date')\n",
      "paramet.tail()"
     ],
     "language": "python",
     "metadata": {},
     "outputs": [
      {
       "html": [
        "<div style=\"max-height:1000px;max-width:1500px;overflow:auto;\">\n",
        "<table border=\"1\" class=\"dataframe\">\n",
        "  <thead>\n",
        "    <tr style=\"text-align: right;\">\n",
        "      <th></th>\n",
        "      <th>MSE</th>\n",
        "      <th>initial_value</th>\n",
        "      <th>kappa</th>\n",
        "      <th>maturity</th>\n",
        "      <th>sigma</th>\n",
        "      <th>theta</th>\n",
        "    </tr>\n",
        "    <tr>\n",
        "      <th>pricing_date</th>\n",
        "      <th></th>\n",
        "      <th></th>\n",
        "      <th></th>\n",
        "      <th></th>\n",
        "      <th></th>\n",
        "      <th></th>\n",
        "    </tr>\n",
        "  </thead>\n",
        "  <tbody>\n",
        "    <tr>\n",
        "      <th>2014-03-25</th>\n",
        "      <td> 0.002918</td>\n",
        "      <td> 18.2637</td>\n",
        "      <td>  6.250875</td>\n",
        "      <td>2014-07-18</td>\n",
        "      <td> 6.553352</td>\n",
        "      <td> 18.525022</td>\n",
        "    </tr>\n",
        "    <tr>\n",
        "      <th>2014-03-26</th>\n",
        "      <td> 0.002839</td>\n",
        "      <td> 17.5869</td>\n",
        "      <td>  5.189260</td>\n",
        "      <td>2014-07-18</td>\n",
        "      <td> 6.062754</td>\n",
        "      <td> 18.301087</td>\n",
        "    </tr>\n",
        "    <tr>\n",
        "      <th>2014-03-27</th>\n",
        "      <td> 0.002992</td>\n",
        "      <td> 17.6397</td>\n",
        "      <td>  5.787693</td>\n",
        "      <td>2014-07-18</td>\n",
        "      <td> 6.111093</td>\n",
        "      <td> 18.693053</td>\n",
        "    </tr>\n",
        "    <tr>\n",
        "      <th>2014-03-28</th>\n",
        "      <td> 0.002811</td>\n",
        "      <td> 17.0324</td>\n",
        "      <td>  5.683422</td>\n",
        "      <td>2014-07-18</td>\n",
        "      <td> 5.974289</td>\n",
        "      <td> 18.827773</td>\n",
        "    </tr>\n",
        "    <tr>\n",
        "      <th>2014-03-31</th>\n",
        "      <td> 0.003657</td>\n",
        "      <td> 17.6639</td>\n",
        "      <td> 15.246458</td>\n",
        "      <td>2014-07-18</td>\n",
        "      <td> 8.978325</td>\n",
        "      <td> 18.578233</td>\n",
        "    </tr>\n",
        "  </tbody>\n",
        "</table>\n",
        "</div>"
       ],
       "metadata": {},
       "output_type": "pyout",
       "prompt_number": 22,
       "text": [
        "                   MSE  initial_value      kappa   maturity     sigma  \\\n",
        "pricing_date                                                            \n",
        "2014-03-25    0.002918        18.2637   6.250875 2014-07-18  6.553352   \n",
        "2014-03-26    0.002839        17.5869   5.189260 2014-07-18  6.062754   \n",
        "2014-03-27    0.002992        17.6397   5.787693 2014-07-18  6.111093   \n",
        "2014-03-28    0.002811        17.0324   5.683422 2014-07-18  5.974289   \n",
        "2014-03-31    0.003657        17.6639  15.246458 2014-07-18  8.978325   \n",
        "\n",
        "                  theta  \n",
        "pricing_date             \n",
        "2014-03-25    18.525022  \n",
        "2014-03-26    18.301087  \n",
        "2014-03-27    18.693053  \n",
        "2014-03-28    18.827773  \n",
        "2014-03-31    18.578233  "
       ]
      }
     ],
     "prompt_number": 22
    },
    {
     "cell_type": "markdown",
     "metadata": {},
     "source": [
      "This is also illustrated by the visualization of the time series data for the **calibrated/optimal parameter values**. The **MSE** is below 0.01 throughout."
     ]
    },
    {
     "cell_type": "code",
     "collapsed": false,
     "input": [
      "%matplotlib inline\n",
      "paramet[['kappa', 'theta', 'sigma', 'MSE']].plot(subplots=True, color='b', figsize=(10, 12))\n",
      "plt.tight_layout()"
     ],
     "language": "python",
     "metadata": {},
     "outputs": [
      {
       "metadata": {},
       "output_type": "display_data",
       "png": "[encoded data removed]",
       "text": [
        "<matplotlib.figure.Figure at 0x7f0768959d90>"
       ]
      }
     ],
     "prompt_number": 23
    },
    {
     "cell_type": "markdown",
     "metadata": {},
     "source": [
      "The following generates a plot of the calibration results for the **last calibration day**. The absolute price differences are below **0.10 EUR** for all options."
     ]
    },
    {
     "cell_type": "code",
     "collapsed": false,
     "input": [
      "index = paramet.index[-1]\n",
      "opt = np.array(paramet[['kappa', 'theta', 'sigma']].loc[index])\n",
      "option_selection = get_option_selection(index, maturity_list[0], tol=tol)[0]\n",
      "model_values = np.sort(np.array(calculate_model_values(opt).values()))[::-1]\n",
      "import matplotlib.pyplot as plt\n",
      "%matplotlib inline\n",
      "fix, (ax1, ax2) = plt.subplots(2, sharex=True, figsize=(8, 8))\n",
      "strikes = option_selection['STRIKE'].values\n",
      "ax1.plot(strikes, option_selection['PRICE'], label='market quotes')\n",
      "ax1.plot(strikes, model_values, 'ro', label='model values')\n",
      "ax1.set_ylabel('option values')\n",
      "ax1.grid(True)\n",
      "ax1.legend(loc=0)\n",
      "wi = 0.25\n",
      "ax2.bar(strikes - wi / 2., model_values - option_selection['PRICE'],\n",
      "        label='market quotes', width=wi)\n",
      "ax2.grid(True)\n",
      "ax2.set_ylabel('differences')\n",
      "ax2.set_xlabel('strikes')"
     ],
     "language": "python",
     "metadata": {},
     "outputs": [
      {
       "metadata": {},
       "output_type": "pyout",
       "prompt_number": 24,
       "text": [
        "<matplotlib.text.Text at 0x7f07684cd1d0>"
       ]
      },
      {
       "metadata": {},
       "output_type": "display_data",
       "png": "[encoded data removed]",
       "text": [
        "<matplotlib.figure.Figure at 0x7f0772e0e3d0>"
       ]
      }
     ],
     "prompt_number": 24
    },
    {
     "cell_type": "markdown",
     "metadata": {},
     "source": [
      "**Copyright, License & Disclaimer**\n",
      "\n",
      "&copy; Dr. Yves J. Hilpisch | The Python Quants GmbH\n",
      "\n",
      "DX Analytics (the \"dx library\") is licensed under the GNU Affero General Public License\n",
      "version 3 or later (see <a href=\"http://www.gnu.org/licenses/\" target=\"_blank\">http://www.gnu.org/licenses/</a>).\n",
      "\n",
      "DX Analytics comes with no representations\n",
      "or warranties, to the extent permitted by applicable law.\n",
      "\n",
      "\n",
      "<img src=\"http://hilpisch.com/tpq_logo.png\" alt=\"The Python Quants\" width=\"35%\" align=\"right\" border=\"0\"><br>\n",
      "\n",
      "<a href=\"http://www.pythonquants.com\" target=\"_blank\">http://www.pythonquants.com</a> | <a href=\"mailto:analytics@pythonquants.com\">analytics@pythonquants.com</a> | <a href=\"http://twitter.com/dyjh\" target=\"_blank\">http://twitter.com/dyjh</a>\n",
      "\n",
      "**Python Quant Platform** |\n",
      "<a href=\"http://quant-platform.com\">http://quant-platform.com</a>\n",
      "\n",
      "**Derivatives Analytics with Python (Wiley Finance)** |\n",
      "<a href=\"http://derivatives-analytics-with-python.com\" target=\"_blank\">http://derivatives-analytics-with-python.com</a>\n",
      "\n",
      "**Python for Finance (O'Reilly)** |\n",
      "<a href=\"http://shop.oreilly.com/product/0636920032441.do\" target=\"_blank\">http://shop.oreilly.com/product/0636920032441.do</a>"
     ]
    }
   ],
   "metadata": {}
  }
 ]
}