{
 "cells": [
  {
   "cell_type": "markdown",
   "metadata": {},
   "source": [
    "<img src=\"http://hilpisch.com/tpq_logo.png\" alt=\"The Python Quants\" width=\"45%\" align=\"right\" border=\"4\">"
   ]
  },
  {
   "cell_type": "markdown",
   "metadata": {},
   "source": [
    "# Mean-Variance Portfolio Class"
   ]
  },
  {
   "cell_type": "markdown",
   "metadata": {},
   "source": [
    "Without doubt, the Markowitz (1952) **mean-variance portfolio theory** is a cornerstone of modern financial theory. This section illustrates the use of the `mean_variance_portfolio` class to implement this approach."
   ]
  },
  {
   "cell_type": "code",
   "execution_count": 1,
   "metadata": {
    "collapsed": false
   },
   "outputs": [],
   "source": [
    "from dx import *\n",
    "import seaborn as sns; sns.set()"
   ]
  },
  {
   "cell_type": "markdown",
   "metadata": {},
   "source": [
    "## Market Environment and Portfolio Object"
   ]
  },
  {
   "cell_type": "markdown",
   "metadata": {},
   "source": [
    "We start by instantiating a `market environment` object which in particular contains a list of **ticker symbols** in which we are interested in."
   ]
  },
  {
   "cell_type": "code",
   "execution_count": 2,
   "metadata": {
    "collapsed": false
   },
   "outputs": [],
   "source": [
    "ma = market_environment('ma', dt.date(2010, 1, 1))\n",
    "ma.add_list('symbols', ['AAPL', 'GOOG', 'MSFT', 'FB'])\n",
    "ma.add_constant('source', 'google')\n",
    "ma.add_constant('final date', dt.date(2014, 3, 1))"
   ]
  },
  {
   "cell_type": "markdown",
   "metadata": {},
   "source": [
    "Using pandas under the hood, the class **retrieves historial stock price data** from either Yahoo! Finance of Google."
   ]
  },
  {
   "cell_type": "code",
   "execution_count": 3,
   "metadata": {
    "collapsed": false
   },
   "outputs": [
    {
     "name": "stdout",
     "output_type": "stream",
     "text": [
      "CPU times: user 236 ms, sys: 3 ms, total: 239 ms\n",
      "Wall time: 1.2 s\n"
     ]
    }
   ],
   "source": [
    "%%time\n",
    "port = mean_variance_portfolio('am_tech_stocks', ma)\n",
    "  # instantiates the portfolio class\n",
    "  # and retrieves all the time series data needed"
   ]
  },
  {
   "cell_type": "markdown",
   "metadata": {},
   "source": [
    "## Basic Statistics"
   ]
  },
  {
   "cell_type": "markdown",
   "metadata": {},
   "source": [
    "Since no **portfolio weights** have been provided, the class defaults to equal weights."
   ]
  },
  {
   "cell_type": "code",
   "execution_count": 4,
   "metadata": {
    "collapsed": false
   },
   "outputs": [
    {
     "data": {
      "text/plain": [
       "{'AAPL': 0.25, 'FB': 0.25, 'GOOG': 0.25, 'MSFT': 0.25}"
      ]
     },
     "execution_count": 4,
     "metadata": {},
     "output_type": "execute_result"
    }
   ],
   "source": [
    "port.get_weights()\n",
    "  # defaults to equal weights"
   ]
  },
  {
   "cell_type": "markdown",
   "metadata": {},
   "source": [
    "Given these weights you can calculate the **portfolio return** via the method `get_portfolio_return`."
   ]
  },
  {
   "cell_type": "code",
   "execution_count": 5,
   "metadata": {
    "collapsed": false
   },
   "outputs": [
    {
     "data": {
      "text/plain": [
       "0.19012032495905895"
      ]
     },
     "execution_count": 5,
     "metadata": {},
     "output_type": "execute_result"
    }
   ],
   "source": [
    "port.get_portfolio_return()\n",
    "  # expected (= historical mean) return"
   ]
  },
  {
   "cell_type": "markdown",
   "metadata": {},
   "source": [
    "Analogously, you can call `get_portfolio_variance` to get the historical **portfolio variance**."
   ]
  },
  {
   "cell_type": "code",
   "execution_count": 6,
   "metadata": {
    "collapsed": false
   },
   "outputs": [
    {
     "data": {
      "text/plain": [
       "0.043145879775030503"
      ]
     },
     "execution_count": 6,
     "metadata": {},
     "output_type": "execute_result"
    }
   ],
   "source": [
    "port.get_portfolio_variance()\n",
    "  # expected (= historical) variance"
   ]
  },
  {
   "cell_type": "markdown",
   "metadata": {},
   "source": [
    "The class also has a neatly printable `string` representation."
   ]
  },
  {
   "cell_type": "code",
   "execution_count": 7,
   "metadata": {
    "collapsed": false
   },
   "outputs": [
    {
     "name": "stdout",
     "output_type": "stream",
     "text": [
      "Portfolio am_tech_stocks \n",
      "--------------------------\n",
      "return            0.190\n",
      "volatility        0.208\n",
      "Sharpe ratio      0.915\n",
      "\n",
      "Positions\n",
      "symbol | weight | ret. con. \n",
      "--------------------------- \n",
      "AAPL   |  0.250 |     0.054 \n",
      "GOOG   |  0.250 |     0.040 \n",
      "MSFT   |  0.250 |     0.013 \n",
      "FB     |  0.250 |     0.083 \n",
      "\n"
     ]
    }
   ],
   "source": [
    "print port\n",
    "  # ret. con. is \"return contribution\"\n",
    "  # given the mean return and the weight\n",
    "  # of the security"
   ]
  },
  {
   "cell_type": "markdown",
   "metadata": {},
   "source": [
    "## Setting Weights"
   ]
  },
  {
   "cell_type": "markdown",
   "metadata": {},
   "source": [
    "Via the method `set_weights` the weights of the single portfolio components can be adjusted."
   ]
  },
  {
   "cell_type": "code",
   "execution_count": 8,
   "metadata": {
    "collapsed": false
   },
   "outputs": [],
   "source": [
    "port.set_weights([0.6, 0.2, 0.1, 0.1])"
   ]
  },
  {
   "cell_type": "code",
   "execution_count": 9,
   "metadata": {
    "collapsed": false
   },
   "outputs": [
    {
     "name": "stdout",
     "output_type": "stream",
     "text": [
      "Portfolio am_tech_stocks \n",
      "--------------------------\n",
      "return            0.201\n",
      "volatility        0.216\n",
      "Sharpe ratio      0.927\n",
      "\n",
      "Positions\n",
      "symbol | weight | ret. con. \n",
      "--------------------------- \n",
      "AAPL   |  0.600 |     0.130 \n",
      "GOOG   |  0.200 |     0.032 \n",
      "MSFT   |  0.100 |     0.005 \n",
      "FB     |  0.100 |     0.033 \n",
      "\n"
     ]
    }
   ],
   "source": [
    "print port"
   ]
  },
  {
   "cell_type": "markdown",
   "metadata": {},
   "source": [
    "You cal also easily **check results for different weights** with changing the attribute values of an object."
   ]
  },
  {
   "cell_type": "code",
   "execution_count": 10,
   "metadata": {
    "collapsed": false
   },
   "outputs": [
    {
     "data": {
      "text/plain": [
       "array([ 0.20064395,  0.21644491,  0.92699775])"
      ]
     },
     "execution_count": 10,
     "metadata": {},
     "output_type": "execute_result"
    }
   ],
   "source": [
    "port.test_weights([0.6, 0.2, 0.1, 0.1])\n",
    "    # returns av. return + vol + Sharp ratio\n",
    "    # without setting new weights"
   ]
  },
  {
   "cell_type": "markdown",
   "metadata": {},
   "source": [
    "Let us implement a **Monte Carlo simulation** over potential portfolio weights."
   ]
  },
  {
   "cell_type": "code",
   "execution_count": 11,
   "metadata": {
    "collapsed": false
   },
   "outputs": [],
   "source": [
    "# Monte Carlo simulation of portfolio compositions\n",
    "rets = []\n",
    "vols = []\n",
    "\n",
    "for w in range(500):\n",
    "    weights = np.random.random(4)\n",
    "    weights /= sum(weights)\n",
    "    r, v, sr = port.test_weights(weights)\n",
    "    rets.append(r)\n",
    "    vols.append(v)\n",
    "\n",
    "rets = np.array(rets)\n",
    "vols = np.array(vols)"
   ]
  },
  {
   "cell_type": "markdown",
   "metadata": {},
   "source": [
    "And the simulation results **visualized**."
   ]
  },
  {
   "cell_type": "code",
   "execution_count": 12,
   "metadata": {
    "collapsed": false
   },
   "outputs": [
    {
     "data": {
      "text/plain": [
       "<matplotlib.colorbar.Colorbar instance at 0x7f0a033748c0>"
      ]
     },
     "execution_count": 12,
     "metadata": {},
     "output_type": "execute_result"
    },
    {
     "data": {
      "image/png": "[encoded data removed]",
      "text/plain": [
       "<matplotlib.figure.Figure at 0x7f0a034fbdd0>"
      ]
     },
     "metadata": {},
     "output_type": "display_data"
    }
   ],
   "source": [
    "import matplotlib.pyplot as plt\n",
    "%matplotlib inline\n",
    "plt.figure(figsize=(10, 6))\n",
    "plt.scatter(vols, rets, c=rets / vols, marker='o')\n",
    "plt.xlabel('expected volatility')\n",
    "plt.ylabel('expected return')\n",
    "plt.colorbar(label='Sharpe ratio')"
   ]
  },
  {
   "cell_type": "markdown",
   "metadata": {},
   "source": [
    "## Optimizing Portfolio Composition"
   ]
  },
  {
   "cell_type": "markdown",
   "metadata": {},
   "source": [
    "One of the major application areas of the mean-variance portfolio theory and therewith of this DX Analytics class it the **optimization of the portfolio composition**. Different target functions can be used to this end."
   ]
  },
  {
   "cell_type": "markdown",
   "metadata": {},
   "source": [
    "### Return"
   ]
  },
  {
   "cell_type": "markdown",
   "metadata": {},
   "source": [
    "The first target function might be the **portfolio return**."
   ]
  },
  {
   "cell_type": "code",
   "execution_count": 13,
   "metadata": {
    "collapsed": false
   },
   "outputs": [],
   "source": [
    "port.optimize('Return')\n",
    "  # maximizes expected return of portfolio\n",
    "  # no volatility constraint"
   ]
  },
  {
   "cell_type": "code",
   "execution_count": 14,
   "metadata": {
    "collapsed": false
   },
   "outputs": [
    {
     "name": "stdout",
     "output_type": "stream",
     "text": [
      "Portfolio am_tech_stocks \n",
      "--------------------------\n",
      "return            0.332\n",
      "volatility        0.523\n",
      "Sharpe ratio      0.635\n",
      "\n",
      "Positions\n",
      "symbol | weight | ret. con. \n",
      "--------------------------- \n",
      "AAPL   |  0.000 |     0.000 \n",
      "GOOG   | -0.000 |     0.000 \n",
      "MSFT   |  0.000 |     0.000 \n",
      "FB     |  1.000 |     0.332 \n",
      "\n"
     ]
    }
   ],
   "source": [
    "print port"
   ]
  },
  {
   "cell_type": "markdown",
   "metadata": {},
   "source": [
    "Instead of maximizing the portfolio return without any constraints, you can also set a (sensible/possible) **maximum target volatility** level as a constraint. Both, in an **exact sense** (\"equality constraint\") ..."
   ]
  },
  {
   "cell_type": "code",
   "execution_count": 15,
   "metadata": {
    "collapsed": false
   },
   "outputs": [],
   "source": [
    "port.optimize('Return', constraint=0.225, constraint_type='Exact')\n",
    "  # interpretes volatility constraint as equality"
   ]
  },
  {
   "cell_type": "code",
   "execution_count": 16,
   "metadata": {
    "collapsed": false
   },
   "outputs": [
    {
     "name": "stdout",
     "output_type": "stream",
     "text": [
      "Portfolio am_tech_stocks \n",
      "--------------------------\n",
      "return            0.226\n",
      "volatility        0.225\n",
      "Sharpe ratio      1.005\n",
      "\n",
      "Positions\n",
      "symbol | weight | ret. con. \n",
      "--------------------------- \n",
      "AAPL   |  0.481 |     0.104 \n",
      "GOOG   |  0.294 |     0.047 \n",
      "MSFT   |  0.000 |     0.000 \n",
      "FB     |  0.225 |     0.075 \n",
      "\n"
     ]
    }
   ],
   "source": [
    "print port"
   ]
  },
  {
   "cell_type": "markdown",
   "metadata": {},
   "source": [
    "... or just a an **upper bound** (\"inequality constraint\")."
   ]
  },
  {
   "cell_type": "code",
   "execution_count": 17,
   "metadata": {
    "collapsed": false
   },
   "outputs": [],
   "source": [
    "port.optimize('Return', constraint=0.4, constraint_type='Bound')\n",
    "  # interpretes volatility constraint as inequality (upper bound)"
   ]
  },
  {
   "cell_type": "code",
   "execution_count": 18,
   "metadata": {
    "collapsed": false
   },
   "outputs": [
    {
     "name": "stdout",
     "output_type": "stream",
     "text": [
      "Portfolio am_tech_stocks \n",
      "--------------------------\n",
      "return            0.302\n",
      "volatility        0.400\n",
      "Sharpe ratio      0.756\n",
      "\n",
      "Positions\n",
      "symbol | weight | ret. con. \n",
      "--------------------------- \n",
      "AAPL   |  0.258 |     0.056 \n",
      "GOOG   |  0.000 |     0.000 \n",
      "MSFT   | -0.000 |     0.000 \n",
      "FB     |  0.742 |     0.246 \n",
      "\n"
     ]
    }
   ],
   "source": [
    "print port"
   ]
  },
  {
   "cell_type": "markdown",
   "metadata": {},
   "source": [
    "### Risk"
   ]
  },
  {
   "cell_type": "markdown",
   "metadata": {},
   "source": [
    "The class also allows you to minimize **portfolio risk**."
   ]
  },
  {
   "cell_type": "code",
   "execution_count": 19,
   "metadata": {
    "collapsed": false
   },
   "outputs": [],
   "source": [
    "port.optimize('Vol')\n",
    "  # minimizes expected volatility of portfolio\n",
    "  # no return constraint"
   ]
  },
  {
   "cell_type": "code",
   "execution_count": 20,
   "metadata": {
    "collapsed": false
   },
   "outputs": [
    {
     "name": "stdout",
     "output_type": "stream",
     "text": [
      "Portfolio am_tech_stocks \n",
      "--------------------------\n",
      "return            0.140\n",
      "volatility        0.187\n",
      "Sharpe ratio      0.747\n",
      "\n",
      "Positions\n",
      "symbol | weight | ret. con. \n",
      "--------------------------- \n",
      "AAPL   |  0.211 |     0.046 \n",
      "GOOG   |  0.248 |     0.040 \n",
      "MSFT   |  0.448 |     0.023 \n",
      "FB     |  0.093 |     0.031 \n",
      "\n"
     ]
    }
   ],
   "source": [
    "print port"
   ]
  },
  {
   "cell_type": "markdown",
   "metadata": {},
   "source": [
    "And, as before, to set **constraints** (in this case) for the target return level."
   ]
  },
  {
   "cell_type": "code",
   "execution_count": 21,
   "metadata": {
    "collapsed": false
   },
   "outputs": [],
   "source": [
    "port.optimize('Vol', constraint=0.175, constraint_type='Exact')\n",
    "  # interpretes return constraint as equality"
   ]
  },
  {
   "cell_type": "code",
   "execution_count": 22,
   "metadata": {
    "collapsed": false
   },
   "outputs": [
    {
     "name": "stdout",
     "output_type": "stream",
     "text": [
      "Portfolio am_tech_stocks \n",
      "--------------------------\n",
      "return            0.175\n",
      "volatility        0.194\n",
      "Sharpe ratio      0.904\n",
      "\n",
      "Positions\n",
      "symbol | weight | ret. con. \n",
      "--------------------------- \n",
      "AAPL   |  0.318 |     0.069 \n",
      "GOOG   |  0.282 |     0.045 \n",
      "MSFT   |  0.256 |     0.013 \n",
      "FB     |  0.143 |     0.048 \n",
      "\n"
     ]
    }
   ],
   "source": [
    "print port"
   ]
  },
  {
   "cell_type": "code",
   "execution_count": 23,
   "metadata": {
    "collapsed": false
   },
   "outputs": [],
   "source": [
    "port.optimize('Vol', constraint=0.20, constraint_type='Bound')\n",
    "  # interpretes return constraint as inequality (upper bound)"
   ]
  },
  {
   "cell_type": "code",
   "execution_count": 24,
   "metadata": {
    "collapsed": false
   },
   "outputs": [
    {
     "name": "stdout",
     "output_type": "stream",
     "text": [
      "Portfolio am_tech_stocks \n",
      "--------------------------\n",
      "return            0.200\n",
      "volatility        0.206\n",
      "Sharpe ratio      0.970\n",
      "\n",
      "Positions\n",
      "symbol | weight | ret. con. \n",
      "--------------------------- \n",
      "AAPL   |  0.397 |     0.086 \n",
      "GOOG   |  0.301 |     0.048 \n",
      "MSFT   |  0.123 |     0.006 \n",
      "FB     |  0.179 |     0.059 \n",
      "\n"
     ]
    }
   ],
   "source": [
    "print port"
   ]
  },
  {
   "cell_type": "markdown",
   "metadata": {},
   "source": [
    "### Sharpe Ratio"
   ]
  },
  {
   "cell_type": "markdown",
   "metadata": {},
   "source": [
    "Often, the target of the portfolio optimization efforts is the so called **Sharpe ratio**. The `mean_variance_portfolio` class of DX Analytics assumes a **risk-free rate of zero** in this context."
   ]
  },
  {
   "cell_type": "code",
   "execution_count": 25,
   "metadata": {
    "collapsed": false
   },
   "outputs": [],
   "source": [
    "port.optimize('Sharpe')\n",
    "  # maximize Sharpe ratio"
   ]
  },
  {
   "cell_type": "code",
   "execution_count": 26,
   "metadata": {
    "collapsed": false
   },
   "outputs": [
    {
     "name": "stdout",
     "output_type": "stream",
     "text": [
      "Portfolio am_tech_stocks \n",
      "--------------------------\n",
      "return            0.229\n",
      "volatility        0.228\n",
      "Sharpe ratio      1.006\n",
      "\n",
      "Positions\n",
      "symbol | weight | ret. con. \n",
      "--------------------------- \n",
      "AAPL   |  0.493 |     0.107 \n",
      "GOOG   |  0.268 |     0.043 \n",
      "MSFT   |  0.000 |     0.000 \n",
      "FB     |  0.238 |     0.079 \n",
      "\n"
     ]
    }
   ],
   "source": [
    "print port"
   ]
  },
  {
   "cell_type": "markdown",
   "metadata": {},
   "source": [
    "## Efficient Frontier"
   ]
  },
  {
   "cell_type": "markdown",
   "metadata": {},
   "source": [
    "Another application area is to derive the **efficient frontier** in the mean-variance space. These are all these portfolios for which there is **no portfolio with both lower risk and higher return**. The method `get_efficient_frontier` yields the desired results."
   ]
  },
  {
   "cell_type": "code",
   "execution_count": 27,
   "metadata": {
    "collapsed": false
   },
   "outputs": [
    {
     "name": "stdout",
     "output_type": "stream",
     "text": [
      "CPU times: user 2.12 s, sys: 1 ms, total: 2.12 s\n",
      "Wall time: 2.12 s\n"
     ]
    }
   ],
   "source": [
    "%%time\n",
    "evols, erets = port.get_efficient_frontier(100)\n",
    "  # 100 points of the effient frontier"
   ]
  },
  {
   "cell_type": "markdown",
   "metadata": {},
   "source": [
    "The plot with the **random and efficient portfolios**."
   ]
  },
  {
   "cell_type": "code",
   "execution_count": 28,
   "metadata": {
    "collapsed": false
   },
   "outputs": [
    {
     "data": {
      "text/plain": [
       "<matplotlib.colorbar.Colorbar instance at 0x7f0a031f1f38>"
      ]
     },
     "execution_count": 28,
     "metadata": {},
     "output_type": "execute_result"
    },
    {
     "data": {
      "image/png": "[encoded data removed]",
      "text/plain": [
       "<matplotlib.figure.Figure at 0x7f0a301fc0d0>"
      ]
     },
     "metadata": {},
     "output_type": "display_data"
    }
   ],
   "source": [
    "plt.figure(figsize=(10, 6))\n",
    "plt.scatter(vols, rets, c=rets / vols, marker='o')\n",
    "plt.scatter(evols, erets, c=erets / evols, marker='x')\n",
    "plt.xlabel('expected volatility')\n",
    "plt.ylabel('expected return')\n",
    "plt.colorbar(label='Sharpe ratio')"
   ]
  },
  {
   "cell_type": "markdown",
   "metadata": {},
   "source": [
    "## Capital Market Line"
   ]
  },
  {
   "cell_type": "markdown",
   "metadata": {},
   "source": [
    "The **capital market line** is another key element of the mean-variance portfolio approach representing all those risk-return combinations (in mean-variance space) that are possible to form from a **risk-less money market account** and **the market portfolio** (or another appropriate substitute efficient portfolio)."
   ]
  },
  {
   "cell_type": "code",
   "execution_count": 29,
   "metadata": {
    "collapsed": false
   },
   "outputs": [
    {
     "name": "stdout",
     "output_type": "stream",
     "text": [
      "CPU times: user 2.15 s, sys: 1 ms, total: 2.15 s\n",
      "Wall time: 2.15 s\n"
     ]
    }
   ],
   "source": [
    "%%time\n",
    "cml, optv, optr = port.get_capital_market_line(riskless_asset=0.05)\n",
    "  # capital market line for effiecient frontier and risk-less short rate"
   ]
  },
  {
   "cell_type": "code",
   "execution_count": 30,
   "metadata": {
    "collapsed": false
   },
   "outputs": [
    {
     "data": {
      "text/plain": [
       "<function dx.dx_portfolio.<lambda>>"
      ]
     },
     "execution_count": 30,
     "metadata": {},
     "output_type": "execute_result"
    }
   ],
   "source": [
    "cml  # lambda function for capital market line"
   ]
  },
  {
   "cell_type": "markdown",
   "metadata": {},
   "source": [
    "The following plot illustrates that the capital market line has an ordinate value equal to the **risk-free rate** (the safe return of the money market account) and is tangent to the **efficient frontier**."
   ]
  },
  {
   "cell_type": "code",
   "execution_count": 31,
   "metadata": {
    "collapsed": false
   },
   "outputs": [
    {
     "data": {
      "text/plain": [
       "<matplotlib.text.Text at 0x7f0a03019890>"
      ]
     },
     "execution_count": 31,
     "metadata": {},
     "output_type": "execute_result"
    },
    {
     "data": {
      "image/png": "[encoded data removed]",
      "text/plain": [
       "<matplotlib.figure.Figure at 0x7f0a03068050>"
      ]
     },
     "metadata": {},
     "output_type": "display_data"
    }
   ],
   "source": [
    "plt.figure(figsize=(10, 6))\n",
    "plt.plot(evols, erets, lw=2.0, label='efficient frontier')\n",
    "plt.plot((0, 0.4), (cml(0), cml(0.4)), lw=2.0, label='capital market line')\n",
    "plt.plot(optv, optr, 'r*', markersize=10, label='optimal portfolio')\n",
    "plt.legend(loc=0)\n",
    "plt.ylim(0)\n",
    "plt.xlabel('expected volatility')\n",
    "plt.ylabel('expected return')"
   ]
  },
  {
   "cell_type": "markdown",
   "metadata": {},
   "source": [
    "Portfolio return and risk of the efficient portfolio used are:"
   ]
  },
  {
   "cell_type": "code",
   "execution_count": 32,
   "metadata": {
    "collapsed": false
   },
   "outputs": [
    {
     "data": {
      "text/plain": [
       "0.23779804830709764"
      ]
     },
     "execution_count": 32,
     "metadata": {},
     "output_type": "execute_result"
    }
   ],
   "source": [
    "optr"
   ]
  },
  {
   "cell_type": "code",
   "execution_count": 33,
   "metadata": {
    "collapsed": false
   },
   "outputs": [
    {
     "data": {
      "text/plain": [
       "0.23758786292012518"
      ]
     },
     "execution_count": 33,
     "metadata": {},
     "output_type": "execute_result"
    }
   ],
   "source": [
    "optv"
   ]
  },
  {
   "cell_type": "markdown",
   "metadata": {},
   "source": [
    "The **portfolio composition** can be derived as follows."
   ]
  },
  {
   "cell_type": "code",
   "execution_count": 34,
   "metadata": {
    "collapsed": false
   },
   "outputs": [],
   "source": [
    "port.optimize('Vol', constraint=optr, constraint_type='Exact')"
   ]
  },
  {
   "cell_type": "code",
   "execution_count": 35,
   "metadata": {
    "collapsed": false
   },
   "outputs": [
    {
     "name": "stdout",
     "output_type": "stream",
     "text": [
      "Portfolio am_tech_stocks \n",
      "--------------------------\n",
      "return            0.238\n",
      "volatility        0.238\n",
      "Sharpe ratio      1.001\n",
      "\n",
      "Positions\n",
      "symbol | weight | ret. con. \n",
      "--------------------------- \n",
      "AAPL   |  0.532 |     0.116 \n",
      "GOOG   |  0.192 |     0.031 \n",
      "MSFT   |  0.000 |     0.000 \n",
      "FB     |  0.276 |     0.091 \n",
      "\n"
     ]
    }
   ],
   "source": [
    "print port"
   ]
  },
  {
   "cell_type": "markdown",
   "metadata": {},
   "source": [
    "Or also in this way."
   ]
  },
  {
   "cell_type": "code",
   "execution_count": 36,
   "metadata": {
    "collapsed": false
   },
   "outputs": [],
   "source": [
    "port.optimize('Return', constraint=optv, constraint_type='Exact')"
   ]
  },
  {
   "cell_type": "code",
   "execution_count": 37,
   "metadata": {
    "collapsed": false
   },
   "outputs": [
    {
     "name": "stdout",
     "output_type": "stream",
     "text": [
      "Portfolio am_tech_stocks \n",
      "--------------------------\n",
      "return            0.238\n",
      "volatility        0.238\n",
      "Sharpe ratio      1.001\n",
      "\n",
      "Positions\n",
      "symbol | weight | ret. con. \n",
      "--------------------------- \n",
      "AAPL   |  0.531 |     0.115 \n",
      "GOOG   |  0.193 |     0.031 \n",
      "MSFT   |  0.000 |     0.000 \n",
      "FB     |  0.276 |     0.092 \n",
      "\n"
     ]
    }
   ],
   "source": [
    "print port"
   ]
  },
  {
   "cell_type": "markdown",
   "metadata": {},
   "source": [
    "## Dow Jones Industrial Average"
   ]
  },
  {
   "cell_type": "markdown",
   "metadata": {},
   "source": [
    "As a larger, more realistic example, consider **all symbols of the Dow Jones Industrial Average 30 index**."
   ]
  },
  {
   "cell_type": "code",
   "execution_count": 38,
   "metadata": {
    "collapsed": false
   },
   "outputs": [],
   "source": [
    "symbols = ['AXP', 'BA', 'CAT', 'CSCO', 'CVX', 'DD', 'DIS', 'GE',\n",
    "    'GS', 'HD', 'IBM', 'INTC', 'JNJ', 'JPM', 'KO', 'MCD', 'MMM',\n",
    "    'MRK', 'MSFT', 'NKE', 'PFE', 'PG', 'T', 'TRV', 'UNH', 'UTX',\n",
    "    'V', 'VZ','WMT', 'XOM']\n",
    "  # all DJIA 30 symbols"
   ]
  },
  {
   "cell_type": "code",
   "execution_count": 39,
   "metadata": {
    "collapsed": false
   },
   "outputs": [],
   "source": [
    "ma = market_environment('ma', dt.date(2010, 1, 1))\n",
    "ma.add_list('symbols', symbols)\n",
    "ma.add_constant('source', 'google')\n",
    "ma.add_constant('final date', dt.date(2014, 3, 1))"
   ]
  },
  {
   "cell_type": "markdown",
   "metadata": {},
   "source": [
    "**Data retrieval** in this case takes a bit."
   ]
  },
  {
   "cell_type": "code",
   "execution_count": 40,
   "metadata": {
    "collapsed": false
   },
   "outputs": [
    {
     "name": "stdout",
     "output_type": "stream",
     "text": [
      "Can not find data for source google and symbol DIS.\n",
      "Will try other source.\n",
      "Can not find data for source google and symbol MMM.\n",
      "Will try other source.\n",
      "CPU times: user 1.48 s, sys: 36 ms, total: 1.51 s\n",
      "Wall time: 8.21 s\n"
     ]
    }
   ],
   "source": [
    "%%time\n",
    "djia = mean_variance_portfolio('djia', ma)\n",
    "  # defining the portfolio and retrieving the data"
   ]
  },
  {
   "cell_type": "code",
   "execution_count": 41,
   "metadata": {
    "collapsed": false
   },
   "outputs": [
    {
     "name": "stdout",
     "output_type": "stream",
     "text": [
      "0.00868910595895 0.0932153740482\n",
      "CPU times: user 192 ms, sys: 1 ms, total: 193 ms\n",
      "Wall time: 192 ms\n"
     ]
    }
   ],
   "source": [
    "%%time\n",
    "djia.optimize('Vol')\n",
    "print djia.variance, djia.variance ** 0.5\n",
    "  # minimium variance & volatility in decimals"
   ]
  },
  {
   "cell_type": "markdown",
   "metadata": {},
   "source": [
    "Given the larger data set now used, **efficient frontier** ..."
   ]
  },
  {
   "cell_type": "code",
   "execution_count": 42,
   "metadata": {
    "collapsed": false
   },
   "outputs": [
    {
     "name": "stdout",
     "output_type": "stream",
     "text": [
      "CPU times: user 8.8 s, sys: 1 ms, total: 8.8 s\n",
      "Wall time: 8.8 s\n"
     ]
    }
   ],
   "source": [
    "%%time\n",
    "evols, erets = djia.get_efficient_frontier(25)\n",
    "  # efficient frontier of DJIA"
   ]
  },
  {
   "cell_type": "markdown",
   "metadata": {},
   "source": [
    "... and **capital market line** derivations take also longer."
   ]
  },
  {
   "cell_type": "code",
   "execution_count": 43,
   "metadata": {
    "collapsed": false
   },
   "outputs": [
    {
     "name": "stdout",
     "output_type": "stream",
     "text": [
      "CPU times: user 31.6 s, sys: 1 ms, total: 31.6 s\n",
      "Wall time: 31.6 s\n"
     ]
    }
   ],
   "source": [
    "%%time\n",
    "cml, optv, optr = djia.get_capital_market_line(riskless_asset=0.01)\n",
    "  # capital market line and optimal (tangent) portfolio"
   ]
  },
  {
   "cell_type": "code",
   "execution_count": 44,
   "metadata": {
    "collapsed": false
   },
   "outputs": [
    {
     "data": {
      "text/plain": [
       "<matplotlib.text.Text at 0x7f0a030c6790>"
      ]
     },
     "execution_count": 44,
     "metadata": {},
     "output_type": "execute_result"
    },
    {
     "data": {
      "image/png": "[encoded data removed]",
      "text/plain": [
       "<matplotlib.figure.Figure at 0x7f0a02fbf810>"
      ]
     },
     "metadata": {},
     "output_type": "display_data"
    }
   ],
   "source": [
    "plt.figure(figsize=(10, 6))\n",
    "plt.plot(evols, erets, lw=2.0, label='efficient frontier')\n",
    "plt.plot((0, 0.4), (cml(0), cml(0.4)), lw=2.0, label='capital market line')\n",
    "plt.plot(optv, optr, 'r*', markersize=10, label='optimal portfolio')\n",
    "plt.legend(loc=0)\n",
    "plt.ylim(0)\n",
    "plt.xlabel('expected volatility')\n",
    "plt.ylabel('expected return')"
   ]
  },
  {
   "cell_type": "markdown",
   "metadata": {},
   "source": [
    "**Copyright, License & Disclaimer**\n",
    "\n",
    "&copy; Dr. Yves J. Hilpisch | The Python Quants GmbH\n",
    "\n",
    "DX Analytics (the \"dx library\") is licensed under the GNU Affero General Public License\n",
    "version 3 or later (see [http://www.gnu.org/licenses/](http://www.gnu.org/licenses/)).\n",
    "\n",
    "DX Analytics comes with no representations\n",
    "or warranties, to the extent permitted by applicable law.\n",
    "\n",
    "\n",
    "<img src=\"http://hilpisch.com/tpq_logo.png\" alt=\"The Python Quants\" width=\"35%\" align=\"right\" border=\"0\"><br>\n",
    "\n",
    "[http://tpq.io](http://tpq.io) | [team@tpq.io](mailto:team@tpq.io) | [http://twitter.com/dyjh](http://twitter.com/dyjh)\n",
    "\n",
    "**Quant Platform** |\n",
    "[http://quant-platform.com](http://quant-platform.com)\n",
    "\n",
    "**Derivatives Analytics with Python (Wiley Finance)** |\n",
    "[http://derivatives-analytics-with-python.com](http://derivatives-analytics-with-python.com)\n",
    "\n",
    "**Python for Finance (O'Reilly)** |\n",
    "[http://python-for-finance.com](http://python-for-finance.com)"
   ]
  }
 ],
 "metadata": {
  "kernelspec": {
   "display_name": "Python 2",
   "language": "python2",
   "name": "python2"
  },
  "language_info": {
   "codemirror_mode": {
    "name": "ipython",
    "version": 2
   },
   "file_extension": ".py",
   "mimetype": "text/x-python",
   "name": "python",
   "nbconvert_exporter": "python",
   "pygments_lexer": "ipython2",
   "version": "2.7.10"
  }
 },
 "nbformat": 4,
 "nbformat_minor": 0
}
