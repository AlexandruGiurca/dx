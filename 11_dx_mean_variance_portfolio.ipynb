{
 "metadata": {
  "name": "",
  "signature": "sha256:40480cffa87b34ca82672e873a8b0a2beba3c45036aad21dfe929752980e9a77"
 },
 "nbformat": 3,
 "nbformat_minor": 0,
 "worksheets": [
  {
   "cells": [
    {
     "cell_type": "markdown",
     "metadata": {},
     "source": [
      "<img src=\"http://hilpisch.com/tpq_logo.png\" alt=\"The Python Quants\" width=\"45%\" align=\"right\" border=\"4\">"
     ]
    },
    {
     "cell_type": "heading",
     "level": 1,
     "metadata": {},
     "source": [
      "Mean-Variance Portfolio Class"
     ]
    },
    {
     "cell_type": "markdown",
     "metadata": {},
     "source": [
      "Without doubt, the Markowitz (1952) **mean-variance portfolio theory** is a cornerstone of modern financial theory. This section illustrates the use of the `mean_variance_portfolio` class to implement this approach."
     ]
    },
    {
     "cell_type": "code",
     "collapsed": false,
     "input": [
      "from dx import *"
     ],
     "language": "python",
     "metadata": {},
     "outputs": [],
     "prompt_number": 1
    },
    {
     "cell_type": "heading",
     "level": 2,
     "metadata": {},
     "source": [
      "Market Environment and Portfolio Object"
     ]
    },
    {
     "cell_type": "markdown",
     "metadata": {},
     "source": [
      "We start by instantiating a `market environment` object which in particular contains a list of **ticker symbols** in which we are interested in."
     ]
    },
    {
     "cell_type": "code",
     "collapsed": false,
     "input": [
      "ma = market_environment('ma', dt.date(2010, 1, 1))\n",
      "ma.add_list('symbols', ['AAPL', 'GOOG', 'MSFT', 'FB'])\n",
      "ma.add_constant('source', 'google')\n",
      "ma.add_constant('final date', dt.date(2014, 3, 1))"
     ],
     "language": "python",
     "metadata": {},
     "outputs": [],
     "prompt_number": 2
    },
    {
     "cell_type": "markdown",
     "metadata": {},
     "source": [
      "Using pandas under the hood, the class **retrieves historial stock price data** from either Yahoo! Finance of Google."
     ]
    },
    {
     "cell_type": "code",
     "collapsed": false,
     "input": [
      "%%time\n",
      "port = mean_variance_portfolio('am_tech_stocks', ma)\n",
      "  # instantiates the portfolio class\n",
      "  # and retrieves all the time series data needed"
     ],
     "language": "python",
     "metadata": {},
     "outputs": [
      {
       "output_type": "stream",
       "stream": "stdout",
       "text": [
        "CPU times: user 348 ms, sys: 16 ms, total: 364 ms\n",
        "Wall time: 2.08 s\n"
       ]
      }
     ],
     "prompt_number": 3
    },
    {
     "cell_type": "heading",
     "level": 2,
     "metadata": {},
     "source": [
      "Basic Statistics"
     ]
    },
    {
     "cell_type": "markdown",
     "metadata": {},
     "source": [
      "Since no **portfolio weights** have been provided, the class defaults to equal weights."
     ]
    },
    {
     "cell_type": "code",
     "collapsed": false,
     "input": [
      "port.get_weights()\n",
      "  # defaults to equal weights"
     ],
     "language": "python",
     "metadata": {},
     "outputs": [
      {
       "metadata": {},
       "output_type": "pyout",
       "prompt_number": 4,
       "text": [
        "{'AAPL': 0.25, 'FB': 0.25, 'GOOG': 0.25, 'MSFT': 0.25}"
       ]
      }
     ],
     "prompt_number": 4
    },
    {
     "cell_type": "markdown",
     "metadata": {},
     "source": [
      "Given these weights you can calculate the **portfolio return** via the method `get_portfolio_return`."
     ]
    },
    {
     "cell_type": "code",
     "collapsed": false,
     "input": [
      "port.get_portfolio_return()\n",
      "  # expected (= historical mean) return"
     ],
     "language": "python",
     "metadata": {},
     "outputs": [
      {
       "metadata": {},
       "output_type": "pyout",
       "prompt_number": 5,
       "text": [
        "0.19012032495905895"
       ]
      }
     ],
     "prompt_number": 5
    },
    {
     "cell_type": "markdown",
     "metadata": {},
     "source": [
      "Analogously, you can call `get_portfolio_variance` to get the historical **portfolio variance**."
     ]
    },
    {
     "cell_type": "code",
     "collapsed": false,
     "input": [
      "port.get_portfolio_variance()\n",
      "  # expected (= historical) variance"
     ],
     "language": "python",
     "metadata": {},
     "outputs": [
      {
       "metadata": {},
       "output_type": "pyout",
       "prompt_number": 6,
       "text": [
        "0.043145879775030503"
       ]
      }
     ],
     "prompt_number": 6
    },
    {
     "cell_type": "markdown",
     "metadata": {},
     "source": [
      "The class also has a neatly printable `string` representation."
     ]
    },
    {
     "cell_type": "code",
     "collapsed": false,
     "input": [
      "print port\n",
      "  # ret. con. is \"return contribution\"\n",
      "  # given the mean return and the weight\n",
      "  # of the security"
     ],
     "language": "python",
     "metadata": {},
     "outputs": [
      {
       "output_type": "stream",
       "stream": "stdout",
       "text": [
        "Portfolio am_tech_stocks \n",
        "--------------------------\n",
        "return            0.190\n",
        "volatility        0.208\n",
        "Sharpe ratio      0.915\n",
        "\n",
        "Positions\n",
        "symbol | weight | ret. con. \n",
        "--------------------------- \n",
        "AAPL   |  0.250 |     0.054 \n",
        "GOOG   |  0.250 |     0.040 \n",
        "MSFT   |  0.250 |     0.013 \n",
        "FB     |  0.250 |     0.083 \n",
        "\n"
       ]
      }
     ],
     "prompt_number": 7
    },
    {
     "cell_type": "heading",
     "level": 2,
     "metadata": {},
     "source": [
      "Setting Weights"
     ]
    },
    {
     "cell_type": "markdown",
     "metadata": {},
     "source": [
      "Via the method `set_weights` the weights of the single portfolio components can be adjusted."
     ]
    },
    {
     "cell_type": "code",
     "collapsed": false,
     "input": [
      "port.set_weights([0.6, 0.2, 0.1, 0.1])"
     ],
     "language": "python",
     "metadata": {},
     "outputs": [],
     "prompt_number": 8
    },
    {
     "cell_type": "code",
     "collapsed": false,
     "input": [
      "print port"
     ],
     "language": "python",
     "metadata": {},
     "outputs": [
      {
       "output_type": "stream",
       "stream": "stdout",
       "text": [
        "Portfolio am_tech_stocks \n",
        "--------------------------\n",
        "return            0.201\n",
        "volatility        0.216\n",
        "Sharpe ratio      0.927\n",
        "\n",
        "Positions\n",
        "symbol | weight | ret. con. \n",
        "--------------------------- \n",
        "AAPL   |  0.600 |     0.130 \n",
        "GOOG   |  0.200 |     0.032 \n",
        "MSFT   |  0.100 |     0.005 \n",
        "FB     |  0.100 |     0.033 \n",
        "\n"
       ]
      }
     ],
     "prompt_number": 9
    },
    {
     "cell_type": "markdown",
     "metadata": {},
     "source": [
      "You cal also easily **check results for different weights** with changing the attribute values of an object."
     ]
    },
    {
     "cell_type": "code",
     "collapsed": false,
     "input": [
      "port.test_weights([0.6, 0.2, 0.1, 0.1])\n",
      "    # returns av. return + vol + Sharp ratio\n",
      "    # without setting new weights"
     ],
     "language": "python",
     "metadata": {},
     "outputs": [
      {
       "metadata": {},
       "output_type": "pyout",
       "prompt_number": 10,
       "text": [
        "array([ 0.20064395,  0.21644491,  0.92699775])"
       ]
      }
     ],
     "prompt_number": 10
    },
    {
     "cell_type": "markdown",
     "metadata": {},
     "source": [
      "Let us implement a **Monte Carlo simulation** over potential portfolio weights."
     ]
    },
    {
     "cell_type": "code",
     "collapsed": false,
     "input": [
      "# Monte Carlo simulation of portfolio compositions\n",
      "rets = []\n",
      "vols = []\n",
      "\n",
      "for w in range(500):\n",
      "    weights = np.random.random(4)\n",
      "    weights /= sum(weights)\n",
      "    r, v, sr = port.test_weights(weights)\n",
      "    rets.append(r)\n",
      "    vols.append(v)\n",
      "\n",
      "rets = np.array(rets)\n",
      "vols = np.array(vols)"
     ],
     "language": "python",
     "metadata": {},
     "outputs": [],
     "prompt_number": 11
    },
    {
     "cell_type": "markdown",
     "metadata": {},
     "source": [
      "And the simulation results **visualized**."
     ]
    },
    {
     "cell_type": "code",
     "collapsed": false,
     "input": [
      "import matplotlib.pyplot as plt\n",
      "%matplotlib inline\n",
      "plt.scatter(vols, rets, c=rets / vols, marker='o')\n",
      "plt.grid(True)\n",
      "plt.xlabel('expected volatility')\n",
      "plt.ylabel('expected return')\n",
      "plt.colorbar(label='Sharpe ratio')"
     ],
     "language": "python",
     "metadata": {},
     "outputs": [
      {
       "metadata": {},
       "output_type": "pyout",
       "prompt_number": 12,
       "text": [
        "<matplotlib.colorbar.Colorbar instance at 0x7ff1484702d8>"
       ]
      },
      {
       "metadata": {},
       "output_type": "display_data",
       "png": "[encoded data removed]",
       "text": [
        "<matplotlib.figure.Figure at 0x7ff148426450>"
       ]
      }
     ],
     "prompt_number": 12
    },
    {
     "cell_type": "heading",
     "level": 2,
     "metadata": {},
     "source": [
      "Optimizing Portfolio Composition"
     ]
    },
    {
     "cell_type": "markdown",
     "metadata": {},
     "source": [
      "One of the major application areas of the mean-variance portfolio theory and therewith of this DX Analytics class it the **optimization of the portfolio composition**. Different target functions can be used to this end."
     ]
    },
    {
     "cell_type": "heading",
     "level": 3,
     "metadata": {},
     "source": [
      "Return"
     ]
    },
    {
     "cell_type": "markdown",
     "metadata": {},
     "source": [
      "The first target function might be the **portfolio return**."
     ]
    },
    {
     "cell_type": "code",
     "collapsed": false,
     "input": [
      "port.optimize('Return')\n",
      "  # maximizes expected return of portfolio\n",
      "  # no volatility constraint"
     ],
     "language": "python",
     "metadata": {},
     "outputs": [],
     "prompt_number": 13
    },
    {
     "cell_type": "code",
     "collapsed": false,
     "input": [
      "print port"
     ],
     "language": "python",
     "metadata": {},
     "outputs": [
      {
       "output_type": "stream",
       "stream": "stdout",
       "text": [
        "Portfolio am_tech_stocks \n",
        "--------------------------\n",
        "return            0.332\n",
        "volatility        0.523\n",
        "Sharpe ratio      0.635\n",
        "\n",
        "Positions\n",
        "symbol | weight | ret. con. \n",
        "--------------------------- \n",
        "AAPL   |  0.000 |     0.000 \n",
        "GOOG   | -0.000 |     0.000 \n",
        "MSFT   |  0.000 |     0.000 \n",
        "FB     |  1.000 |     0.332 \n",
        "\n"
       ]
      }
     ],
     "prompt_number": 14
    },
    {
     "cell_type": "markdown",
     "metadata": {},
     "source": [
      "Instead of maximizing the portfolio return without any constraints, you can also set a (sensible/possible) **maximum target volatility** level as a constraint. Both, in an **exact sense** (\"equality constraint\") ..."
     ]
    },
    {
     "cell_type": "code",
     "collapsed": false,
     "input": [
      "port.optimize('Return', constraint=0.225, constraint_type='Exact')\n",
      "  # interpretes volatility constraint as equality"
     ],
     "language": "python",
     "metadata": {},
     "outputs": [],
     "prompt_number": 15
    },
    {
     "cell_type": "code",
     "collapsed": false,
     "input": [
      "print port"
     ],
     "language": "python",
     "metadata": {},
     "outputs": [
      {
       "output_type": "stream",
       "stream": "stdout",
       "text": [
        "Portfolio am_tech_stocks \n",
        "--------------------------\n",
        "return            0.226\n",
        "volatility        0.225\n",
        "Sharpe ratio      1.005\n",
        "\n",
        "Positions\n",
        "symbol | weight | ret. con. \n",
        "--------------------------- \n",
        "AAPL   |  0.481 |     0.104 \n",
        "GOOG   |  0.294 |     0.047 \n",
        "MSFT   |  0.000 |     0.000 \n",
        "FB     |  0.225 |     0.075 \n",
        "\n"
       ]
      }
     ],
     "prompt_number": 16
    },
    {
     "cell_type": "markdown",
     "metadata": {},
     "source": [
      "... or just a an **upper bound** (\"inequality constraint\")."
     ]
    },
    {
     "cell_type": "code",
     "collapsed": false,
     "input": [
      "port.optimize('Return', constraint=0.4, constraint_type='Bound')\n",
      "  # interpretes volatility constraint as inequality (upper bound)"
     ],
     "language": "python",
     "metadata": {},
     "outputs": [],
     "prompt_number": 17
    },
    {
     "cell_type": "code",
     "collapsed": false,
     "input": [
      "print port"
     ],
     "language": "python",
     "metadata": {},
     "outputs": [
      {
       "output_type": "stream",
       "stream": "stdout",
       "text": [
        "Portfolio am_tech_stocks \n",
        "--------------------------\n",
        "return            0.302\n",
        "volatility        0.400\n",
        "Sharpe ratio      0.756\n",
        "\n",
        "Positions\n",
        "symbol | weight | ret. con. \n",
        "--------------------------- \n",
        "AAPL   |  0.258 |     0.056 \n",
        "GOOG   |  0.000 |     0.000 \n",
        "MSFT   | -0.000 |     0.000 \n",
        "FB     |  0.742 |     0.246 \n",
        "\n"
       ]
      }
     ],
     "prompt_number": 18
    },
    {
     "cell_type": "heading",
     "level": 3,
     "metadata": {},
     "source": [
      "Risk"
     ]
    },
    {
     "cell_type": "markdown",
     "metadata": {},
     "source": [
      "The class also allows you to minimize **portfolio risk**."
     ]
    },
    {
     "cell_type": "code",
     "collapsed": false,
     "input": [
      "port.optimize('Vol')\n",
      "  # minimizes expected volatility of portfolio\n",
      "  # no return constraint"
     ],
     "language": "python",
     "metadata": {},
     "outputs": [],
     "prompt_number": 19
    },
    {
     "cell_type": "code",
     "collapsed": false,
     "input": [
      "print port"
     ],
     "language": "python",
     "metadata": {},
     "outputs": [
      {
       "output_type": "stream",
       "stream": "stdout",
       "text": [
        "Portfolio am_tech_stocks \n",
        "--------------------------\n",
        "return            0.140\n",
        "volatility        0.187\n",
        "Sharpe ratio      0.747\n",
        "\n",
        "Positions\n",
        "symbol | weight | ret. con. \n",
        "--------------------------- \n",
        "AAPL   |  0.211 |     0.046 \n",
        "GOOG   |  0.248 |     0.040 \n",
        "MSFT   |  0.448 |     0.023 \n",
        "FB     |  0.093 |     0.031 \n",
        "\n"
       ]
      }
     ],
     "prompt_number": 20
    },
    {
     "cell_type": "markdown",
     "metadata": {},
     "source": [
      "And, as before, to set **constraints** (in this case) for the target return level."
     ]
    },
    {
     "cell_type": "code",
     "collapsed": false,
     "input": [
      "port.optimize('Vol', constraint=0.175, constraint_type='Exact')\n",
      "  # interpretes return constraint as equality"
     ],
     "language": "python",
     "metadata": {},
     "outputs": [],
     "prompt_number": 21
    },
    {
     "cell_type": "code",
     "collapsed": false,
     "input": [
      "print port"
     ],
     "language": "python",
     "metadata": {},
     "outputs": [
      {
       "output_type": "stream",
       "stream": "stdout",
       "text": [
        "Portfolio am_tech_stocks \n",
        "--------------------------\n",
        "return            0.175\n",
        "volatility        0.194\n",
        "Sharpe ratio      0.904\n",
        "\n",
        "Positions\n",
        "symbol | weight | ret. con. \n",
        "--------------------------- \n",
        "AAPL   |  0.318 |     0.069 \n",
        "GOOG   |  0.282 |     0.045 \n",
        "MSFT   |  0.256 |     0.013 \n",
        "FB     |  0.143 |     0.048 \n",
        "\n"
       ]
      }
     ],
     "prompt_number": 22
    },
    {
     "cell_type": "code",
     "collapsed": false,
     "input": [
      "port.optimize('Vol', constraint=0.20, constraint_type='Bound')\n",
      "  # interpretes return constraint as inequality (upper bound)"
     ],
     "language": "python",
     "metadata": {},
     "outputs": [],
     "prompt_number": 23
    },
    {
     "cell_type": "code",
     "collapsed": false,
     "input": [
      "print port"
     ],
     "language": "python",
     "metadata": {},
     "outputs": [
      {
       "output_type": "stream",
       "stream": "stdout",
       "text": [
        "Portfolio am_tech_stocks \n",
        "--------------------------\n",
        "return            0.200\n",
        "volatility        0.206\n",
        "Sharpe ratio      0.970\n",
        "\n",
        "Positions\n",
        "symbol | weight | ret. con. \n",
        "--------------------------- \n",
        "AAPL   |  0.397 |     0.086 \n",
        "GOOG   |  0.301 |     0.048 \n",
        "MSFT   |  0.123 |     0.006 \n",
        "FB     |  0.179 |     0.059 \n",
        "\n"
       ]
      }
     ],
     "prompt_number": 24
    },
    {
     "cell_type": "heading",
     "level": 3,
     "metadata": {},
     "source": [
      "Sharpe Ratio"
     ]
    },
    {
     "cell_type": "markdown",
     "metadata": {},
     "source": [
      "Often, the target of the portfolio optimization efforts is the so called **Sharpe ratio**. The `mean_variance_portfolio` class of DX Analytics assumes a **risk-free rate of zero** in this context."
     ]
    },
    {
     "cell_type": "code",
     "collapsed": false,
     "input": [
      "port.optimize('Sharpe')\n",
      "  # maximize Sharpe ratio"
     ],
     "language": "python",
     "metadata": {},
     "outputs": [],
     "prompt_number": 25
    },
    {
     "cell_type": "code",
     "collapsed": false,
     "input": [
      "print port"
     ],
     "language": "python",
     "metadata": {},
     "outputs": [
      {
       "output_type": "stream",
       "stream": "stdout",
       "text": [
        "Portfolio am_tech_stocks \n",
        "--------------------------\n",
        "return            0.229\n",
        "volatility        0.228\n",
        "Sharpe ratio      1.006\n",
        "\n",
        "Positions\n",
        "symbol | weight | ret. con. \n",
        "--------------------------- \n",
        "AAPL   |  0.493 |     0.107 \n",
        "GOOG   |  0.268 |     0.043 \n",
        "MSFT   |  0.000 |     0.000 \n",
        "FB     |  0.238 |     0.079 \n",
        "\n"
       ]
      }
     ],
     "prompt_number": 26
    },
    {
     "cell_type": "heading",
     "level": 2,
     "metadata": {},
     "source": [
      "Efficient Frontier"
     ]
    },
    {
     "cell_type": "markdown",
     "metadata": {},
     "source": [
      "Another application area is to derive the **efficient frontier** in the mean-variance space. These are all these portfolios for which there is **no portfolio with both lower risk and higher return**. The method `get_efficient_frontier` yields the desired results."
     ]
    },
    {
     "cell_type": "code",
     "collapsed": false,
     "input": [
      "%%time\n",
      "evols, erets = port.get_efficient_frontier(100)\n",
      "  # 100 points of the effient frontier"
     ],
     "language": "python",
     "metadata": {},
     "outputs": [
      {
       "output_type": "stream",
       "stream": "stdout",
       "text": [
        "CPU times: user 3.5 s, sys: 0 ns, total: 3.5 s\n",
        "Wall time: 3.5 s\n"
       ]
      }
     ],
     "prompt_number": 27
    },
    {
     "cell_type": "markdown",
     "metadata": {},
     "source": [
      "The plot with the **random and efficient portfolios**."
     ]
    },
    {
     "cell_type": "code",
     "collapsed": false,
     "input": [
      "plt.scatter(vols, rets, c=rets / vols, marker='o')\n",
      "plt.scatter(evols, erets, c=erets / evols, marker='x')\n",
      "plt.grid(True)\n",
      "plt.xlabel('expected volatility')\n",
      "plt.ylabel('expected return')\n",
      "plt.colorbar(label='Sharpe ratio')"
     ],
     "language": "python",
     "metadata": {},
     "outputs": [
      {
       "metadata": {},
       "output_type": "pyout",
       "prompt_number": 28,
       "text": [
        "<matplotlib.colorbar.Colorbar instance at 0x7ff147822488>"
       ]
      },
      {
       "metadata": {},
       "output_type": "display_data",
       "png": "[encoded data removed]",
       "text": [
        "<matplotlib.figure.Figure at 0x7ff147a87f50>"
       ]
      }
     ],
     "prompt_number": 28
    },
    {
     "cell_type": "heading",
     "level": 2,
     "metadata": {},
     "source": [
      "Capital Market Line"
     ]
    },
    {
     "cell_type": "markdown",
     "metadata": {},
     "source": [
      "The **capital market line** is another key element of the mean-variance portfolio approach representing all those risk-return combinations (in mean-variance space) that are possible to form from a **risk-less money market account** and **the market portfolio** (or another appropriate substitute efficient portfolio)."
     ]
    },
    {
     "cell_type": "code",
     "collapsed": false,
     "input": [
      "%%time\n",
      "cml, optv, optr = port.get_capital_market_line(riskless_asset=0.05)\n",
      "  # capital market line for effiecient frontier and risk-less short rate"
     ],
     "language": "python",
     "metadata": {},
     "outputs": [
      {
       "output_type": "stream",
       "stream": "stdout",
       "text": [
        "CPU times: user 3.48 s, sys: 0 ns, total: 3.48 s\n",
        "Wall time: 3.48 s\n"
       ]
      }
     ],
     "prompt_number": 29
    },
    {
     "cell_type": "code",
     "collapsed": false,
     "input": [
      "cml  # lambda function for capital market line"
     ],
     "language": "python",
     "metadata": {},
     "outputs": [
      {
       "metadata": {},
       "output_type": "pyout",
       "prompt_number": 30,
       "text": [
        "<function dx.dx_portfolio.<lambda>>"
       ]
      }
     ],
     "prompt_number": 30
    },
    {
     "cell_type": "markdown",
     "metadata": {},
     "source": [
      "The following plot illustrates that the capital market line has an ordinate value equal to the **risk-free rate** (the safe return of the money market account) and is tangent to the **efficient frontier**."
     ]
    },
    {
     "cell_type": "code",
     "collapsed": false,
     "input": [
      "plt.figure(figsize=(8, 4))\n",
      "plt.plot(evols, erets, lw=2.0, label='efficient frontier')\n",
      "plt.plot((0, 0.4), (cml(0), cml(0.4)), lw=2.0, label='capital market line')\n",
      "plt.plot(optv, optr, 'r*', markersize=10, label='optimal portfolio')\n",
      "plt.legend(loc=0)\n",
      "plt.grid(True)\n",
      "plt.ylim(0)\n",
      "plt.xlabel('expected volatility')\n",
      "plt.ylabel('expected return')"
     ],
     "language": "python",
     "metadata": {},
     "outputs": [
      {
       "metadata": {},
       "output_type": "pyout",
       "prompt_number": 31,
       "text": [
        "<matplotlib.text.Text at 0x7ff147795a10>"
       ]
      },
      {
       "metadata": {},
       "output_type": "display_data",
       "png": "[encoded data removed]",
       "text": [
        "<matplotlib.figure.Figure at 0x7ff14783e190>"
       ]
      }
     ],
     "prompt_number": 31
    },
    {
     "cell_type": "markdown",
     "metadata": {},
     "source": [
      "Portfolio return and risk of the efficient portfolio used are:"
     ]
    },
    {
     "cell_type": "code",
     "collapsed": false,
     "input": [
      "optr"
     ],
     "language": "python",
     "metadata": {},
     "outputs": [
      {
       "metadata": {},
       "output_type": "pyout",
       "prompt_number": 32,
       "text": [
        "0.23779804830709764"
       ]
      }
     ],
     "prompt_number": 32
    },
    {
     "cell_type": "code",
     "collapsed": false,
     "input": [
      "optv"
     ],
     "language": "python",
     "metadata": {},
     "outputs": [
      {
       "metadata": {},
       "output_type": "pyout",
       "prompt_number": 33,
       "text": [
        "0.23758786292012518"
       ]
      }
     ],
     "prompt_number": 33
    },
    {
     "cell_type": "markdown",
     "metadata": {},
     "source": [
      "The **portfolio composition** can be derived as follows."
     ]
    },
    {
     "cell_type": "code",
     "collapsed": false,
     "input": [
      "port.optimize('Vol', constraint=optr, constraint_type='Exact')"
     ],
     "language": "python",
     "metadata": {},
     "outputs": [],
     "prompt_number": 34
    },
    {
     "cell_type": "code",
     "collapsed": false,
     "input": [
      "print port"
     ],
     "language": "python",
     "metadata": {},
     "outputs": [
      {
       "output_type": "stream",
       "stream": "stdout",
       "text": [
        "Portfolio am_tech_stocks \n",
        "--------------------------\n",
        "return            0.238\n",
        "volatility        0.238\n",
        "Sharpe ratio      1.001\n",
        "\n",
        "Positions\n",
        "symbol | weight | ret. con. \n",
        "--------------------------- \n",
        "AAPL   |  0.532 |     0.116 \n",
        "GOOG   |  0.192 |     0.031 \n",
        "MSFT   |  0.000 |     0.000 \n",
        "FB     |  0.276 |     0.091 \n",
        "\n"
       ]
      }
     ],
     "prompt_number": 35
    },
    {
     "cell_type": "markdown",
     "metadata": {},
     "source": [
      "Or also in this way."
     ]
    },
    {
     "cell_type": "code",
     "collapsed": false,
     "input": [
      "port.optimize('Return', constraint=optv, constraint_type='Exact')"
     ],
     "language": "python",
     "metadata": {},
     "outputs": [],
     "prompt_number": 36
    },
    {
     "cell_type": "code",
     "collapsed": false,
     "input": [
      "print port"
     ],
     "language": "python",
     "metadata": {},
     "outputs": [
      {
       "output_type": "stream",
       "stream": "stdout",
       "text": [
        "Portfolio am_tech_stocks \n",
        "--------------------------\n",
        "return            0.238\n",
        "volatility        0.238\n",
        "Sharpe ratio      1.001\n",
        "\n",
        "Positions\n",
        "symbol | weight | ret. con. \n",
        "--------------------------- \n",
        "AAPL   |  0.531 |     0.115 \n",
        "GOOG   |  0.193 |     0.031 \n",
        "MSFT   |  0.000 |     0.000 \n",
        "FB     |  0.276 |     0.092 \n",
        "\n"
       ]
      }
     ],
     "prompt_number": 37
    },
    {
     "cell_type": "heading",
     "level": 2,
     "metadata": {},
     "source": [
      "Dow Jones Industrial Average"
     ]
    },
    {
     "cell_type": "markdown",
     "metadata": {},
     "source": [
      "As a larger, more realistic example, consider **all symbols of the Dow Jones Industrial Average 30 index**."
     ]
    },
    {
     "cell_type": "code",
     "collapsed": false,
     "input": [
      "symbols = ['AXP', 'BA', 'CAT', 'CSCO', 'CVX', 'DD', 'DIS', 'GE',\n",
      "    'GS', 'HD', 'IBM', 'INTC', 'JNJ', 'JPM', 'KO', 'MCD', 'MMM',\n",
      "    'MRK', 'MSFT', 'NKE', 'PFE', 'PG', 'T', 'TRV', 'UNH', 'UTX',\n",
      "    'V', 'VZ','WMT', 'XOM']\n",
      "  # all DJIA 30 symbols"
     ],
     "language": "python",
     "metadata": {},
     "outputs": [],
     "prompt_number": 38
    },
    {
     "cell_type": "code",
     "collapsed": false,
     "input": [
      "ma = market_environment('ma', dt.date(2010, 1, 1))\n",
      "ma.add_list('symbols', symbols)\n",
      "ma.add_constant('source', 'google')\n",
      "ma.add_constant('final date', dt.date(2014, 3, 1))"
     ],
     "language": "python",
     "metadata": {},
     "outputs": [],
     "prompt_number": 39
    },
    {
     "cell_type": "markdown",
     "metadata": {},
     "source": [
      "**Data retrieval** in this case takes a bit."
     ]
    },
    {
     "cell_type": "code",
     "collapsed": false,
     "input": [
      "%%time\n",
      "djia = mean_variance_portfolio('djia', ma)\n",
      "  # defining the portfolio and retrieving the data"
     ],
     "language": "python",
     "metadata": {},
     "outputs": [
      {
       "output_type": "stream",
       "stream": "stdout",
       "text": [
        "Can not find data for source google and symbol DIS.\n",
        "Will try other source.\n",
        "Can not find data for source google and symbol MMM."
       ]
      },
      {
       "output_type": "stream",
       "stream": "stdout",
       "text": [
        "\n",
        "Will try other source.\n",
        "CPU times: user 2.44 s, sys: 120 ms, total: 2.56 s"
       ]
      },
      {
       "output_type": "stream",
       "stream": "stdout",
       "text": [
        "\n",
        "Wall time: 13.9 s\n"
       ]
      }
     ],
     "prompt_number": 40
    },
    {
     "cell_type": "code",
     "collapsed": false,
     "input": [
      "%%time\n",
      "djia.optimize('Vol')\n",
      "print djia.variance, djia.variance ** 0.5\n",
      "  # minimium variance & volatility in decimals"
     ],
     "language": "python",
     "metadata": {},
     "outputs": [
      {
       "output_type": "stream",
       "stream": "stdout",
       "text": [
        "0.0085919556469 0.0926928025626\n",
        "CPU times: user 284 ms, sys: 4 ms, total: 288 ms\n",
        "Wall time: 288 ms\n"
       ]
      }
     ],
     "prompt_number": 41
    },
    {
     "cell_type": "markdown",
     "metadata": {},
     "source": [
      "Given the larger data set now used, **efficient frontier** ..."
     ]
    },
    {
     "cell_type": "code",
     "collapsed": false,
     "input": [
      "%%time\n",
      "evols, erets = djia.get_efficient_frontier(25)\n",
      "  # efficient frontier of DJIA"
     ],
     "language": "python",
     "metadata": {},
     "outputs": [
      {
       "output_type": "stream",
       "stream": "stdout",
       "text": [
        "CPU times: user 13.1 s, sys: 4 ms, total: 13.1 s\n",
        "Wall time: 13.1 s\n"
       ]
      }
     ],
     "prompt_number": 42
    },
    {
     "cell_type": "markdown",
     "metadata": {},
     "source": [
      "... and **capital market line** derivations take also longer."
     ]
    },
    {
     "cell_type": "code",
     "collapsed": false,
     "input": [
      "%%time\n",
      "cml, optv, optr = djia.get_capital_market_line(riskless_asset=0.01)\n",
      "  # capital market line and optimal (tangent) portfolio"
     ],
     "language": "python",
     "metadata": {},
     "outputs": [
      {
       "output_type": "stream",
       "stream": "stdout",
       "text": [
        "CPU times: user 47 s, sys: 4 ms, total: 47 s\n",
        "Wall time: 47 s\n"
       ]
      }
     ],
     "prompt_number": 43
    },
    {
     "cell_type": "code",
     "collapsed": false,
     "input": [
      "plt.figure(figsize=(8, 4))\n",
      "plt.plot(evols, erets, lw=2.0, label='efficient frontier')\n",
      "plt.plot((0, 0.4), (cml(0), cml(0.4)), lw=2.0, label='capital market line')\n",
      "plt.plot(optv, optr, 'r*', markersize=10, label='optimal portfolio')\n",
      "plt.legend(loc=0)\n",
      "plt.grid(True)\n",
      "plt.ylim(0)\n",
      "plt.xlabel('expected volatility')\n",
      "plt.ylabel('expected return')"
     ],
     "language": "python",
     "metadata": {},
     "outputs": [
      {
       "metadata": {},
       "output_type": "pyout",
       "prompt_number": 44,
       "text": [
        "<matplotlib.text.Text at 0x7ff1478474d0>"
       ]
      },
      {
       "metadata": {},
       "output_type": "display_data",
       "png": "[encoded data removed]",
       "text": [
        "<matplotlib.figure.Figure at 0x7ff147925ed0>"
       ]
      }
     ],
     "prompt_number": 44
    },
    {
     "cell_type": "markdown",
     "metadata": {},
     "source": [
      "**Copyright, License & Disclaimer**\n",
      "\n",
      "&copy; Dr. Yves J. Hilpisch | The Python Quants GmbH\n",
      "\n",
      "DX Analytics (the \"dx library\") is licensed under the GNU Affero General Public License\n",
      "version 3 or later (see <a href=\"http://www.gnu.org/licenses/\" target=\"_blank\">http://www.gnu.org/licenses/</a>).\n",
      "\n",
      "DX Analytics comes with no representations\n",
      "or warranties, to the extent permitted by applicable law.\n",
      "\n",
      "\n",
      "<img src=\"http://hilpisch.com/tpq_logo.png\" alt=\"The Python Quants\" width=\"35%\" align=\"right\" border=\"0\"><br>\n",
      "\n",
      "<a href=\"http://www.pythonquants.com\" target=\"_blank\">http://www.pythonquants.com</a> | <a href=\"mailto:analytics@pythonquants.com\">analytics@pythonquants.com</a> | <a href=\"http://twitter.com/dyjh\" target=\"_blank\">http://twitter.com/dyjh</a>\n",
      "\n",
      "**Python Quant Platform** |\n",
      "<a href=\"http://quant-platform.com\">http://quant-platform.com</a>\n",
      "\n",
      "**Derivatives Analytics with Python (Wiley Finance)** |\n",
      "<a href=\"http://derivatives-analytics-with-python.com\" target=\"_blank\">http://derivatives-analytics-with-python.com</a>\n",
      "\n",
      "**Python for Finance (O'Reilly)** |\n",
      "<a href=\"http://shop.oreilly.com/product/0636920032441.do\" target=\"_blank\">http://shop.oreilly.com/product/0636920032441.do</a>"
     ]
    }
   ],
   "metadata": {}
  }
 ]
}